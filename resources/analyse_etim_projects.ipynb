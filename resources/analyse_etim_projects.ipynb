{
 "cells": [
  {
   "cell_type": "code",
   "execution_count": 1,
   "metadata": {},
   "outputs": [
    {
     "name": "stdout",
     "output_type": "stream",
     "text": [
      "Found CSV files:\n",
      "['C:\\\\Users\\\\GaganReddy\\\\projects\\\\climatewise\\\\Projects\\\\Actual\\\\Analysis\\\\projectID Based\\\\etim_data\\\\batterymanufacturing_temp.csv', 'C:\\\\Users\\\\GaganReddy\\\\projects\\\\climatewise\\\\Projects\\\\Actual\\\\Analysis\\\\projectID Based\\\\etim_data\\\\biogas_temp.csv', 'C:\\\\Users\\\\GaganReddy\\\\projects\\\\climatewise\\\\Projects\\\\Actual\\\\Analysis\\\\projectID Based\\\\etim_data\\\\combined_cleaned_dataset.csv', 'C:\\\\Users\\\\GaganReddy\\\\projects\\\\climatewise\\\\Projects\\\\Actual\\\\Analysis\\\\projectID Based\\\\etim_data\\\\combined_dataset.csv', 'C:\\\\Users\\\\GaganReddy\\\\projects\\\\climatewise\\\\Projects\\\\Actual\\\\Analysis\\\\projectID Based\\\\etim_data\\\\distributedrpgeneration_temp.csv', 'C:\\\\Users\\\\GaganReddy\\\\projects\\\\climatewise\\\\Projects\\\\Actual\\\\Analysis\\\\projectID Based\\\\etim_data\\\\energystorage_temp.csv', 'C:\\\\Users\\\\GaganReddy\\\\projects\\\\climatewise\\\\Projects\\\\Actual\\\\Analysis\\\\projectID Based\\\\etim_data\\\\ethanolproduction_temp.csv', 'C:\\\\Users\\\\GaganReddy\\\\projects\\\\climatewise\\\\Projects\\\\Actual\\\\Analysis\\\\projectID Based\\\\etim_data\\\\greenhydrogen_temp.csv', 'C:\\\\Users\\\\GaganReddy\\\\projects\\\\climatewise\\\\Projects\\\\Actual\\\\Analysis\\\\projectID Based\\\\etim_data\\\\gridscaleregeneration_temp.csv', 'C:\\\\Users\\\\GaganReddy\\\\projects\\\\climatewise\\\\Projects\\\\Actual\\\\Analysis\\\\projectID Based\\\\etim_data\\\\solar_temp.csv']\n",
      "Successfully read: C:\\Users\\GaganReddy\\projects\\climatewise\\Projects\\Actual\\Analysis\\projectID Based\\etim_data\\batterymanufacturing_temp.csv, shape: (27, 17)\n",
      "Successfully read: C:\\Users\\GaganReddy\\projects\\climatewise\\Projects\\Actual\\Analysis\\projectID Based\\etim_data\\biogas_temp.csv, shape: (749, 14)\n",
      "Successfully read: C:\\Users\\GaganReddy\\projects\\climatewise\\Projects\\Actual\\Analysis\\projectID Based\\etim_data\\combined_cleaned_dataset.csv, shape: (1557, 13)\n",
      "Successfully read: C:\\Users\\GaganReddy\\projects\\climatewise\\Projects\\Actual\\Analysis\\projectID Based\\etim_data\\combined_dataset.csv, shape: (1622, 13)\n",
      "Successfully read: C:\\Users\\GaganReddy\\projects\\climatewise\\Projects\\Actual\\Analysis\\projectID Based\\etim_data\\distributedrpgeneration_temp.csv, shape: (198, 17)\n",
      "Successfully read: C:\\Users\\GaganReddy\\projects\\climatewise\\Projects\\Actual\\Analysis\\projectID Based\\etim_data\\energystorage_temp.csv, shape: (69, 18)\n",
      "Successfully read: C:\\Users\\GaganReddy\\projects\\climatewise\\Projects\\Actual\\Analysis\\projectID Based\\etim_data\\ethanolproduction_temp.csv, shape: (217, 14)\n",
      "Successfully read: C:\\Users\\GaganReddy\\projects\\climatewise\\Projects\\Actual\\Analysis\\projectID Based\\etim_data\\greenhydrogen_temp.csv, shape: (48, 17)\n",
      "Successfully read: C:\\Users\\GaganReddy\\projects\\climatewise\\Projects\\Actual\\Analysis\\projectID Based\\etim_data\\gridscaleregeneration_temp.csv, shape: (280, 16)\n",
      "Successfully read: C:\\Users\\GaganReddy\\projects\\climatewise\\Projects\\Actual\\Analysis\\projectID Based\\etim_data\\solar_temp.csv, shape: (34, 17)\n",
      "         Developersorted ascendingDeveloper Category  Unnamed: 1  \\\n",
      "0                Amara Raja Batteries LimitedPrivate         NaN   \n",
      "1                  Amperex Technology LimitedPrivate         NaN   \n",
      "2            Attero Recycling Private LimitedPrivate         NaN   \n",
      "3                                 C4V LimitedPrivate         NaN   \n",
      "4  Central Electro Chemical Research Institute (C...         NaN   \n",
      "\n",
      "                           Developersorted ascending Developer Category  \\\n",
      "0                       Amara Raja Batteries Limited            Private   \n",
      "1                         Amperex Technology Limited            Private   \n",
      "2                   Attero Recycling Private Limited            Private   \n",
      "3                                        C4V Limited            Private   \n",
      "4  Central Electro Chemical Research Institute (C...            Private   \n",
      "\n",
      "                                        Project Name  \\\n",
      "0  Amara raja batteries cell component manufactur...   \n",
      "1  Amperex technology's battery manufacturing pro...   \n",
      "2  Attero's project for lithium-ion battery recyc...   \n",
      "3  C4V's 5,000 GWh Lithium-ion cell manufacturing...   \n",
      "4    CECRI's lithium-ion battery manufacturing plant   \n",
      "\n",
      "                    Value Chain       State Capacity of cells (MW)  \\\n",
      "0   Cell and Pack Manufacturing   Telangana                  16500   \n",
      "1                 Pack Assembly     Haryana                     --   \n",
      "2                Pack Recycling   Telangana                     --   \n",
      "3  Cell/Component Manufacturing   Karnataka                   5000   \n",
      "4                 Pack Assembly  Tamil Nadu                     --   \n",
      "\n",
      "  Capacity (Battery/Year) Capacity (Tonnes/Year)  ... Capacity (MWhr)  \\\n",
      "0                      --                     --  ...             NaN   \n",
      "1                      --                     --  ...             NaN   \n",
      "2                      --                  15000  ...             NaN   \n",
      "3                      --                     --  ...             NaN   \n",
      "4                  365000                     --  ...             NaN   \n",
      "\n",
      "  Colocated/Standalone Capacity (KLPD) Manufacturing Capacity (MW/Year)  \\\n",
      "0                  NaN             NaN                              NaN   \n",
      "1                  NaN             NaN                              NaN   \n",
      "2                  NaN             NaN                              NaN   \n",
      "3                  NaN             NaN                              NaN   \n",
      "4                  NaN             NaN                              NaN   \n",
      "\n",
      "  GH-Devirative Production Capacity (Tons/Year)  \\\n",
      "0                                           NaN   \n",
      "1                                           NaN   \n",
      "2                                           NaN   \n",
      "3                                           NaN   \n",
      "4                                           NaN   \n",
      "\n",
      "  Electrolyser Installation Capacity (MW) SIGHT Status PPA Tariff (Rs./Kwhr)  \\\n",
      "0                                     NaN          NaN                   NaN   \n",
      "1                                     NaN          NaN                   NaN   \n",
      "2                                     NaN          NaN                   NaN   \n",
      "3                                     NaN          NaN                   NaN   \n",
      "4                                     NaN          NaN                   NaN   \n",
      "\n",
      "  Capacity of Ignot/Wafer (MW) Capacity of Module (MW)  \n",
      "0                          NaN                     NaN  \n",
      "1                          NaN                     NaN  \n",
      "2                          NaN                     NaN  \n",
      "3                          NaN                     NaN  \n",
      "4                          NaN                     NaN  \n",
      "\n",
      "[5 rows x 35 columns]\n"
     ]
    }
   ],
   "source": [
    "import pandas as pd\n",
    "import glob\n",
    "import os\n",
    "\n",
    "# Verify your CSV directory path\n",
    "csv_folder = r'C:\\Users\\GaganReddy\\projects\\climatewise\\Projects\\Actual\\Analysis\\projectID Based\\etim_data'  # <-- Replace this with actual path\n",
    "\n",
    "# Check if CSV files are found\n",
    "csv_files = glob.glob(os.path.join(csv_folder, '*.csv'))\n",
    "\n",
    "print(\"Found CSV files:\")\n",
    "print(csv_files)\n",
    "\n",
    "# List to store DataFrames\n",
    "dfs = []\n",
    "\n",
    "# Check each file individually\n",
    "for csv_file in csv_files:\n",
    "    try:\n",
    "        df = pd.read_csv(csv_file, encoding='utf-8', low_memory=False)\n",
    "        df['Source'] = os.path.basename(csv_file).replace('.csv', '')\n",
    "        dfs.append(df)\n",
    "        print(f\"Successfully read: {csv_file}, shape: {df.shape}\")\n",
    "    except Exception as e:\n",
    "        print(f\"Error reading file {csv_file}: {e}\")\n",
    "\n",
    "# Combine only if dfs has elements\n",
    "if dfs:\n",
    "    combined_df = pd.concat(dfs, ignore_index=True)\n",
    "    print(combined_df.head())\n",
    "else:\n",
    "    print(\"No dataframes to concatenate. Please check the CSV files.\")\n"
   ]
  },
  {
   "cell_type": "code",
   "execution_count": 2,
   "metadata": {},
   "outputs": [
    {
     "name": "stdout",
     "output_type": "stream",
     "text": [
      "Dataset Shapes and Columns:\n",
      "--------------------------------------------------\n",
      "\n",
      "BATTERY:\n",
      "Shape: (27, 16)\n",
      "Columns: ['Developersorted ascendingDeveloper Category', 'Unnamed: 1', 'Developersorted ascending', 'Developer Category', 'Project Name', 'Value Chain', 'State', 'Capacity of cells (MW)', 'Capacity (Battery/Year)', 'Capacity (Tonnes/Year)', 'Investment (USD Million)', 'PLI status', 'Project Status', 'Planned COD', 'Verfified by developer', 'Contact Developer']\n",
      "\n",
      "BIOGAS:\n",
      "Shape: (749, 13)\n",
      "Columns: ['Developersorted ascendingDeveloper Category', 'Unnamed: 1', 'Developersorted ascending', 'Developer Category', 'Project Name', 'Feedstock Type', 'State', 'Capacity (TPD)', 'Investment (USD Million)', 'Project Status', 'Planned COD', 'Verfified by developer', 'Contact Developer']\n",
      "\n",
      "DISTRIBUTED:\n",
      "Shape: (198, 16)\n",
      "Columns: ['Developersorted ascendingDeveloper Category', 'Unnamed: 1', 'Developersorted ascending', 'Developer Category', 'Project Name', 'Technology', 'State', 'Capacity (MW)', 'Investment (USD Million)', 'PPA Tariff (Rs./KWh)', 'Project Status', 'Business Model', 'Offtaker', 'Planned COD', 'Verfified by developer', 'Contact Developer']\n",
      "\n",
      "STORAGE:\n",
      "Shape: (69, 17)\n",
      "Columns: ['Developersorted ascendingDeveloper Category', 'Unnamed: 1', 'Developersorted ascending', 'Developer Category', 'Project Name', 'Technology', 'State', 'Capacity (MW)', 'Capacity (MWhr)', 'Investment (USD Million)', 'PPA Tariff (Rs./KWh)', 'Project Status', 'Colocated/Standalone', 'Offtaker', 'Planned COD', 'Verfified by developer', 'Contact Developer']\n",
      "\n",
      "ETHANOL:\n",
      "Shape: (217, 13)\n",
      "Columns: ['Developersorted ascendingDeveloper Category', 'Unnamed: 1', 'Developersorted ascending', 'Developer Category', 'Project Name', 'Feedstock Type', 'State', 'Capacity (KLPD)', 'Investment (USD Million)', 'Project Status', 'Planned COD', 'Verfified by developer', 'Contact Developer']\n",
      "\n",
      "GRID:\n",
      "Shape: (280, 15)\n",
      "Columns: ['Developersorted ascendingDeveloper Category', 'Unnamed: 1', 'Developersorted ascending', 'Developer Category', 'Project Name', 'Technology', 'State', 'Capacity (MW)', 'Investment (USD Million)', 'PPA Tariff (Rs./Kwhr)', 'Project Status', 'Offtaker', 'Planned COD', 'Verfified by developer', 'Contact Developer']\n",
      "\n",
      "HYDROGEN:\n",
      "Shape: (48, 16)\n",
      "Columns: ['Developersorted ascendingDeveloper Category', 'Unnamed: 1', 'Developersorted ascending', 'Developer Category', 'Project Name', 'Value Chain', 'State', 'Manufacturing Capacity (MW/Year)', 'GH-Devirative Production Capacity (Tons/Year)', 'Electrolyser Installation Capacity (MW)', 'Investment (USD Million)', 'Project Status', 'SIGHT Status', 'Planned COD', 'Verfified by developer', 'Contact Developer']\n",
      "\n",
      "SOLAR:\n",
      "Shape: (34, 16)\n",
      "Columns: ['Developersorted ascendingDeveloper Category', 'Unnamed: 1', 'Developersorted ascending', 'Developer Category', 'Project Name', 'Value Chain', 'State', 'Capacity of cells (MW)', 'Capacity of Ignot/Wafer (MW)', 'Capacity of Module (MW)', 'Investment (USD Million)', 'PLI status', 'Project Status', 'Planned COD', 'Verfified by developer', 'Contact Developer']\n",
      "\n",
      "COMMON COLUMNS ACROSS ALL DATASETS:\n",
      "--------------------------------------------------\n",
      "Contact Developer\n",
      "Verfified by developer\n",
      "Investment (USD Million)\n",
      "Developersorted ascending\n",
      "Developersorted ascendingDeveloper Category\n",
      "Planned COD\n",
      "Unnamed: 1\n",
      "Developer Category\n",
      "Project Status\n",
      "State\n",
      "Project Name\n",
      "\n",
      "ALL UNIQUE COLUMNS:\n",
      "--------------------------------------------------\n",
      "Business Model\n",
      "Capacity (Battery/Year)\n",
      "Capacity (KLPD)\n",
      "Capacity (MW)\n",
      "Capacity (MWhr)\n",
      "Capacity (TPD)\n",
      "Capacity (Tonnes/Year)\n",
      "Capacity of Ignot/Wafer (MW)\n",
      "Capacity of Module (MW)\n",
      "Capacity of cells (MW)\n",
      "Colocated/Standalone\n",
      "Contact Developer\n",
      "Developer Category\n",
      "Developersorted ascending\n",
      "Developersorted ascendingDeveloper Category\n",
      "Electrolyser Installation Capacity (MW)\n",
      "Feedstock Type\n",
      "GH-Devirative Production Capacity (Tons/Year)\n",
      "Investment (USD Million)\n",
      "Manufacturing Capacity (MW/Year)\n",
      "Offtaker\n",
      "PLI status\n",
      "PPA Tariff (Rs./KWh)\n",
      "PPA Tariff (Rs./Kwhr)\n",
      "Planned COD\n",
      "Project Name\n",
      "Project Status\n",
      "SIGHT Status\n",
      "State\n",
      "Technology\n",
      "Unnamed: 1\n",
      "Value Chain\n",
      "Verfified by developer\n",
      "\n",
      "COLUMN PRESENCE MATRIX:\n",
      "--------------------------------------------------\n",
      "                                              battery biogas distributed  \\\n",
      "Business Model                                  False  False        True   \n",
      "Capacity (Battery/Year)                          True  False       False   \n",
      "Capacity (KLPD)                                 False  False       False   \n",
      "Capacity (MW)                                   False  False        True   \n",
      "Capacity (MWhr)                                 False  False       False   \n",
      "Capacity (TPD)                                  False   True       False   \n",
      "Capacity (Tonnes/Year)                           True  False       False   \n",
      "Capacity of Ignot/Wafer (MW)                    False  False       False   \n",
      "Capacity of Module (MW)                         False  False       False   \n",
      "Capacity of cells (MW)                           True  False       False   \n",
      "Colocated/Standalone                            False  False       False   \n",
      "Contact Developer                                True   True        True   \n",
      "Developer Category                               True   True        True   \n",
      "Developersorted ascending                        True   True        True   \n",
      "Developersorted ascendingDeveloper Category      True   True        True   \n",
      "Electrolyser Installation Capacity (MW)         False  False       False   \n",
      "Feedstock Type                                  False   True       False   \n",
      "GH-Devirative Production Capacity (Tons/Year)   False  False       False   \n",
      "Investment (USD Million)                         True   True        True   \n",
      "Manufacturing Capacity (MW/Year)                False  False       False   \n",
      "Offtaker                                        False  False        True   \n",
      "PLI status                                       True  False       False   \n",
      "PPA Tariff (Rs./KWh)                            False  False        True   \n",
      "PPA Tariff (Rs./Kwhr)                           False  False       False   \n",
      "Planned COD                                      True   True        True   \n",
      "Project Name                                     True   True        True   \n",
      "Project Status                                   True   True        True   \n",
      "SIGHT Status                                    False  False       False   \n",
      "State                                            True   True        True   \n",
      "Technology                                      False  False        True   \n",
      "Unnamed: 1                                       True   True        True   \n",
      "Value Chain                                      True  False       False   \n",
      "Verfified by developer                           True   True        True   \n",
      "\n",
      "                                              storage ethanol   grid hydrogen  \\\n",
      "Business Model                                  False   False  False    False   \n",
      "Capacity (Battery/Year)                         False   False  False    False   \n",
      "Capacity (KLPD)                                 False    True  False    False   \n",
      "Capacity (MW)                                    True   False   True    False   \n",
      "Capacity (MWhr)                                  True   False  False    False   \n",
      "Capacity (TPD)                                  False   False  False    False   \n",
      "Capacity (Tonnes/Year)                          False   False  False    False   \n",
      "Capacity of Ignot/Wafer (MW)                    False   False  False    False   \n",
      "Capacity of Module (MW)                         False   False  False    False   \n",
      "Capacity of cells (MW)                          False   False  False    False   \n",
      "Colocated/Standalone                             True   False  False    False   \n",
      "Contact Developer                                True    True   True     True   \n",
      "Developer Category                               True    True   True     True   \n",
      "Developersorted ascending                        True    True   True     True   \n",
      "Developersorted ascendingDeveloper Category      True    True   True     True   \n",
      "Electrolyser Installation Capacity (MW)         False   False  False     True   \n",
      "Feedstock Type                                  False    True  False    False   \n",
      "GH-Devirative Production Capacity (Tons/Year)   False   False  False     True   \n",
      "Investment (USD Million)                         True    True   True     True   \n",
      "Manufacturing Capacity (MW/Year)                False   False  False     True   \n",
      "Offtaker                                         True   False   True    False   \n",
      "PLI status                                      False   False  False    False   \n",
      "PPA Tariff (Rs./KWh)                             True   False  False    False   \n",
      "PPA Tariff (Rs./Kwhr)                           False   False   True    False   \n",
      "Planned COD                                      True    True   True     True   \n",
      "Project Name                                     True    True   True     True   \n",
      "Project Status                                   True    True   True     True   \n",
      "SIGHT Status                                    False   False  False     True   \n",
      "State                                            True    True   True     True   \n",
      "Technology                                       True   False   True    False   \n",
      "Unnamed: 1                                       True    True   True     True   \n",
      "Value Chain                                     False   False  False     True   \n",
      "Verfified by developer                           True    True   True     True   \n",
      "\n",
      "                                               solar  \n",
      "Business Model                                 False  \n",
      "Capacity (Battery/Year)                        False  \n",
      "Capacity (KLPD)                                False  \n",
      "Capacity (MW)                                  False  \n",
      "Capacity (MWhr)                                False  \n",
      "Capacity (TPD)                                 False  \n",
      "Capacity (Tonnes/Year)                         False  \n",
      "Capacity of Ignot/Wafer (MW)                    True  \n",
      "Capacity of Module (MW)                         True  \n",
      "Capacity of cells (MW)                          True  \n",
      "Colocated/Standalone                           False  \n",
      "Contact Developer                               True  \n",
      "Developer Category                              True  \n",
      "Developersorted ascending                       True  \n",
      "Developersorted ascendingDeveloper Category     True  \n",
      "Electrolyser Installation Capacity (MW)        False  \n",
      "Feedstock Type                                 False  \n",
      "GH-Devirative Production Capacity (Tons/Year)  False  \n",
      "Investment (USD Million)                        True  \n",
      "Manufacturing Capacity (MW/Year)               False  \n",
      "Offtaker                                       False  \n",
      "PLI status                                      True  \n",
      "PPA Tariff (Rs./KWh)                           False  \n",
      "PPA Tariff (Rs./Kwhr)                          False  \n",
      "Planned COD                                     True  \n",
      "Project Name                                    True  \n",
      "Project Status                                  True  \n",
      "SIGHT Status                                   False  \n",
      "State                                           True  \n",
      "Technology                                     False  \n",
      "Unnamed: 1                                      True  \n",
      "Value Chain                                     True  \n",
      "Verfified by developer                          True  \n"
     ]
    }
   ],
   "source": [
    "import pandas as pd\n",
    "import numpy as np\n",
    "\n",
    "# Dictionary to store DataFrames\n",
    "dfs = {\n",
    "    'battery': pd.read_csv('etim_data/batterymanufacturing_temp.csv'),\n",
    "    'biogas': pd.read_csv('etim_data/biogas_temp.csv'),\n",
    "    'distributed': pd.read_csv('etim_data/distributedrpgeneration_temp.csv'),\n",
    "    'storage': pd.read_csv('etim_data/energystorage_temp.csv'),\n",
    "    'ethanol': pd.read_csv('etim_data/ethanolproduction_temp.csv'),\n",
    "    'grid': pd.read_csv('etim_data/gridscaleregeneration_temp.csv'),\n",
    "    'hydrogen': pd.read_csv('etim_data/greenhydrogen_temp.csv'),\n",
    "    'solar': pd.read_csv('etim_data/solar_temp.csv')\n",
    "}\n",
    "\n",
    "# Print shape and columns for each DataFrame\n",
    "print(\"Dataset Shapes and Columns:\")\n",
    "print(\"-\" * 50)\n",
    "for name, df in dfs.items():\n",
    "    print(f\"\\n{name.upper()}:\")\n",
    "    print(f\"Shape: {df.shape}\")\n",
    "    print(\"Columns:\", df.columns.tolist())\n",
    "\n",
    "# Find common columns\n",
    "all_columns = set()\n",
    "common_columns = set(dfs['battery'].columns)\n",
    "\n",
    "for df in dfs.values():\n",
    "    all_columns.update(df.columns)\n",
    "    common_columns.intersection_update(df.columns)\n",
    "\n",
    "print(\"\\nCOMMON COLUMNS ACROSS ALL DATASETS:\")\n",
    "print(\"-\" * 50)\n",
    "for col in common_columns:\n",
    "    print(col)\n",
    "\n",
    "print(\"\\nALL UNIQUE COLUMNS:\")\n",
    "print(\"-\" * 50)\n",
    "for col in sorted(all_columns):\n",
    "    print(col)\n",
    "\n",
    "# Create a presence matrix\n",
    "presence_matrix = pd.DataFrame(index=sorted(all_columns), columns=dfs.keys())\n",
    "for col in sorted(all_columns):\n",
    "    for name, df in dfs.items():\n",
    "        presence_matrix.loc[col, name] = col in df.columns\n",
    "\n",
    "print(\"\\nCOLUMN PRESENCE MATRIX:\")\n",
    "print(\"-\" * 50)\n",
    "print(presence_matrix)"
   ]
  },
  {
   "cell_type": "code",
   "execution_count": 3,
   "metadata": {},
   "outputs": [
    {
     "name": "stdout",
     "output_type": "stream",
     "text": [
      "\n",
      "COMBINED DATASET INFO:\n",
      "--------------------------------------------------\n",
      "Shape: (1622, 12)\n",
      "\n",
      "Columns: ['Contact Developer', 'Verfified by developer', 'Investment (USD Million)', 'Developersorted ascending', 'Developersorted ascendingDeveloper Category', 'Planned COD', 'Unnamed: 1', 'Developer Category', 'Project Status', 'State', 'Project Name', 'source']\n",
      "\n",
      "Sample counts by source:\n",
      "source\n",
      "biogas         749\n",
      "grid           280\n",
      "ethanol        217\n",
      "distributed    198\n",
      "storage         69\n",
      "hydrogen        48\n",
      "solar           34\n",
      "battery         27\n",
      "Name: count, dtype: int64\n",
      "\n",
      "Missing values count:\n",
      "Contact Developer                                 0\n",
      "Verfified by developer                            6\n",
      "Investment (USD Million)                          0\n",
      "Developersorted ascending                       114\n",
      "Developersorted ascendingDeveloper Category       0\n",
      "Planned COD                                     489\n",
      "Unnamed: 1                                     1622\n",
      "Developer Category                              114\n",
      "Project Status                                    0\n",
      "State                                            31\n",
      "Project Name                                     47\n",
      "source                                            0\n",
      "dtype: int64\n"
     ]
    }
   ],
   "source": [
    "\n",
    "# Create combined DataFrame\n",
    "combined_df = pd.DataFrame()\n",
    "\n",
    "for name, df in dfs.items():\n",
    "    # Select only common columns\n",
    "    temp_df = df[list(common_columns)].copy()\n",
    "    # Add source column\n",
    "    temp_df['source'] = name\n",
    "    # Append to combined DataFrame\n",
    "    combined_df = pd.concat([combined_df, temp_df], ignore_index=True)\n",
    "\n",
    "# Basic info about the combined dataset\n",
    "print(\"\\nCOMBINED DATASET INFO:\")\n",
    "print(\"-\" * 50)\n",
    "print(f\"Shape: {combined_df.shape}\")\n",
    "print(\"\\nColumns:\", list(combined_df.columns))\n",
    "print(\"\\nSample counts by source:\")\n",
    "print(combined_df['source'].value_counts())\n",
    "\n",
    "# Check for missing values\n",
    "print(\"\\nMissing values count:\")\n",
    "print(combined_df.isnull().sum())\n",
    "\n",
    "# Save combined DataFrame\n",
    "combined_df.to_csv('etim_data/combined_dataset.csv', index=False) "
   ]
  },
  {
   "cell_type": "code",
   "execution_count": 4,
   "metadata": {},
   "outputs": [
    {
     "data": {
      "text/plain": [
       "(1622, 12)"
      ]
     },
     "execution_count": 4,
     "metadata": {},
     "output_type": "execute_result"
    }
   ],
   "source": [
    "combined_df.shape"
   ]
  },
  {
   "cell_type": "code",
   "execution_count": 5,
   "metadata": {},
   "outputs": [
    {
     "name": "stdout",
     "output_type": "stream",
     "text": [
      "Initial DataFrame shape: (1622, 12)\n",
      "Number of duplicate rows: 65\n",
      "Cleaned DataFrame shape: (1557, 12)\n"
     ]
    }
   ],
   "source": [
    "# Check initial shape before dropping duplicates\n",
    "print(\"Initial DataFrame shape:\", combined_df.shape)\n",
    "\n",
    "# Identify duplicates\n",
    "duplicates = combined_df[combined_df.duplicated()]\n",
    "print(f\"Number of duplicate rows: {duplicates.shape[0]}\")\n",
    "\n",
    "# Remove duplicates\n",
    "combined_df_clean = combined_df.drop_duplicates().reset_index(drop=True)\n",
    "\n",
    "# Final shape after duplicates removal\n",
    "print(\"Cleaned DataFrame shape:\", combined_df_clean.shape)\n"
   ]
  },
  {
   "cell_type": "code",
   "execution_count": 6,
   "metadata": {},
   "outputs": [
    {
     "data": {
      "text/plain": [
       "(1557, 12)"
      ]
     },
     "execution_count": 6,
     "metadata": {},
     "output_type": "execute_result"
    }
   ],
   "source": [
    "combined_df_clean.shape"
   ]
  },
  {
   "cell_type": "code",
   "execution_count": 7,
   "metadata": {},
   "outputs": [],
   "source": [
    "combined_df_clean.to_csv('etim_data/combined_cleaned_dataset.csv', index=False) "
   ]
  },
  {
   "cell_type": "code",
   "execution_count": 8,
   "metadata": {},
   "outputs": [
    {
     "data": {
      "text/html": [
       "<div>\n",
       "<style scoped>\n",
       "    .dataframe tbody tr th:only-of-type {\n",
       "        vertical-align: middle;\n",
       "    }\n",
       "\n",
       "    .dataframe tbody tr th {\n",
       "        vertical-align: top;\n",
       "    }\n",
       "\n",
       "    .dataframe thead th {\n",
       "        text-align: right;\n",
       "    }\n",
       "</style>\n",
       "<table border=\"1\" class=\"dataframe\">\n",
       "  <thead>\n",
       "    <tr style=\"text-align: right;\">\n",
       "      <th></th>\n",
       "      <th>Contact Developer</th>\n",
       "      <th>Verfified by developer</th>\n",
       "      <th>Investment (USD Million)</th>\n",
       "      <th>Developersorted ascending</th>\n",
       "      <th>Developersorted ascendingDeveloper Category</th>\n",
       "      <th>Planned COD</th>\n",
       "      <th>Unnamed: 1</th>\n",
       "      <th>Developer Category</th>\n",
       "      <th>Project Status</th>\n",
       "      <th>State</th>\n",
       "      <th>Project Name</th>\n",
       "      <th>source</th>\n",
       "    </tr>\n",
       "  </thead>\n",
       "  <tbody>\n",
       "    <tr>\n",
       "      <th>0</th>\n",
       "      <td>Contact</td>\n",
       "      <td>--</td>\n",
       "      <td>1172.84</td>\n",
       "      <td>Amara Raja Batteries Limited</td>\n",
       "      <td>Amara Raja Batteries LimitedPrivate</td>\n",
       "      <td>--</td>\n",
       "      <td>NaN</td>\n",
       "      <td>Private</td>\n",
       "      <td>Announced</td>\n",
       "      <td>Telangana</td>\n",
       "      <td>Amara raja batteries cell component manufactur...</td>\n",
       "      <td>battery</td>\n",
       "    </tr>\n",
       "    <tr>\n",
       "      <th>1</th>\n",
       "      <td>Contact</td>\n",
       "      <td>--</td>\n",
       "      <td>864.2</td>\n",
       "      <td>Amperex Technology Limited</td>\n",
       "      <td>Amperex Technology LimitedPrivate</td>\n",
       "      <td>--</td>\n",
       "      <td>NaN</td>\n",
       "      <td>Private</td>\n",
       "      <td>Under Construction</td>\n",
       "      <td>Haryana</td>\n",
       "      <td>Amperex technology's battery manufacturing pro...</td>\n",
       "      <td>battery</td>\n",
       "    </tr>\n",
       "    <tr>\n",
       "      <th>2</th>\n",
       "      <td>Contact</td>\n",
       "      <td>--</td>\n",
       "      <td>74.07</td>\n",
       "      <td>Attero Recycling Private Limited</td>\n",
       "      <td>Attero Recycling Private LimitedPrivate</td>\n",
       "      <td>--</td>\n",
       "      <td>NaN</td>\n",
       "      <td>Private</td>\n",
       "      <td>Announced</td>\n",
       "      <td>Telangana</td>\n",
       "      <td>Attero's project for lithium-ion battery recyc...</td>\n",
       "      <td>battery</td>\n",
       "    </tr>\n",
       "    <tr>\n",
       "      <th>3</th>\n",
       "      <td>Contact</td>\n",
       "      <td>--</td>\n",
       "      <td>495.68</td>\n",
       "      <td>C4V Limited</td>\n",
       "      <td>C4V LimitedPrivate</td>\n",
       "      <td>--</td>\n",
       "      <td>NaN</td>\n",
       "      <td>Private</td>\n",
       "      <td>Announced</td>\n",
       "      <td>Karnataka</td>\n",
       "      <td>C4V's 5,000 GWh Lithium-ion cell manufacturing...</td>\n",
       "      <td>battery</td>\n",
       "    </tr>\n",
       "    <tr>\n",
       "      <th>4</th>\n",
       "      <td>Contact</td>\n",
       "      <td>--</td>\n",
       "      <td>--</td>\n",
       "      <td>Central Electro Chemical Research Institute (C...</td>\n",
       "      <td>Central Electro Chemical Research Institute (C...</td>\n",
       "      <td>--</td>\n",
       "      <td>NaN</td>\n",
       "      <td>Private</td>\n",
       "      <td>Announced</td>\n",
       "      <td>Tamil Nadu</td>\n",
       "      <td>CECRI's lithium-ion battery manufacturing plant</td>\n",
       "      <td>battery</td>\n",
       "    </tr>\n",
       "  </tbody>\n",
       "</table>\n",
       "</div>"
      ],
      "text/plain": [
       "  Contact Developer Verfified by developer Investment (USD Million)  \\\n",
       "0           Contact                     --                  1172.84   \n",
       "1           Contact                     --                    864.2   \n",
       "2           Contact                     --                    74.07   \n",
       "3           Contact                     --                   495.68   \n",
       "4           Contact                     --                       --   \n",
       "\n",
       "                           Developersorted ascending  \\\n",
       "0                       Amara Raja Batteries Limited   \n",
       "1                         Amperex Technology Limited   \n",
       "2                   Attero Recycling Private Limited   \n",
       "3                                        C4V Limited   \n",
       "4  Central Electro Chemical Research Institute (C...   \n",
       "\n",
       "         Developersorted ascendingDeveloper Category Planned COD  Unnamed: 1  \\\n",
       "0                Amara Raja Batteries LimitedPrivate          --         NaN   \n",
       "1                  Amperex Technology LimitedPrivate          --         NaN   \n",
       "2            Attero Recycling Private LimitedPrivate          --         NaN   \n",
       "3                                 C4V LimitedPrivate          --         NaN   \n",
       "4  Central Electro Chemical Research Institute (C...          --         NaN   \n",
       "\n",
       "  Developer Category      Project Status       State  \\\n",
       "0            Private           Announced   Telangana   \n",
       "1            Private  Under Construction     Haryana   \n",
       "2            Private           Announced   Telangana   \n",
       "3            Private           Announced   Karnataka   \n",
       "4            Private           Announced  Tamil Nadu   \n",
       "\n",
       "                                        Project Name   source  \n",
       "0  Amara raja batteries cell component manufactur...  battery  \n",
       "1  Amperex technology's battery manufacturing pro...  battery  \n",
       "2  Attero's project for lithium-ion battery recyc...  battery  \n",
       "3  C4V's 5,000 GWh Lithium-ion cell manufacturing...  battery  \n",
       "4    CECRI's lithium-ion battery manufacturing plant  battery  "
      ]
     },
     "execution_count": 8,
     "metadata": {},
     "output_type": "execute_result"
    }
   ],
   "source": [
    "combined_df_clean.head()"
   ]
  },
  {
   "cell_type": "code",
   "execution_count": 9,
   "metadata": {},
   "outputs": [
    {
     "data": {
      "text/plain": [
       "array(['Announced', 'Under Construction', 'Permitting', 'Under Bidding'],\n",
       "      dtype=object)"
      ]
     },
     "execution_count": 9,
     "metadata": {},
     "output_type": "execute_result"
    }
   ],
   "source": [
    "combined_df_clean['Project Status'].unique()"
   ]
  },
  {
   "cell_type": "code",
   "execution_count": 10,
   "metadata": {},
   "outputs": [
    {
     "data": {
      "text/plain": [
       "array(['battery', 'biogas', 'distributed', 'storage', 'ethanol', 'grid',\n",
       "       'hydrogen', 'solar'], dtype=object)"
      ]
     },
     "execution_count": 10,
     "metadata": {},
     "output_type": "execute_result"
    }
   ],
   "source": [
    "combined_df_clean['source'].unique()"
   ]
  },
  {
   "cell_type": "code",
   "execution_count": 11,
   "metadata": {},
   "outputs": [
    {
     "name": "stdout",
     "output_type": "stream",
     "text": [
      "Total projects: 1557\n",
      "Columns: ['Contact Developer', 'Verfified by developer', 'Investment (USD Million)', 'Developersorted ascending', 'Developersorted ascendingDeveloper Category', 'Planned COD', 'Unnamed: 1', 'Developer Category', 'Project Status', 'State', 'Project Name', 'source']\n",
      "\n",
      "Large early-stage projects in focus sectors: 25\n",
      "\n",
      "Sector distribution of large early-stage projects:\n",
      "source\n",
      "hydrogen    17\n",
      "solar        5\n",
      "biogas       2\n",
      "grid         1\n",
      "Name: count, dtype: int64\n",
      "\n",
      "Top 10 states with large early-stage projects:\n",
      "State\n",
      "Karnataka         4\n",
      "Odisha            3\n",
      "--                3\n",
      "Rajasthan         2\n",
      "Tamil Nadu        2\n",
      "Gujarat           2\n",
      "Maharashtra       1\n",
      "Haryana           1\n",
      "Andhra Pradesh    1\n",
      "Kerala            1\n",
      "Name: count, dtype: int64\n",
      "\n",
      "Project status distribution:\n",
      "Project Status\n",
      "Announced     13\n",
      "Permitting    12\n",
      "Name: count, dtype: int64\n",
      "\n",
      "Investment size distribution:\n",
      "Investment Range\n",
      "$500M-$1B    11\n",
      "$1B-$2B       1\n",
      "$2B-$5B       7\n",
      ">$5B          6\n",
      "Name: count, dtype: int64\n",
      "\n",
      "Top 10 developers with multiple large projects:\n",
      "Developersorted ascending\n",
      "ACME Cleantech Solutions Private Limited     3\n",
      "Avaada Energy Private Limited                3\n",
      "Coal India Limited                           2\n",
      "GDBIOGAS PVT LTD                             1\n",
      "L&T Electrolysers Limited                    1\n",
      "Shirdi Sai Electricals Limited               1\n",
      "Rayzon Solar Limited                         1\n",
      "Renew Group                                  1\n",
      "Reliance New Energy Solar Limited (RNESL)    1\n",
      "Petronas Group                               1\n",
      "Name: count, dtype: int64\n"
     ]
    }
   ],
   "source": [
    "import pandas as pd\n",
    "import numpy as np\n",
    "import matplotlib.pyplot as plt\n",
    "import seaborn as sns\n",
    "\n",
    "# Load the dataset\n",
    "df = pd.read_csv(r'C:\\Users\\GaganReddy\\projects\\climatewise\\Projects\\Actual\\Analysis\\projectID Based\\etim_data\\combined_cleaned_dataset.csv')\n",
    "\n",
    "# Quick overview of the data\n",
    "print(f\"Total projects: {len(df)}\")\n",
    "print(f\"Columns: {df.columns.tolist()}\")\n",
    "\n",
    "# Clean and convert investment values\n",
    "df['Investment (USD Million)'] = pd.to_numeric(df['Investment (USD Million)'], errors='coerce')\n",
    "\n",
    "# Filter for large projects (>$500 million) in early stages\n",
    "early_stages = ['Announced', 'Permitting', 'Under Bidding']\n",
    "focus_sectors = ['grid', 'solar', 'ethanol', 'biogas', 'hydrogen']\n",
    "\n",
    "large_early_projects = df[\n",
    "    (df['Investment (USD Million)'] > 500) & \n",
    "    (df['Project Status'].isin(early_stages)) &\n",
    "    (df['source'].isin(focus_sectors))\n",
    "].copy()\n",
    "\n",
    "print(f\"\\nLarge early-stage projects in focus sectors: {len(large_early_projects)}\")\n",
    "\n",
    "# Distribution by sector\n",
    "sector_counts = large_early_projects['source'].value_counts()\n",
    "print(\"\\nSector distribution of large early-stage projects:\")\n",
    "print(sector_counts)\n",
    "\n",
    "# Distribution by state\n",
    "state_counts = large_early_projects['State'].value_counts().head(10)\n",
    "print(\"\\nTop 10 states with large early-stage projects:\")\n",
    "print(state_counts)\n",
    "\n",
    "# Distribution by project status\n",
    "status_counts = large_early_projects['Project Status'].value_counts()\n",
    "print(\"\\nProject status distribution:\")\n",
    "print(status_counts)\n",
    "\n",
    "# Distribution by investment size\n",
    "investment_bins = [500, 1000, 2000, 5000, float('inf')]\n",
    "investment_labels = ['$500M-$1B', '$1B-$2B', '$2B-$5B', '>$5B']\n",
    "large_early_projects['Investment Range'] = pd.cut(\n",
    "    large_early_projects['Investment (USD Million)'], \n",
    "    bins=investment_bins, \n",
    "    labels=investment_labels\n",
    ")\n",
    "investment_dist = large_early_projects['Investment Range'].value_counts().sort_index()\n",
    "print(\"\\nInvestment size distribution:\")\n",
    "print(investment_dist)\n",
    "\n",
    "# Top developers with multiple large projects\n",
    "top_developers = large_early_projects['Developersorted ascending'].value_counts().head(10)\n",
    "print(\"\\nTop 10 developers with multiple large projects:\")\n",
    "print(top_developers)"
   ]
  },
  {
   "cell_type": "code",
   "execution_count": 12,
   "metadata": {},
   "outputs": [
    {
     "name": "stdout",
     "output_type": "stream",
     "text": [
      "Total projects in dataset: 1557\n",
      "Large early-stage projects in focus sectors: 25\n"
     ]
    }
   ],
   "source": [
    "import pandas as pd\n",
    "import numpy as np\n",
    "import matplotlib.pyplot as plt\n",
    "import seaborn as sns\n",
    "import plotly.express as px\n",
    "import plotly.graph_objects as go\n",
    "from plotly.subplots import make_subplots\n",
    "\n",
    "# Set styling for better visualizations\n",
    "plt.style.use('ggplot')\n",
    "sns.set(style=\"whitegrid\")\n",
    "plt.rcParams['figure.figsize'] = (12, 8)\n",
    "plt.rcParams['font.size'] = 12\n",
    "\n",
    "# Load the dataset\n",
    "df = pd.read_csv(r'C:\\Users\\GaganReddy\\projects\\climatewise\\Projects\\Actual\\Analysis\\projectID Based\\etim_data\\combined_cleaned_dataset.csv')\n",
    "\n",
    "# Clean and convert investment values\n",
    "df['Investment (USD Million)'] = pd.to_numeric(df['Investment (USD Million)'], errors='coerce')\n",
    "\n",
    "# Define focus categories\n",
    "early_stages = ['Announced', 'Permitting', 'Under Bidding']\n",
    "focus_sectors = ['grid', 'solar', 'ethanol', 'biogas', 'hydrogen']\n",
    "\n",
    "# Filter for large projects (>$500 million) in early stages and focus sectors\n",
    "large_early_projects = df[\n",
    "    (df['Investment (USD Million)'] > 500) & \n",
    "    (df['Project Status'].isin(early_stages)) &\n",
    "    (df['source'].isin(focus_sectors))\n",
    "].copy()\n",
    "\n",
    "print(f\"Total projects in dataset: {len(df)}\")\n",
    "print(f\"Large early-stage projects in focus sectors: {len(large_early_projects)}\")"
   ]
  },
  {
   "cell_type": "code",
   "execution_count": 13,
   "metadata": {},
   "outputs": [
    {
     "data": {
      "text/html": [
       "<div>\n",
       "<style scoped>\n",
       "    .dataframe tbody tr th:only-of-type {\n",
       "        vertical-align: middle;\n",
       "    }\n",
       "\n",
       "    .dataframe tbody tr th {\n",
       "        vertical-align: top;\n",
       "    }\n",
       "\n",
       "    .dataframe thead th {\n",
       "        text-align: right;\n",
       "    }\n",
       "</style>\n",
       "<table border=\"1\" class=\"dataframe\">\n",
       "  <thead>\n",
       "    <tr style=\"text-align: right;\">\n",
       "      <th></th>\n",
       "      <th>Contact Developer</th>\n",
       "      <th>Verfified by developer</th>\n",
       "      <th>Investment (USD Million)</th>\n",
       "      <th>Developersorted ascending</th>\n",
       "      <th>Developersorted ascendingDeveloper Category</th>\n",
       "      <th>Planned COD</th>\n",
       "      <th>Unnamed: 1</th>\n",
       "      <th>Developer Category</th>\n",
       "      <th>Project Status</th>\n",
       "      <th>State</th>\n",
       "      <th>Project Name</th>\n",
       "      <th>source</th>\n",
       "    </tr>\n",
       "  </thead>\n",
       "  <tbody>\n",
       "    <tr>\n",
       "      <th>233</th>\n",
       "      <td>Contact</td>\n",
       "      <td>--</td>\n",
       "      <td>2962.96</td>\n",
       "      <td>GDBIOGAS PVT LTD</td>\n",
       "      <td>GDBIOGAS PVT LTDPrivate</td>\n",
       "      <td>--</td>\n",
       "      <td>NaN</td>\n",
       "      <td>Private</td>\n",
       "      <td>Permitting</td>\n",
       "      <td>Maharashtra</td>\n",
       "      <td>GDBIOGAS PVT LTD</td>\n",
       "      <td>biogas</td>\n",
       "    </tr>\n",
       "    <tr>\n",
       "      <th>623</th>\n",
       "      <td>Contact</td>\n",
       "      <td>--</td>\n",
       "      <td>9481.48</td>\n",
       "      <td>SHYAAMG RENEWABLE ENERGY PRIVATE LIMITED</td>\n",
       "      <td>SHYAAMG RENEWABLE ENERGY PRIVATE LIMITEDPrivate</td>\n",
       "      <td>--</td>\n",
       "      <td>NaN</td>\n",
       "      <td>Private</td>\n",
       "      <td>Permitting</td>\n",
       "      <td>Haryana</td>\n",
       "      <td>SHYAAMG RENEWABLE ENERGY PRIVATE LIMITED</td>\n",
       "      <td>biogas</td>\n",
       "    </tr>\n",
       "    <tr>\n",
       "      <th>1308</th>\n",
       "      <td>Contact</td>\n",
       "      <td>--</td>\n",
       "      <td>668.00</td>\n",
       "      <td>Coal India Limited</td>\n",
       "      <td>Coal India LimitedPSU</td>\n",
       "      <td>2024</td>\n",
       "      <td>NaN</td>\n",
       "      <td>PSU</td>\n",
       "      <td>Permitting</td>\n",
       "      <td>Rajasthan</td>\n",
       "      <td>RVUNL's 1190 MW Bikaner solar park</td>\n",
       "      <td>grid</td>\n",
       "    </tr>\n",
       "    <tr>\n",
       "      <th>1476</th>\n",
       "      <td>Contact</td>\n",
       "      <td>--</td>\n",
       "      <td>6172.84</td>\n",
       "      <td>ABC Cleantech Limited</td>\n",
       "      <td>ABC Cleantech LimitedPrivate</td>\n",
       "      <td>NaN</td>\n",
       "      <td>NaN</td>\n",
       "      <td>Private</td>\n",
       "      <td>Permitting</td>\n",
       "      <td>Karnataka</td>\n",
       "      <td>ABC Cleantech's green hydrogen and ammonia pla...</td>\n",
       "      <td>hydrogen</td>\n",
       "    </tr>\n",
       "    <tr>\n",
       "      <th>1477</th>\n",
       "      <td>Contact</td>\n",
       "      <td>--</td>\n",
       "      <td>6419.75</td>\n",
       "      <td>ACME Cleantech Solutions Private Limited</td>\n",
       "      <td>ACME Cleantech Solutions Private LimitedPrivate</td>\n",
       "      <td>2027</td>\n",
       "      <td>NaN</td>\n",
       "      <td>Private</td>\n",
       "      <td>Permitting</td>\n",
       "      <td>Karnataka</td>\n",
       "      <td>ACME's Green Hydrogen and Ammonia project, Kar...</td>\n",
       "      <td>hydrogen</td>\n",
       "    </tr>\n",
       "    <tr>\n",
       "      <th>1478</th>\n",
       "      <td>Contact</td>\n",
       "      <td>--</td>\n",
       "      <td>6478.00</td>\n",
       "      <td>ACME Cleantech Solutions Private Limited</td>\n",
       "      <td>ACME Cleantech Solutions Private LimitedPrivate</td>\n",
       "      <td>2027</td>\n",
       "      <td>NaN</td>\n",
       "      <td>Private</td>\n",
       "      <td>Announced</td>\n",
       "      <td>Odisha</td>\n",
       "      <td>ACME Cleantech Solutions Private Limited Green...</td>\n",
       "      <td>hydrogen</td>\n",
       "    </tr>\n",
       "    <tr>\n",
       "      <th>1479</th>\n",
       "      <td>Contact</td>\n",
       "      <td>--</td>\n",
       "      <td>6478.27</td>\n",
       "      <td>ACME Cleantech Solutions Private Limited</td>\n",
       "      <td>ACME Cleantech Solutions Private LimitedPrivate</td>\n",
       "      <td>NaN</td>\n",
       "      <td>NaN</td>\n",
       "      <td>Private</td>\n",
       "      <td>Announced</td>\n",
       "      <td>Tamil Nadu</td>\n",
       "      <td>ACME's Green Hydrogen and Ammonia project, Tam...</td>\n",
       "      <td>hydrogen</td>\n",
       "    </tr>\n",
       "    <tr>\n",
       "      <th>1481</th>\n",
       "      <td>Contact</td>\n",
       "      <td>--</td>\n",
       "      <td>507.28</td>\n",
       "      <td>Adani New Industries Limited (ANIL)</td>\n",
       "      <td>Adani New Industries Limited (ANIL)Private</td>\n",
       "      <td>NaN</td>\n",
       "      <td>NaN</td>\n",
       "      <td>Private</td>\n",
       "      <td>Announced</td>\n",
       "      <td>NaN</td>\n",
       "      <td>Adani's Electrolyser manufacturing unit</td>\n",
       "      <td>hydrogen</td>\n",
       "    </tr>\n",
       "    <tr>\n",
       "      <th>1483</th>\n",
       "      <td>Contact</td>\n",
       "      <td>--</td>\n",
       "      <td>573.62</td>\n",
       "      <td>Amp Energy Limited and Ohmium International</td>\n",
       "      <td>Amp Energy Limited and Ohmium InternationalPri...</td>\n",
       "      <td>2025</td>\n",
       "      <td>NaN</td>\n",
       "      <td>Private</td>\n",
       "      <td>Permitting</td>\n",
       "      <td>NaN</td>\n",
       "      <td>400 MW green hydrogen project</td>\n",
       "      <td>hydrogen</td>\n",
       "    </tr>\n",
       "    <tr>\n",
       "      <th>1484</th>\n",
       "      <td>Contact</td>\n",
       "      <td>--</td>\n",
       "      <td>3086.00</td>\n",
       "      <td>Avaada Energy Private Limited</td>\n",
       "      <td>Avaada Energy Private LimitedPrivate</td>\n",
       "      <td>NaN</td>\n",
       "      <td>NaN</td>\n",
       "      <td>Private</td>\n",
       "      <td>Announced</td>\n",
       "      <td>Odisha</td>\n",
       "      <td>Avaada's Green Ammonia project in Uttar Pradesh</td>\n",
       "      <td>hydrogen</td>\n",
       "    </tr>\n",
       "    <tr>\n",
       "      <th>1485</th>\n",
       "      <td>Contact</td>\n",
       "      <td>--</td>\n",
       "      <td>4938.27</td>\n",
       "      <td>Avaada Energy Private Limited</td>\n",
       "      <td>Avaada Energy Private LimitedPrivate</td>\n",
       "      <td>2026</td>\n",
       "      <td>NaN</td>\n",
       "      <td>Private</td>\n",
       "      <td>Permitting</td>\n",
       "      <td>Rajasthan</td>\n",
       "      <td>Avaada's Green Ammonia project in Rajasthan</td>\n",
       "      <td>hydrogen</td>\n",
       "    </tr>\n",
       "    <tr>\n",
       "      <th>1495</th>\n",
       "      <td>Contact</td>\n",
       "      <td>--</td>\n",
       "      <td>550.00</td>\n",
       "      <td>HHP Two Limited</td>\n",
       "      <td>HHP Two LimitedPrivate</td>\n",
       "      <td>--</td>\n",
       "      <td>NaN</td>\n",
       "      <td>Private</td>\n",
       "      <td>Permitting</td>\n",
       "      <td>--</td>\n",
       "      <td>HHP Two Green Hydrogen Production Plant</td>\n",
       "      <td>hydrogen</td>\n",
       "    </tr>\n",
       "    <tr>\n",
       "      <th>1499</th>\n",
       "      <td>Contact</td>\n",
       "      <td>--</td>\n",
       "      <td>2500.00</td>\n",
       "      <td>Hygenco Green Energies Pvt. Ltd.</td>\n",
       "      <td>Hygenco Green Energies Pvt. Ltd.Private</td>\n",
       "      <td>2030</td>\n",
       "      <td>NaN</td>\n",
       "      <td>Private</td>\n",
       "      <td>Announced</td>\n",
       "      <td>Odisha</td>\n",
       "      <td>Hygenco Green Ammonia Plant</td>\n",
       "      <td>hydrogen</td>\n",
       "    </tr>\n",
       "    <tr>\n",
       "      <th>1503</th>\n",
       "      <td>Contact</td>\n",
       "      <td>--</td>\n",
       "      <td>1851.00</td>\n",
       "      <td>JSW Energy Limited</td>\n",
       "      <td>JSW Energy LimitedPrivate</td>\n",
       "      <td>NaN</td>\n",
       "      <td>NaN</td>\n",
       "      <td>Private</td>\n",
       "      <td>Announced</td>\n",
       "      <td>Karnataka</td>\n",
       "      <td>JSW's Green Ammonia project in Karnataka</td>\n",
       "      <td>hydrogen</td>\n",
       "    </tr>\n",
       "    <tr>\n",
       "      <th>1505</th>\n",
       "      <td>Contact</td>\n",
       "      <td>--</td>\n",
       "      <td>766.67</td>\n",
       "      <td>Jindal India Limited</td>\n",
       "      <td>Jindal India LimitedPrivate</td>\n",
       "      <td>--</td>\n",
       "      <td>NaN</td>\n",
       "      <td>Private</td>\n",
       "      <td>Permitting</td>\n",
       "      <td>--</td>\n",
       "      <td>Jindal India Limited Electrolyser Manufacturin...</td>\n",
       "      <td>hydrogen</td>\n",
       "    </tr>\n",
       "    <tr>\n",
       "      <th>1506</th>\n",
       "      <td>Contact</td>\n",
       "      <td>--</td>\n",
       "      <td>766.67</td>\n",
       "      <td>L&amp;T Electrolysers Limited</td>\n",
       "      <td>L&amp;T Electrolysers LimitedPrivate</td>\n",
       "      <td>--</td>\n",
       "      <td>NaN</td>\n",
       "      <td>Private</td>\n",
       "      <td>Permitting</td>\n",
       "      <td>--</td>\n",
       "      <td>L&amp;T Electrolyser Manufacturing Plant</td>\n",
       "      <td>hydrogen</td>\n",
       "    </tr>\n",
       "    <tr>\n",
       "      <th>1511</th>\n",
       "      <td>Contact</td>\n",
       "      <td>--</td>\n",
       "      <td>8070.00</td>\n",
       "      <td>NTPC Group</td>\n",
       "      <td>NTPC GroupPSU</td>\n",
       "      <td>NaN</td>\n",
       "      <td>NaN</td>\n",
       "      <td>PSU</td>\n",
       "      <td>Announced</td>\n",
       "      <td>Andhra Pradesh</td>\n",
       "      <td>NTPC Green Ammonia and Green Methanol project</td>\n",
       "      <td>hydrogen</td>\n",
       "    </tr>\n",
       "    <tr>\n",
       "      <th>1513</th>\n",
       "      <td>Contact</td>\n",
       "      <td>--</td>\n",
       "      <td>2800.00</td>\n",
       "      <td>Petronas Group</td>\n",
       "      <td>Petronas GroupPrivate</td>\n",
       "      <td>--</td>\n",
       "      <td>NaN</td>\n",
       "      <td>Private</td>\n",
       "      <td>Announced</td>\n",
       "      <td>Karnataka</td>\n",
       "      <td>Petronas Group Green Hydrogen Derivatives Prod...</td>\n",
       "      <td>hydrogen</td>\n",
       "    </tr>\n",
       "    <tr>\n",
       "      <th>1515</th>\n",
       "      <td>Contact</td>\n",
       "      <td>--</td>\n",
       "      <td>766.67</td>\n",
       "      <td>Reliance New Energy Solar Limited (RNESL)</td>\n",
       "      <td>Reliance New Energy Solar Limited (RNESL)Private</td>\n",
       "      <td>NaN</td>\n",
       "      <td>NaN</td>\n",
       "      <td>Private</td>\n",
       "      <td>Permitting</td>\n",
       "      <td>Gujarat</td>\n",
       "      <td>Reliance's Electrolyzers Manufacturing Unit</td>\n",
       "      <td>hydrogen</td>\n",
       "    </tr>\n",
       "    <tr>\n",
       "      <th>1516</th>\n",
       "      <td>Contact</td>\n",
       "      <td>--</td>\n",
       "      <td>3296.00</td>\n",
       "      <td>Renew Group</td>\n",
       "      <td>Renew GroupPrivate</td>\n",
       "      <td>--</td>\n",
       "      <td>NaN</td>\n",
       "      <td>Private</td>\n",
       "      <td>Permitting</td>\n",
       "      <td>Kerala</td>\n",
       "      <td>Renew Group Green Hydrogen Derivatives Product...</td>\n",
       "      <td>hydrogen</td>\n",
       "    </tr>\n",
       "    <tr>\n",
       "      <th>1526</th>\n",
       "      <td>Contact</td>\n",
       "      <td>--</td>\n",
       "      <td>740.74</td>\n",
       "      <td>Avaada Energy Private Limited</td>\n",
       "      <td>Avaada Energy Private LimitedPrivate</td>\n",
       "      <td>2023</td>\n",
       "      <td>NaN</td>\n",
       "      <td>Private</td>\n",
       "      <td>Announced</td>\n",
       "      <td>NaN</td>\n",
       "      <td>Avaada's cells and modules production facility</td>\n",
       "      <td>solar</td>\n",
       "    </tr>\n",
       "    <tr>\n",
       "      <th>1529</th>\n",
       "      <td>Contact</td>\n",
       "      <td>--</td>\n",
       "      <td>691.36</td>\n",
       "      <td>Coal India Limited</td>\n",
       "      <td>Coal India LimitedPSU</td>\n",
       "      <td>--</td>\n",
       "      <td>NaN</td>\n",
       "      <td>PSU</td>\n",
       "      <td>Announced</td>\n",
       "      <td>NaN</td>\n",
       "      <td>CIL's integrated PV facility</td>\n",
       "      <td>solar</td>\n",
       "    </tr>\n",
       "    <tr>\n",
       "      <th>1543</th>\n",
       "      <td>Contact</td>\n",
       "      <td>--</td>\n",
       "      <td>864.20</td>\n",
       "      <td>Rayzon Solar Limited</td>\n",
       "      <td>Rayzon Solar LimitedPrivate</td>\n",
       "      <td>2025</td>\n",
       "      <td>NaN</td>\n",
       "      <td>Private</td>\n",
       "      <td>Announced</td>\n",
       "      <td>Gujarat</td>\n",
       "      <td>Rayzon's solar module production facility</td>\n",
       "      <td>solar</td>\n",
       "    </tr>\n",
       "    <tr>\n",
       "      <th>1549</th>\n",
       "      <td>Contact</td>\n",
       "      <td>--</td>\n",
       "      <td>2308.64</td>\n",
       "      <td>Shirdi Sai Electricals Limited</td>\n",
       "      <td>Shirdi Sai Electricals LimitedPrivate</td>\n",
       "      <td>2025</td>\n",
       "      <td>NaN</td>\n",
       "      <td>Private</td>\n",
       "      <td>Announced</td>\n",
       "      <td>Telangana</td>\n",
       "      <td>Shirdi Sai's integrated solar manufacturing unit</td>\n",
       "      <td>solar</td>\n",
       "    </tr>\n",
       "    <tr>\n",
       "      <th>1553</th>\n",
       "      <td>Contact</td>\n",
       "      <td>--</td>\n",
       "      <td>543.21</td>\n",
       "      <td>Tata Power Company Limited</td>\n",
       "      <td>Tata Power Company LimitedPrivate</td>\n",
       "      <td>--</td>\n",
       "      <td>NaN</td>\n",
       "      <td>Private</td>\n",
       "      <td>Announced</td>\n",
       "      <td>Tamil Nadu</td>\n",
       "      <td>Tata Power's cells and modules factory</td>\n",
       "      <td>solar</td>\n",
       "    </tr>\n",
       "  </tbody>\n",
       "</table>\n",
       "</div>"
      ],
      "text/plain": [
       "     Contact Developer Verfified by developer  Investment (USD Million)  \\\n",
       "233            Contact                     --                   2962.96   \n",
       "623            Contact                     --                   9481.48   \n",
       "1308           Contact                     --                    668.00   \n",
       "1476           Contact                     --                   6172.84   \n",
       "1477           Contact                     --                   6419.75   \n",
       "1478           Contact                     --                   6478.00   \n",
       "1479           Contact                     --                   6478.27   \n",
       "1481           Contact                     --                    507.28   \n",
       "1483           Contact                     --                    573.62   \n",
       "1484           Contact                     --                   3086.00   \n",
       "1485           Contact                     --                   4938.27   \n",
       "1495           Contact                     --                    550.00   \n",
       "1499           Contact                     --                   2500.00   \n",
       "1503           Contact                     --                   1851.00   \n",
       "1505           Contact                     --                    766.67   \n",
       "1506           Contact                     --                    766.67   \n",
       "1511           Contact                     --                   8070.00   \n",
       "1513           Contact                     --                   2800.00   \n",
       "1515           Contact                     --                    766.67   \n",
       "1516           Contact                     --                   3296.00   \n",
       "1526           Contact                     --                    740.74   \n",
       "1529           Contact                     --                    691.36   \n",
       "1543           Contact                     --                    864.20   \n",
       "1549           Contact                     --                   2308.64   \n",
       "1553           Contact                     --                    543.21   \n",
       "\n",
       "                        Developersorted ascending  \\\n",
       "233                              GDBIOGAS PVT LTD   \n",
       "623      SHYAAMG RENEWABLE ENERGY PRIVATE LIMITED   \n",
       "1308                           Coal India Limited   \n",
       "1476                        ABC Cleantech Limited   \n",
       "1477     ACME Cleantech Solutions Private Limited   \n",
       "1478     ACME Cleantech Solutions Private Limited   \n",
       "1479     ACME Cleantech Solutions Private Limited   \n",
       "1481          Adani New Industries Limited (ANIL)   \n",
       "1483  Amp Energy Limited and Ohmium International   \n",
       "1484                Avaada Energy Private Limited   \n",
       "1485                Avaada Energy Private Limited   \n",
       "1495                              HHP Two Limited   \n",
       "1499             Hygenco Green Energies Pvt. Ltd.   \n",
       "1503                           JSW Energy Limited   \n",
       "1505                         Jindal India Limited   \n",
       "1506                    L&T Electrolysers Limited   \n",
       "1511                                   NTPC Group   \n",
       "1513                               Petronas Group   \n",
       "1515    Reliance New Energy Solar Limited (RNESL)   \n",
       "1516                                  Renew Group   \n",
       "1526                Avaada Energy Private Limited   \n",
       "1529                           Coal India Limited   \n",
       "1543                         Rayzon Solar Limited   \n",
       "1549               Shirdi Sai Electricals Limited   \n",
       "1553                   Tata Power Company Limited   \n",
       "\n",
       "            Developersorted ascendingDeveloper Category Planned COD  \\\n",
       "233                             GDBIOGAS PVT LTDPrivate          --   \n",
       "623     SHYAAMG RENEWABLE ENERGY PRIVATE LIMITEDPrivate          --   \n",
       "1308                              Coal India LimitedPSU        2024   \n",
       "1476                       ABC Cleantech LimitedPrivate         NaN   \n",
       "1477    ACME Cleantech Solutions Private LimitedPrivate        2027   \n",
       "1478    ACME Cleantech Solutions Private LimitedPrivate        2027   \n",
       "1479    ACME Cleantech Solutions Private LimitedPrivate         NaN   \n",
       "1481         Adani New Industries Limited (ANIL)Private         NaN   \n",
       "1483  Amp Energy Limited and Ohmium InternationalPri...        2025   \n",
       "1484               Avaada Energy Private LimitedPrivate         NaN   \n",
       "1485               Avaada Energy Private LimitedPrivate        2026   \n",
       "1495                             HHP Two LimitedPrivate          --   \n",
       "1499            Hygenco Green Energies Pvt. Ltd.Private        2030   \n",
       "1503                          JSW Energy LimitedPrivate         NaN   \n",
       "1505                        Jindal India LimitedPrivate          --   \n",
       "1506                   L&T Electrolysers LimitedPrivate          --   \n",
       "1511                                      NTPC GroupPSU         NaN   \n",
       "1513                              Petronas GroupPrivate          --   \n",
       "1515   Reliance New Energy Solar Limited (RNESL)Private         NaN   \n",
       "1516                                 Renew GroupPrivate          --   \n",
       "1526               Avaada Energy Private LimitedPrivate        2023   \n",
       "1529                              Coal India LimitedPSU          --   \n",
       "1543                        Rayzon Solar LimitedPrivate        2025   \n",
       "1549              Shirdi Sai Electricals LimitedPrivate        2025   \n",
       "1553                  Tata Power Company LimitedPrivate          --   \n",
       "\n",
       "      Unnamed: 1 Developer Category Project Status           State  \\\n",
       "233          NaN            Private     Permitting     Maharashtra   \n",
       "623          NaN            Private     Permitting         Haryana   \n",
       "1308         NaN                PSU     Permitting       Rajasthan   \n",
       "1476         NaN            Private     Permitting       Karnataka   \n",
       "1477         NaN            Private     Permitting       Karnataka   \n",
       "1478         NaN            Private      Announced          Odisha   \n",
       "1479         NaN            Private      Announced      Tamil Nadu   \n",
       "1481         NaN            Private      Announced             NaN   \n",
       "1483         NaN            Private     Permitting             NaN   \n",
       "1484         NaN            Private      Announced          Odisha   \n",
       "1485         NaN            Private     Permitting       Rajasthan   \n",
       "1495         NaN            Private     Permitting              --   \n",
       "1499         NaN            Private      Announced          Odisha   \n",
       "1503         NaN            Private      Announced       Karnataka   \n",
       "1505         NaN            Private     Permitting              --   \n",
       "1506         NaN            Private     Permitting              --   \n",
       "1511         NaN                PSU      Announced  Andhra Pradesh   \n",
       "1513         NaN            Private      Announced       Karnataka   \n",
       "1515         NaN            Private     Permitting         Gujarat   \n",
       "1516         NaN            Private     Permitting          Kerala   \n",
       "1526         NaN            Private      Announced             NaN   \n",
       "1529         NaN                PSU      Announced             NaN   \n",
       "1543         NaN            Private      Announced         Gujarat   \n",
       "1549         NaN            Private      Announced       Telangana   \n",
       "1553         NaN            Private      Announced      Tamil Nadu   \n",
       "\n",
       "                                           Project Name    source  \n",
       "233                                    GDBIOGAS PVT LTD    biogas  \n",
       "623            SHYAAMG RENEWABLE ENERGY PRIVATE LIMITED    biogas  \n",
       "1308                 RVUNL's 1190 MW Bikaner solar park      grid  \n",
       "1476  ABC Cleantech's green hydrogen and ammonia pla...  hydrogen  \n",
       "1477  ACME's Green Hydrogen and Ammonia project, Kar...  hydrogen  \n",
       "1478  ACME Cleantech Solutions Private Limited Green...  hydrogen  \n",
       "1479  ACME's Green Hydrogen and Ammonia project, Tam...  hydrogen  \n",
       "1481            Adani's Electrolyser manufacturing unit  hydrogen  \n",
       "1483                      400 MW green hydrogen project  hydrogen  \n",
       "1484    Avaada's Green Ammonia project in Uttar Pradesh  hydrogen  \n",
       "1485        Avaada's Green Ammonia project in Rajasthan  hydrogen  \n",
       "1495            HHP Two Green Hydrogen Production Plant  hydrogen  \n",
       "1499                        Hygenco Green Ammonia Plant  hydrogen  \n",
       "1503           JSW's Green Ammonia project in Karnataka  hydrogen  \n",
       "1505  Jindal India Limited Electrolyser Manufacturin...  hydrogen  \n",
       "1506               L&T Electrolyser Manufacturing Plant  hydrogen  \n",
       "1511      NTPC Green Ammonia and Green Methanol project  hydrogen  \n",
       "1513  Petronas Group Green Hydrogen Derivatives Prod...  hydrogen  \n",
       "1515        Reliance's Electrolyzers Manufacturing Unit  hydrogen  \n",
       "1516  Renew Group Green Hydrogen Derivatives Product...  hydrogen  \n",
       "1526     Avaada's cells and modules production facility     solar  \n",
       "1529                       CIL's integrated PV facility     solar  \n",
       "1543          Rayzon's solar module production facility     solar  \n",
       "1549   Shirdi Sai's integrated solar manufacturing unit     solar  \n",
       "1553             Tata Power's cells and modules factory     solar  "
      ]
     },
     "execution_count": 13,
     "metadata": {},
     "output_type": "execute_result"
    }
   ],
   "source": [
    "large_early_projects.head(25)"
   ]
  },
  {
   "cell_type": "code",
   "execution_count": 14,
   "metadata": {},
   "outputs": [
    {
     "data": {
      "application/vnd.plotly.v1+json": {
       "config": {
        "plotlyServerURL": "https://plot.ly"
       },
       "data": [
        {
         "marker": {
          "color": "royalblue"
         },
         "name": "Number of Projects",
         "type": "bar",
         "x": [
          "hydrogen",
          "solar",
          "biogas",
          "grid"
         ],
         "xaxis": "x",
         "y": [
          17,
          5,
          2,
          1
         ],
         "yaxis": "y"
        },
        {
         "line": {
          "color": "red",
          "width": 3
         },
         "marker": {
          "color": "red",
          "size": 12
         },
         "mode": "lines+markers",
         "name": "Avg Investment (USD Millions)",
         "type": "scatter",
         "x": [
          "hydrogen",
          "solar",
          "biogas",
          "grid"
         ],
         "xaxis": "x",
         "y": [
          3295,
          1030,
          6222,
          668
         ],
         "yaxis": "y2"
        }
       ],
       "layout": {
        "height": 600,
        "legend": {
         "orientation": "h",
         "x": 0.5,
         "xanchor": "center",
         "y": 1.02,
         "yanchor": "bottom"
        },
        "template": {
         "data": {
          "bar": [
           {
            "error_x": {
             "color": "#2a3f5f"
            },
            "error_y": {
             "color": "#2a3f5f"
            },
            "marker": {
             "line": {
              "color": "white",
              "width": 0.5
             },
             "pattern": {
              "fillmode": "overlay",
              "size": 10,
              "solidity": 0.2
             }
            },
            "type": "bar"
           }
          ],
          "barpolar": [
           {
            "marker": {
             "line": {
              "color": "white",
              "width": 0.5
             },
             "pattern": {
              "fillmode": "overlay",
              "size": 10,
              "solidity": 0.2
             }
            },
            "type": "barpolar"
           }
          ],
          "carpet": [
           {
            "aaxis": {
             "endlinecolor": "#2a3f5f",
             "gridcolor": "#C8D4E3",
             "linecolor": "#C8D4E3",
             "minorgridcolor": "#C8D4E3",
             "startlinecolor": "#2a3f5f"
            },
            "baxis": {
             "endlinecolor": "#2a3f5f",
             "gridcolor": "#C8D4E3",
             "linecolor": "#C8D4E3",
             "minorgridcolor": "#C8D4E3",
             "startlinecolor": "#2a3f5f"
            },
            "type": "carpet"
           }
          ],
          "choropleth": [
           {
            "colorbar": {
             "outlinewidth": 0,
             "ticks": ""
            },
            "type": "choropleth"
           }
          ],
          "contour": [
           {
            "colorbar": {
             "outlinewidth": 0,
             "ticks": ""
            },
            "colorscale": [
             [
              0,
              "#0d0887"
             ],
             [
              0.1111111111111111,
              "#46039f"
             ],
             [
              0.2222222222222222,
              "#7201a8"
             ],
             [
              0.3333333333333333,
              "#9c179e"
             ],
             [
              0.4444444444444444,
              "#bd3786"
             ],
             [
              0.5555555555555556,
              "#d8576b"
             ],
             [
              0.6666666666666666,
              "#ed7953"
             ],
             [
              0.7777777777777778,
              "#fb9f3a"
             ],
             [
              0.8888888888888888,
              "#fdca26"
             ],
             [
              1,
              "#f0f921"
             ]
            ],
            "type": "contour"
           }
          ],
          "contourcarpet": [
           {
            "colorbar": {
             "outlinewidth": 0,
             "ticks": ""
            },
            "type": "contourcarpet"
           }
          ],
          "heatmap": [
           {
            "colorbar": {
             "outlinewidth": 0,
             "ticks": ""
            },
            "colorscale": [
             [
              0,
              "#0d0887"
             ],
             [
              0.1111111111111111,
              "#46039f"
             ],
             [
              0.2222222222222222,
              "#7201a8"
             ],
             [
              0.3333333333333333,
              "#9c179e"
             ],
             [
              0.4444444444444444,
              "#bd3786"
             ],
             [
              0.5555555555555556,
              "#d8576b"
             ],
             [
              0.6666666666666666,
              "#ed7953"
             ],
             [
              0.7777777777777778,
              "#fb9f3a"
             ],
             [
              0.8888888888888888,
              "#fdca26"
             ],
             [
              1,
              "#f0f921"
             ]
            ],
            "type": "heatmap"
           }
          ],
          "heatmapgl": [
           {
            "colorbar": {
             "outlinewidth": 0,
             "ticks": ""
            },
            "colorscale": [
             [
              0,
              "#0d0887"
             ],
             [
              0.1111111111111111,
              "#46039f"
             ],
             [
              0.2222222222222222,
              "#7201a8"
             ],
             [
              0.3333333333333333,
              "#9c179e"
             ],
             [
              0.4444444444444444,
              "#bd3786"
             ],
             [
              0.5555555555555556,
              "#d8576b"
             ],
             [
              0.6666666666666666,
              "#ed7953"
             ],
             [
              0.7777777777777778,
              "#fb9f3a"
             ],
             [
              0.8888888888888888,
              "#fdca26"
             ],
             [
              1,
              "#f0f921"
             ]
            ],
            "type": "heatmapgl"
           }
          ],
          "histogram": [
           {
            "marker": {
             "pattern": {
              "fillmode": "overlay",
              "size": 10,
              "solidity": 0.2
             }
            },
            "type": "histogram"
           }
          ],
          "histogram2d": [
           {
            "colorbar": {
             "outlinewidth": 0,
             "ticks": ""
            },
            "colorscale": [
             [
              0,
              "#0d0887"
             ],
             [
              0.1111111111111111,
              "#46039f"
             ],
             [
              0.2222222222222222,
              "#7201a8"
             ],
             [
              0.3333333333333333,
              "#9c179e"
             ],
             [
              0.4444444444444444,
              "#bd3786"
             ],
             [
              0.5555555555555556,
              "#d8576b"
             ],
             [
              0.6666666666666666,
              "#ed7953"
             ],
             [
              0.7777777777777778,
              "#fb9f3a"
             ],
             [
              0.8888888888888888,
              "#fdca26"
             ],
             [
              1,
              "#f0f921"
             ]
            ],
            "type": "histogram2d"
           }
          ],
          "histogram2dcontour": [
           {
            "colorbar": {
             "outlinewidth": 0,
             "ticks": ""
            },
            "colorscale": [
             [
              0,
              "#0d0887"
             ],
             [
              0.1111111111111111,
              "#46039f"
             ],
             [
              0.2222222222222222,
              "#7201a8"
             ],
             [
              0.3333333333333333,
              "#9c179e"
             ],
             [
              0.4444444444444444,
              "#bd3786"
             ],
             [
              0.5555555555555556,
              "#d8576b"
             ],
             [
              0.6666666666666666,
              "#ed7953"
             ],
             [
              0.7777777777777778,
              "#fb9f3a"
             ],
             [
              0.8888888888888888,
              "#fdca26"
             ],
             [
              1,
              "#f0f921"
             ]
            ],
            "type": "histogram2dcontour"
           }
          ],
          "mesh3d": [
           {
            "colorbar": {
             "outlinewidth": 0,
             "ticks": ""
            },
            "type": "mesh3d"
           }
          ],
          "parcoords": [
           {
            "line": {
             "colorbar": {
              "outlinewidth": 0,
              "ticks": ""
             }
            },
            "type": "parcoords"
           }
          ],
          "pie": [
           {
            "automargin": true,
            "type": "pie"
           }
          ],
          "scatter": [
           {
            "fillpattern": {
             "fillmode": "overlay",
             "size": 10,
             "solidity": 0.2
            },
            "type": "scatter"
           }
          ],
          "scatter3d": [
           {
            "line": {
             "colorbar": {
              "outlinewidth": 0,
              "ticks": ""
             }
            },
            "marker": {
             "colorbar": {
              "outlinewidth": 0,
              "ticks": ""
             }
            },
            "type": "scatter3d"
           }
          ],
          "scattercarpet": [
           {
            "marker": {
             "colorbar": {
              "outlinewidth": 0,
              "ticks": ""
             }
            },
            "type": "scattercarpet"
           }
          ],
          "scattergeo": [
           {
            "marker": {
             "colorbar": {
              "outlinewidth": 0,
              "ticks": ""
             }
            },
            "type": "scattergeo"
           }
          ],
          "scattergl": [
           {
            "marker": {
             "colorbar": {
              "outlinewidth": 0,
              "ticks": ""
             }
            },
            "type": "scattergl"
           }
          ],
          "scattermapbox": [
           {
            "marker": {
             "colorbar": {
              "outlinewidth": 0,
              "ticks": ""
             }
            },
            "type": "scattermapbox"
           }
          ],
          "scatterpolar": [
           {
            "marker": {
             "colorbar": {
              "outlinewidth": 0,
              "ticks": ""
             }
            },
            "type": "scatterpolar"
           }
          ],
          "scatterpolargl": [
           {
            "marker": {
             "colorbar": {
              "outlinewidth": 0,
              "ticks": ""
             }
            },
            "type": "scatterpolargl"
           }
          ],
          "scatterternary": [
           {
            "marker": {
             "colorbar": {
              "outlinewidth": 0,
              "ticks": ""
             }
            },
            "type": "scatterternary"
           }
          ],
          "surface": [
           {
            "colorbar": {
             "outlinewidth": 0,
             "ticks": ""
            },
            "colorscale": [
             [
              0,
              "#0d0887"
             ],
             [
              0.1111111111111111,
              "#46039f"
             ],
             [
              0.2222222222222222,
              "#7201a8"
             ],
             [
              0.3333333333333333,
              "#9c179e"
             ],
             [
              0.4444444444444444,
              "#bd3786"
             ],
             [
              0.5555555555555556,
              "#d8576b"
             ],
             [
              0.6666666666666666,
              "#ed7953"
             ],
             [
              0.7777777777777778,
              "#fb9f3a"
             ],
             [
              0.8888888888888888,
              "#fdca26"
             ],
             [
              1,
              "#f0f921"
             ]
            ],
            "type": "surface"
           }
          ],
          "table": [
           {
            "cells": {
             "fill": {
              "color": "#EBF0F8"
             },
             "line": {
              "color": "white"
             }
            },
            "header": {
             "fill": {
              "color": "#C8D4E3"
             },
             "line": {
              "color": "white"
             }
            },
            "type": "table"
           }
          ]
         },
         "layout": {
          "annotationdefaults": {
           "arrowcolor": "#2a3f5f",
           "arrowhead": 0,
           "arrowwidth": 1
          },
          "autotypenumbers": "strict",
          "coloraxis": {
           "colorbar": {
            "outlinewidth": 0,
            "ticks": ""
           }
          },
          "colorscale": {
           "diverging": [
            [
             0,
             "#8e0152"
            ],
            [
             0.1,
             "#c51b7d"
            ],
            [
             0.2,
             "#de77ae"
            ],
            [
             0.3,
             "#f1b6da"
            ],
            [
             0.4,
             "#fde0ef"
            ],
            [
             0.5,
             "#f7f7f7"
            ],
            [
             0.6,
             "#e6f5d0"
            ],
            [
             0.7,
             "#b8e186"
            ],
            [
             0.8,
             "#7fbc41"
            ],
            [
             0.9,
             "#4d9221"
            ],
            [
             1,
             "#276419"
            ]
           ],
           "sequential": [
            [
             0,
             "#0d0887"
            ],
            [
             0.1111111111111111,
             "#46039f"
            ],
            [
             0.2222222222222222,
             "#7201a8"
            ],
            [
             0.3333333333333333,
             "#9c179e"
            ],
            [
             0.4444444444444444,
             "#bd3786"
            ],
            [
             0.5555555555555556,
             "#d8576b"
            ],
            [
             0.6666666666666666,
             "#ed7953"
            ],
            [
             0.7777777777777778,
             "#fb9f3a"
            ],
            [
             0.8888888888888888,
             "#fdca26"
            ],
            [
             1,
             "#f0f921"
            ]
           ],
           "sequentialminus": [
            [
             0,
             "#0d0887"
            ],
            [
             0.1111111111111111,
             "#46039f"
            ],
            [
             0.2222222222222222,
             "#7201a8"
            ],
            [
             0.3333333333333333,
             "#9c179e"
            ],
            [
             0.4444444444444444,
             "#bd3786"
            ],
            [
             0.5555555555555556,
             "#d8576b"
            ],
            [
             0.6666666666666666,
             "#ed7953"
            ],
            [
             0.7777777777777778,
             "#fb9f3a"
            ],
            [
             0.8888888888888888,
             "#fdca26"
            ],
            [
             1,
             "#f0f921"
            ]
           ]
          },
          "colorway": [
           "#636efa",
           "#EF553B",
           "#00cc96",
           "#ab63fa",
           "#FFA15A",
           "#19d3f3",
           "#FF6692",
           "#B6E880",
           "#FF97FF",
           "#FECB52"
          ],
          "font": {
           "color": "#2a3f5f"
          },
          "geo": {
           "bgcolor": "white",
           "lakecolor": "white",
           "landcolor": "white",
           "showlakes": true,
           "showland": true,
           "subunitcolor": "#C8D4E3"
          },
          "hoverlabel": {
           "align": "left"
          },
          "hovermode": "closest",
          "mapbox": {
           "style": "light"
          },
          "paper_bgcolor": "white",
          "plot_bgcolor": "white",
          "polar": {
           "angularaxis": {
            "gridcolor": "#EBF0F8",
            "linecolor": "#EBF0F8",
            "ticks": ""
           },
           "bgcolor": "white",
           "radialaxis": {
            "gridcolor": "#EBF0F8",
            "linecolor": "#EBF0F8",
            "ticks": ""
           }
          },
          "scene": {
           "xaxis": {
            "backgroundcolor": "white",
            "gridcolor": "#DFE8F3",
            "gridwidth": 2,
            "linecolor": "#EBF0F8",
            "showbackground": true,
            "ticks": "",
            "zerolinecolor": "#EBF0F8"
           },
           "yaxis": {
            "backgroundcolor": "white",
            "gridcolor": "#DFE8F3",
            "gridwidth": 2,
            "linecolor": "#EBF0F8",
            "showbackground": true,
            "ticks": "",
            "zerolinecolor": "#EBF0F8"
           },
           "zaxis": {
            "backgroundcolor": "white",
            "gridcolor": "#DFE8F3",
            "gridwidth": 2,
            "linecolor": "#EBF0F8",
            "showbackground": true,
            "ticks": "",
            "zerolinecolor": "#EBF0F8"
           }
          },
          "shapedefaults": {
           "line": {
            "color": "#2a3f5f"
           }
          },
          "ternary": {
           "aaxis": {
            "gridcolor": "#DFE8F3",
            "linecolor": "#A2B1C6",
            "ticks": ""
           },
           "baxis": {
            "gridcolor": "#DFE8F3",
            "linecolor": "#A2B1C6",
            "ticks": ""
           },
           "bgcolor": "white",
           "caxis": {
            "gridcolor": "#DFE8F3",
            "linecolor": "#A2B1C6",
            "ticks": ""
           }
          },
          "title": {
           "x": 0.05
          },
          "xaxis": {
           "automargin": true,
           "gridcolor": "#EBF0F8",
           "linecolor": "#EBF0F8",
           "ticks": "",
           "title": {
            "standoff": 15
           },
           "zerolinecolor": "#EBF0F8",
           "zerolinewidth": 2
          },
          "yaxis": {
           "automargin": true,
           "gridcolor": "#EBF0F8",
           "linecolor": "#EBF0F8",
           "ticks": "",
           "title": {
            "standoff": 15
           },
           "zerolinecolor": "#EBF0F8",
           "zerolinewidth": 2
          }
         }
        },
        "title": {
         "text": "Large Early-Stage Projects by Sector"
        },
        "xaxis": {
         "anchor": "y",
         "domain": [
          0,
          0.94
         ],
         "title": {
          "text": "Sector"
         }
        },
        "yaxis": {
         "anchor": "x",
         "domain": [
          0,
          1
         ],
         "title": {
          "text": "Number of Projects"
         }
        },
        "yaxis2": {
         "anchor": "x",
         "overlaying": "y",
         "side": "right",
         "title": {
          "text": "Average Investment (USD Millions)"
         }
        }
       }
      }
     },
     "metadata": {},
     "output_type": "display_data"
    },
    {
     "data": {
      "text/html": [
       "<div>\n",
       "<style scoped>\n",
       "    .dataframe tbody tr th:only-of-type {\n",
       "        vertical-align: middle;\n",
       "    }\n",
       "\n",
       "    .dataframe tbody tr th {\n",
       "        vertical-align: top;\n",
       "    }\n",
       "\n",
       "    .dataframe thead th {\n",
       "        text-align: right;\n",
       "    }\n",
       "</style>\n",
       "<table border=\"1\" class=\"dataframe\">\n",
       "  <thead>\n",
       "    <tr style=\"text-align: right;\">\n",
       "      <th></th>\n",
       "      <th>source</th>\n",
       "      <th>Project_Count</th>\n",
       "      <th>Avg_Investment</th>\n",
       "      <th>Min_Investment</th>\n",
       "      <th>Max_Investment</th>\n",
       "      <th>Total_Investment</th>\n",
       "    </tr>\n",
       "  </thead>\n",
       "  <tbody>\n",
       "    <tr>\n",
       "      <th>2</th>\n",
       "      <td>hydrogen</td>\n",
       "      <td>17</td>\n",
       "      <td>3295.4</td>\n",
       "      <td>507.3</td>\n",
       "      <td>8070.0</td>\n",
       "      <td>56021.0</td>\n",
       "    </tr>\n",
       "    <tr>\n",
       "      <th>3</th>\n",
       "      <td>solar</td>\n",
       "      <td>5</td>\n",
       "      <td>1029.6</td>\n",
       "      <td>543.2</td>\n",
       "      <td>2308.6</td>\n",
       "      <td>5148.2</td>\n",
       "    </tr>\n",
       "    <tr>\n",
       "      <th>0</th>\n",
       "      <td>biogas</td>\n",
       "      <td>2</td>\n",
       "      <td>6222.2</td>\n",
       "      <td>2963.0</td>\n",
       "      <td>9481.5</td>\n",
       "      <td>12444.4</td>\n",
       "    </tr>\n",
       "    <tr>\n",
       "      <th>1</th>\n",
       "      <td>grid</td>\n",
       "      <td>1</td>\n",
       "      <td>668.0</td>\n",
       "      <td>668.0</td>\n",
       "      <td>668.0</td>\n",
       "      <td>668.0</td>\n",
       "    </tr>\n",
       "  </tbody>\n",
       "</table>\n",
       "</div>"
      ],
      "text/plain": [
       "     source  Project_Count  Avg_Investment  Min_Investment  Max_Investment  \\\n",
       "2  hydrogen             17          3295.4           507.3          8070.0   \n",
       "3     solar              5          1029.6           543.2          2308.6   \n",
       "0    biogas              2          6222.2          2963.0          9481.5   \n",
       "1      grid              1           668.0           668.0           668.0   \n",
       "\n",
       "   Total_Investment  \n",
       "2           56021.0  \n",
       "3            5148.2  \n",
       "0           12444.4  \n",
       "1             668.0  "
      ]
     },
     "execution_count": 14,
     "metadata": {},
     "output_type": "execute_result"
    }
   ],
   "source": [
    "# Get counts by sector\n",
    "sector_counts = large_early_projects['source'].value_counts().reset_index()\n",
    "sector_counts.columns = ['Sector', 'Count']\n",
    "\n",
    "# Calculate average investment by sector\n",
    "sector_investment = large_early_projects.groupby('source')['Investment (USD Million)'].mean().reset_index()\n",
    "sector_investment.columns = ['Sector', 'Average Investment']\n",
    "\n",
    "# Merge the data\n",
    "sector_data = pd.merge(sector_counts, sector_investment, on='Sector')\n",
    "sector_data['Average Investment'] = sector_data['Average Investment'].round(0)\n",
    "\n",
    "# Create figure with secondary y-axis\n",
    "fig = make_subplots(specs=[[{\"secondary_y\": True}]])\n",
    "\n",
    "# Add bar chart for counts\n",
    "fig.add_trace(\n",
    "    go.Bar(\n",
    "        x=sector_data['Sector'],\n",
    "        y=sector_data['Count'],\n",
    "        name=\"Number of Projects\",\n",
    "        marker_color='royalblue'\n",
    "    ),\n",
    "    secondary_y=False,\n",
    ")\n",
    "\n",
    "# Add line chart for average investment\n",
    "fig.add_trace(\n",
    "    go.Scatter(\n",
    "        x=sector_data['Sector'],\n",
    "        y=sector_data['Average Investment'],\n",
    "        name=\"Avg Investment (USD Millions)\",\n",
    "        mode='lines+markers',\n",
    "        marker=dict(size=12, color='red'),\n",
    "        line=dict(width=3, color='red')\n",
    "    ),\n",
    "    secondary_y=True,\n",
    ")\n",
    "\n",
    "# Add figure title\n",
    "fig.update_layout(\n",
    "    title_text=\"Large Early-Stage Projects by Sector\",\n",
    "    template=\"plotly_white\",\n",
    "    height=600,\n",
    "    legend=dict(orientation=\"h\", yanchor=\"bottom\", y=1.02, xanchor=\"center\", x=0.5)\n",
    ")\n",
    "\n",
    "# Set x-axis title\n",
    "fig.update_xaxes(title_text=\"Sector\")\n",
    "\n",
    "# Set y-axes titles\n",
    "fig.update_yaxes(title_text=\"Number of Projects\", secondary_y=False)\n",
    "fig.update_yaxes(title_text=\"Average Investment (USD Millions)\", secondary_y=True)\n",
    "\n",
    "fig.show()\n",
    "\n",
    "# Add a table with detailed statistics\n",
    "stats_by_sector = large_early_projects.groupby('source').agg(\n",
    "    Project_Count=('Investment (USD Million)', 'count'),\n",
    "    Avg_Investment=('Investment (USD Million)', 'mean'),\n",
    "    Min_Investment=('Investment (USD Million)', 'min'),\n",
    "    Max_Investment=('Investment (USD Million)', 'max'),\n",
    "    Total_Investment=('Investment (USD Million)', 'sum')\n",
    ").round(1).reset_index()\n",
    "\n",
    "stats_by_sector = stats_by_sector.sort_values('Project_Count', ascending=False)\n",
    "stats_by_sector"
   ]
  },
  {
   "cell_type": "code",
   "execution_count": 15,
   "metadata": {},
   "outputs": [
    {
     "data": {
      "application/vnd.plotly.v1+json": {
       "config": {
        "plotlyServerURL": "https://plot.ly"
       },
       "data": [
        {
         "alignmentgroup": "True",
         "hovertemplate": "Number of Projects=%{marker.color}<br>=%{y}<extra></extra>",
         "legendgroup": "",
         "marker": {
          "color": [
           4,
           3,
           2,
           2,
           2,
           1,
           1,
           1,
           1,
           1
          ],
          "coloraxis": "coloraxis",
          "pattern": {
           "shape": ""
          }
         },
         "name": "",
         "offsetgroup": "",
         "orientation": "h",
         "showlegend": false,
         "textposition": "auto",
         "type": "bar",
         "x": [
          4,
          3,
          2,
          2,
          2,
          1,
          1,
          1,
          1,
          1
         ],
         "xaxis": "x",
         "y": [
          "Karnataka",
          "Odisha",
          "Rajasthan",
          "Tamil Nadu",
          "Gujarat",
          "Maharashtra",
          "Haryana",
          "Andhra Pradesh",
          "Kerala",
          "Telangana"
         ],
         "yaxis": "y"
        }
       ],
       "layout": {
        "barmode": "relative",
        "coloraxis": {
         "colorbar": {
          "title": {
           "text": "Number of Projects"
          }
         },
         "colorscale": [
          [
           0,
           "#440154"
          ],
          [
           0.1111111111111111,
           "#482878"
          ],
          [
           0.2222222222222222,
           "#3e4989"
          ],
          [
           0.3333333333333333,
           "#31688e"
          ],
          [
           0.4444444444444444,
           "#26828e"
          ],
          [
           0.5555555555555556,
           "#1f9e89"
          ],
          [
           0.6666666666666666,
           "#35b779"
          ],
          [
           0.7777777777777778,
           "#6ece58"
          ],
          [
           0.8888888888888888,
           "#b5de2b"
          ],
          [
           1,
           "#fde725"
          ]
         ]
        },
        "height": 600,
        "legend": {
         "tracegroupgap": 0
        },
        "template": {
         "data": {
          "bar": [
           {
            "error_x": {
             "color": "#2a3f5f"
            },
            "error_y": {
             "color": "#2a3f5f"
            },
            "marker": {
             "line": {
              "color": "white",
              "width": 0.5
             },
             "pattern": {
              "fillmode": "overlay",
              "size": 10,
              "solidity": 0.2
             }
            },
            "type": "bar"
           }
          ],
          "barpolar": [
           {
            "marker": {
             "line": {
              "color": "white",
              "width": 0.5
             },
             "pattern": {
              "fillmode": "overlay",
              "size": 10,
              "solidity": 0.2
             }
            },
            "type": "barpolar"
           }
          ],
          "carpet": [
           {
            "aaxis": {
             "endlinecolor": "#2a3f5f",
             "gridcolor": "#C8D4E3",
             "linecolor": "#C8D4E3",
             "minorgridcolor": "#C8D4E3",
             "startlinecolor": "#2a3f5f"
            },
            "baxis": {
             "endlinecolor": "#2a3f5f",
             "gridcolor": "#C8D4E3",
             "linecolor": "#C8D4E3",
             "minorgridcolor": "#C8D4E3",
             "startlinecolor": "#2a3f5f"
            },
            "type": "carpet"
           }
          ],
          "choropleth": [
           {
            "colorbar": {
             "outlinewidth": 0,
             "ticks": ""
            },
            "type": "choropleth"
           }
          ],
          "contour": [
           {
            "colorbar": {
             "outlinewidth": 0,
             "ticks": ""
            },
            "colorscale": [
             [
              0,
              "#0d0887"
             ],
             [
              0.1111111111111111,
              "#46039f"
             ],
             [
              0.2222222222222222,
              "#7201a8"
             ],
             [
              0.3333333333333333,
              "#9c179e"
             ],
             [
              0.4444444444444444,
              "#bd3786"
             ],
             [
              0.5555555555555556,
              "#d8576b"
             ],
             [
              0.6666666666666666,
              "#ed7953"
             ],
             [
              0.7777777777777778,
              "#fb9f3a"
             ],
             [
              0.8888888888888888,
              "#fdca26"
             ],
             [
              1,
              "#f0f921"
             ]
            ],
            "type": "contour"
           }
          ],
          "contourcarpet": [
           {
            "colorbar": {
             "outlinewidth": 0,
             "ticks": ""
            },
            "type": "contourcarpet"
           }
          ],
          "heatmap": [
           {
            "colorbar": {
             "outlinewidth": 0,
             "ticks": ""
            },
            "colorscale": [
             [
              0,
              "#0d0887"
             ],
             [
              0.1111111111111111,
              "#46039f"
             ],
             [
              0.2222222222222222,
              "#7201a8"
             ],
             [
              0.3333333333333333,
              "#9c179e"
             ],
             [
              0.4444444444444444,
              "#bd3786"
             ],
             [
              0.5555555555555556,
              "#d8576b"
             ],
             [
              0.6666666666666666,
              "#ed7953"
             ],
             [
              0.7777777777777778,
              "#fb9f3a"
             ],
             [
              0.8888888888888888,
              "#fdca26"
             ],
             [
              1,
              "#f0f921"
             ]
            ],
            "type": "heatmap"
           }
          ],
          "heatmapgl": [
           {
            "colorbar": {
             "outlinewidth": 0,
             "ticks": ""
            },
            "colorscale": [
             [
              0,
              "#0d0887"
             ],
             [
              0.1111111111111111,
              "#46039f"
             ],
             [
              0.2222222222222222,
              "#7201a8"
             ],
             [
              0.3333333333333333,
              "#9c179e"
             ],
             [
              0.4444444444444444,
              "#bd3786"
             ],
             [
              0.5555555555555556,
              "#d8576b"
             ],
             [
              0.6666666666666666,
              "#ed7953"
             ],
             [
              0.7777777777777778,
              "#fb9f3a"
             ],
             [
              0.8888888888888888,
              "#fdca26"
             ],
             [
              1,
              "#f0f921"
             ]
            ],
            "type": "heatmapgl"
           }
          ],
          "histogram": [
           {
            "marker": {
             "pattern": {
              "fillmode": "overlay",
              "size": 10,
              "solidity": 0.2
             }
            },
            "type": "histogram"
           }
          ],
          "histogram2d": [
           {
            "colorbar": {
             "outlinewidth": 0,
             "ticks": ""
            },
            "colorscale": [
             [
              0,
              "#0d0887"
             ],
             [
              0.1111111111111111,
              "#46039f"
             ],
             [
              0.2222222222222222,
              "#7201a8"
             ],
             [
              0.3333333333333333,
              "#9c179e"
             ],
             [
              0.4444444444444444,
              "#bd3786"
             ],
             [
              0.5555555555555556,
              "#d8576b"
             ],
             [
              0.6666666666666666,
              "#ed7953"
             ],
             [
              0.7777777777777778,
              "#fb9f3a"
             ],
             [
              0.8888888888888888,
              "#fdca26"
             ],
             [
              1,
              "#f0f921"
             ]
            ],
            "type": "histogram2d"
           }
          ],
          "histogram2dcontour": [
           {
            "colorbar": {
             "outlinewidth": 0,
             "ticks": ""
            },
            "colorscale": [
             [
              0,
              "#0d0887"
             ],
             [
              0.1111111111111111,
              "#46039f"
             ],
             [
              0.2222222222222222,
              "#7201a8"
             ],
             [
              0.3333333333333333,
              "#9c179e"
             ],
             [
              0.4444444444444444,
              "#bd3786"
             ],
             [
              0.5555555555555556,
              "#d8576b"
             ],
             [
              0.6666666666666666,
              "#ed7953"
             ],
             [
              0.7777777777777778,
              "#fb9f3a"
             ],
             [
              0.8888888888888888,
              "#fdca26"
             ],
             [
              1,
              "#f0f921"
             ]
            ],
            "type": "histogram2dcontour"
           }
          ],
          "mesh3d": [
           {
            "colorbar": {
             "outlinewidth": 0,
             "ticks": ""
            },
            "type": "mesh3d"
           }
          ],
          "parcoords": [
           {
            "line": {
             "colorbar": {
              "outlinewidth": 0,
              "ticks": ""
             }
            },
            "type": "parcoords"
           }
          ],
          "pie": [
           {
            "automargin": true,
            "type": "pie"
           }
          ],
          "scatter": [
           {
            "fillpattern": {
             "fillmode": "overlay",
             "size": 10,
             "solidity": 0.2
            },
            "type": "scatter"
           }
          ],
          "scatter3d": [
           {
            "line": {
             "colorbar": {
              "outlinewidth": 0,
              "ticks": ""
             }
            },
            "marker": {
             "colorbar": {
              "outlinewidth": 0,
              "ticks": ""
             }
            },
            "type": "scatter3d"
           }
          ],
          "scattercarpet": [
           {
            "marker": {
             "colorbar": {
              "outlinewidth": 0,
              "ticks": ""
             }
            },
            "type": "scattercarpet"
           }
          ],
          "scattergeo": [
           {
            "marker": {
             "colorbar": {
              "outlinewidth": 0,
              "ticks": ""
             }
            },
            "type": "scattergeo"
           }
          ],
          "scattergl": [
           {
            "marker": {
             "colorbar": {
              "outlinewidth": 0,
              "ticks": ""
             }
            },
            "type": "scattergl"
           }
          ],
          "scattermapbox": [
           {
            "marker": {
             "colorbar": {
              "outlinewidth": 0,
              "ticks": ""
             }
            },
            "type": "scattermapbox"
           }
          ],
          "scatterpolar": [
           {
            "marker": {
             "colorbar": {
              "outlinewidth": 0,
              "ticks": ""
             }
            },
            "type": "scatterpolar"
           }
          ],
          "scatterpolargl": [
           {
            "marker": {
             "colorbar": {
              "outlinewidth": 0,
              "ticks": ""
             }
            },
            "type": "scatterpolargl"
           }
          ],
          "scatterternary": [
           {
            "marker": {
             "colorbar": {
              "outlinewidth": 0,
              "ticks": ""
             }
            },
            "type": "scatterternary"
           }
          ],
          "surface": [
           {
            "colorbar": {
             "outlinewidth": 0,
             "ticks": ""
            },
            "colorscale": [
             [
              0,
              "#0d0887"
             ],
             [
              0.1111111111111111,
              "#46039f"
             ],
             [
              0.2222222222222222,
              "#7201a8"
             ],
             [
              0.3333333333333333,
              "#9c179e"
             ],
             [
              0.4444444444444444,
              "#bd3786"
             ],
             [
              0.5555555555555556,
              "#d8576b"
             ],
             [
              0.6666666666666666,
              "#ed7953"
             ],
             [
              0.7777777777777778,
              "#fb9f3a"
             ],
             [
              0.8888888888888888,
              "#fdca26"
             ],
             [
              1,
              "#f0f921"
             ]
            ],
            "type": "surface"
           }
          ],
          "table": [
           {
            "cells": {
             "fill": {
              "color": "#EBF0F8"
             },
             "line": {
              "color": "white"
             }
            },
            "header": {
             "fill": {
              "color": "#C8D4E3"
             },
             "line": {
              "color": "white"
             }
            },
            "type": "table"
           }
          ]
         },
         "layout": {
          "annotationdefaults": {
           "arrowcolor": "#2a3f5f",
           "arrowhead": 0,
           "arrowwidth": 1
          },
          "autotypenumbers": "strict",
          "coloraxis": {
           "colorbar": {
            "outlinewidth": 0,
            "ticks": ""
           }
          },
          "colorscale": {
           "diverging": [
            [
             0,
             "#8e0152"
            ],
            [
             0.1,
             "#c51b7d"
            ],
            [
             0.2,
             "#de77ae"
            ],
            [
             0.3,
             "#f1b6da"
            ],
            [
             0.4,
             "#fde0ef"
            ],
            [
             0.5,
             "#f7f7f7"
            ],
            [
             0.6,
             "#e6f5d0"
            ],
            [
             0.7,
             "#b8e186"
            ],
            [
             0.8,
             "#7fbc41"
            ],
            [
             0.9,
             "#4d9221"
            ],
            [
             1,
             "#276419"
            ]
           ],
           "sequential": [
            [
             0,
             "#0d0887"
            ],
            [
             0.1111111111111111,
             "#46039f"
            ],
            [
             0.2222222222222222,
             "#7201a8"
            ],
            [
             0.3333333333333333,
             "#9c179e"
            ],
            [
             0.4444444444444444,
             "#bd3786"
            ],
            [
             0.5555555555555556,
             "#d8576b"
            ],
            [
             0.6666666666666666,
             "#ed7953"
            ],
            [
             0.7777777777777778,
             "#fb9f3a"
            ],
            [
             0.8888888888888888,
             "#fdca26"
            ],
            [
             1,
             "#f0f921"
            ]
           ],
           "sequentialminus": [
            [
             0,
             "#0d0887"
            ],
            [
             0.1111111111111111,
             "#46039f"
            ],
            [
             0.2222222222222222,
             "#7201a8"
            ],
            [
             0.3333333333333333,
             "#9c179e"
            ],
            [
             0.4444444444444444,
             "#bd3786"
            ],
            [
             0.5555555555555556,
             "#d8576b"
            ],
            [
             0.6666666666666666,
             "#ed7953"
            ],
            [
             0.7777777777777778,
             "#fb9f3a"
            ],
            [
             0.8888888888888888,
             "#fdca26"
            ],
            [
             1,
             "#f0f921"
            ]
           ]
          },
          "colorway": [
           "#636efa",
           "#EF553B",
           "#00cc96",
           "#ab63fa",
           "#FFA15A",
           "#19d3f3",
           "#FF6692",
           "#B6E880",
           "#FF97FF",
           "#FECB52"
          ],
          "font": {
           "color": "#2a3f5f"
          },
          "geo": {
           "bgcolor": "white",
           "lakecolor": "white",
           "landcolor": "white",
           "showlakes": true,
           "showland": true,
           "subunitcolor": "#C8D4E3"
          },
          "hoverlabel": {
           "align": "left"
          },
          "hovermode": "closest",
          "mapbox": {
           "style": "light"
          },
          "paper_bgcolor": "white",
          "plot_bgcolor": "white",
          "polar": {
           "angularaxis": {
            "gridcolor": "#EBF0F8",
            "linecolor": "#EBF0F8",
            "ticks": ""
           },
           "bgcolor": "white",
           "radialaxis": {
            "gridcolor": "#EBF0F8",
            "linecolor": "#EBF0F8",
            "ticks": ""
           }
          },
          "scene": {
           "xaxis": {
            "backgroundcolor": "white",
            "gridcolor": "#DFE8F3",
            "gridwidth": 2,
            "linecolor": "#EBF0F8",
            "showbackground": true,
            "ticks": "",
            "zerolinecolor": "#EBF0F8"
           },
           "yaxis": {
            "backgroundcolor": "white",
            "gridcolor": "#DFE8F3",
            "gridwidth": 2,
            "linecolor": "#EBF0F8",
            "showbackground": true,
            "ticks": "",
            "zerolinecolor": "#EBF0F8"
           },
           "zaxis": {
            "backgroundcolor": "white",
            "gridcolor": "#DFE8F3",
            "gridwidth": 2,
            "linecolor": "#EBF0F8",
            "showbackground": true,
            "ticks": "",
            "zerolinecolor": "#EBF0F8"
           }
          },
          "shapedefaults": {
           "line": {
            "color": "#2a3f5f"
           }
          },
          "ternary": {
           "aaxis": {
            "gridcolor": "#DFE8F3",
            "linecolor": "#A2B1C6",
            "ticks": ""
           },
           "baxis": {
            "gridcolor": "#DFE8F3",
            "linecolor": "#A2B1C6",
            "ticks": ""
           },
           "bgcolor": "white",
           "caxis": {
            "gridcolor": "#DFE8F3",
            "linecolor": "#A2B1C6",
            "ticks": ""
           }
          },
          "title": {
           "x": 0.05
          },
          "xaxis": {
           "automargin": true,
           "gridcolor": "#EBF0F8",
           "linecolor": "#EBF0F8",
           "ticks": "",
           "title": {
            "standoff": 15
           },
           "zerolinecolor": "#EBF0F8",
           "zerolinewidth": 2
          },
          "yaxis": {
           "automargin": true,
           "gridcolor": "#EBF0F8",
           "linecolor": "#EBF0F8",
           "ticks": "",
           "title": {
            "standoff": 15
           },
           "zerolinecolor": "#EBF0F8",
           "zerolinewidth": 2
          }
         }
        },
        "title": {
         "text": "Top 10 States with Large Early-Stage Projects"
        },
        "xaxis": {
         "anchor": "y",
         "domain": [
          0,
          1
         ],
         "title": {
          "text": "Number of Projects"
         }
        },
        "yaxis": {
         "anchor": "x",
         "autorange": "reversed",
         "domain": [
          0,
          1
         ],
         "title": {
          "text": ""
         }
        }
       }
      }
     },
     "metadata": {},
     "output_type": "display_data"
    },
    {
     "data": {
      "image/png": "[encoded data removed]",
      "text/plain": [
       "<Figure size 1400x800 with 2 Axes>"
      ]
     },
     "metadata": {},
     "output_type": "display_data"
    }
   ],
   "source": [
    "# Clean missing states and replace -- with Unknown\n",
    "large_early_projects['State'] = large_early_projects['State'].replace('--', 'Unknown')\n",
    "large_early_projects['State'] = large_early_projects['State'].fillna('Unknown')\n",
    "\n",
    "# Count projects by state\n",
    "state_counts = large_early_projects['State'].value_counts().reset_index()\n",
    "state_counts.columns = ['State', 'Count']\n",
    "state_counts = state_counts[state_counts['State'] != 'Unknown'].head(10)\n",
    "\n",
    "# Create horizontal bar chart\n",
    "fig = px.bar(\n",
    "    state_counts, \n",
    "    y='State', \n",
    "    x='Count',\n",
    "    orientation='h',\n",
    "    color='Count',\n",
    "    color_continuous_scale='Viridis',\n",
    "    title='Top 10 States with Large Early-Stage Projects',\n",
    "    labels={'Count': 'Number of Projects', 'State': ''},\n",
    "    height=600\n",
    ")\n",
    "\n",
    "fig.update_layout(\n",
    "    xaxis_title=\"Number of Projects\",\n",
    "    yaxis=dict(autorange=\"reversed\"),\n",
    "    template=\"plotly_white\"\n",
    ")\n",
    "fig.show()\n",
    "\n",
    "# Create a heatmap of states by sector\n",
    "state_sector_counts = pd.crosstab(\n",
    "    large_early_projects['State'], \n",
    "    large_early_projects['source']\n",
    ").reset_index()\n",
    "\n",
    "# Filter for top states\n",
    "top_states = state_counts['State'].tolist()\n",
    "state_sector_counts = state_sector_counts[state_sector_counts['State'].isin(top_states)]\n",
    "\n",
    "# Melt the dataframe for heatmap\n",
    "state_sector_melted = pd.melt(\n",
    "    state_sector_counts, \n",
    "    id_vars=['State'], \n",
    "    var_name='Sector', \n",
    "    value_name='Count'\n",
    ")\n",
    "\n",
    "# Create heatmap\n",
    "plt.figure(figsize=(14, 8))\n",
    "heatmap = sns.heatmap(\n",
    "    pd.pivot_table(state_sector_melted, values='Count', index='State', columns='Sector'),\n",
    "    annot=True, \n",
    "    cmap=\"YlGnBu\", \n",
    "    linewidths=.5,\n",
    "    fmt='g'\n",
    ")\n",
    "plt.title('Distribution of Large Projects by State and Sector', fontsize=16)\n",
    "plt.xticks(rotation=45, ha='right')\n",
    "plt.tight_layout()\n",
    "plt.show()"
   ]
  },
  {
   "cell_type": "code",
   "execution_count": 16,
   "metadata": {},
   "outputs": [
    {
     "data": {
      "image/png": "[encoded data removed]",
      "text/plain": [
       "<Figure size 1200x700 with 1 Axes>"
      ]
     },
     "metadata": {},
     "output_type": "display_data"
    },
    {
     "data": {
      "image/png": "[encoded data removed]",
      "text/plain": [
       "<Figure size 1000x700 with 1 Axes>"
      ]
     },
     "metadata": {},
     "output_type": "display_data"
    }
   ],
   "source": [
    "# Count projects by status and sector\n",
    "status_sector = pd.crosstab(\n",
    "    large_early_projects['Project Status'], \n",
    "    large_early_projects['source']\n",
    ")\n",
    "\n",
    "# Add a total column\n",
    "status_sector['Total'] = status_sector.sum(axis=1)\n",
    "status_sector.sort_values('Total', ascending=False, inplace=True)\n",
    "\n",
    "# Plot stacked bar chart\n",
    "status_sector_plot = status_sector.drop('Total', axis=1)\n",
    "ax = status_sector_plot.plot(\n",
    "    kind='bar', \n",
    "    stacked=True, \n",
    "    figsize=(12, 7),\n",
    "    colormap='viridis'\n",
    ")\n",
    "\n",
    "# Customize the plot\n",
    "plt.title('Distribution of Project Status by Sector', fontsize=16)\n",
    "plt.xlabel('Project Status', fontsize=14)\n",
    "plt.ylabel('Number of Projects', fontsize=14)\n",
    "plt.xticks(rotation=0)\n",
    "plt.legend(title='Sector', bbox_to_anchor=(1.05, 1), loc='upper left')\n",
    "plt.grid(axis='y', linestyle='--', alpha=0.7)\n",
    "\n",
    "# Add counts on top of bars\n",
    "for i, total in enumerate(status_sector['Total']):\n",
    "    plt.text(i, total + 0.3, str(total), ha='center', fontweight='bold')\n",
    "\n",
    "plt.tight_layout()\n",
    "plt.show()\n",
    "\n",
    "# Create a pie chart for overall status distribution\n",
    "status_counts = large_early_projects['Project Status'].value_counts()\n",
    "plt.figure(figsize=(10, 7))\n",
    "plt.pie(\n",
    "    status_counts, \n",
    "    labels=status_counts.index, \n",
    "    autopct='%1.1f%%',\n",
    "    colors=sns.color_palette(\"viridis\", len(status_counts)),\n",
    "    startangle=90,\n",
    "    explode=[0.05] * len(status_counts),\n",
    "    shadow=True\n",
    ")\n",
    "plt.title('Project Status Distribution for Large Early-Stage Projects', fontsize=16)\n",
    "plt.tight_layout()\n",
    "plt.show()"
   ]
  },
  {
   "cell_type": "code",
   "execution_count": 17,
   "metadata": {},
   "outputs": [
    {
     "name": "stderr",
     "output_type": "stream",
     "text": [
      "c:\\Users\\GaganReddy\\anaconda3\\envs\\PC-Geo\\Lib\\site-packages\\plotly\\express\\_core.py:1706: FutureWarning:\n",
      "\n",
      "The default of observed=False is deprecated and will be changed to True in a future version of pandas. Pass observed=False to retain current behavior or observed=True to adopt the future default and silence this warning.\n",
      "\n",
      "c:\\Users\\GaganReddy\\anaconda3\\envs\\PC-Geo\\Lib\\site-packages\\plotly\\express\\_core.py:1706: FutureWarning:\n",
      "\n",
      "The default of observed=False is deprecated and will be changed to True in a future version of pandas. Pass observed=False to retain current behavior or observed=True to adopt the future default and silence this warning.\n",
      "\n"
     ]
    },
    {
     "data": {
      "application/vnd.plotly.v1+json": {
       "config": {
        "plotlyServerURL": "https://plot.ly"
       },
       "data": [
        {
         "branchvalues": "total",
         "customdata": [
          [
           null
          ],
          [
           null
          ],
          [
           "biogas"
          ],
          [
           "hydrogen"
          ],
          [
           "(?)"
          ],
          [
           null
          ],
          [
           "solar"
          ],
          [
           null
          ],
          [
           "solar"
          ],
          [
           "hydrogen"
          ],
          [
           "hydrogen"
          ],
          [
           "(?)"
          ],
          [
           "hydrogen"
          ],
          [
           null
          ],
          [
           null
          ],
          [
           null
          ],
          [
           "grid"
          ],
          [
           "biogas"
          ],
          [
           "hydrogen"
          ],
          [
           "(?)"
          ]
         ],
         "domain": {
          "x": [
           0,
           1
          ],
          "y": [
           0,
           1
          ]
         },
         "hovertemplate": "labels=%{label}<br>Investment (USD Million)=%{value}<br>parent=%{parent}<br>id=%{id}<br>source=%{customdata[0]}<extra></extra>",
         "ids": [
          "$500M-$1B/biogas",
          "$1B-$2B/biogas",
          "$2B-$5B/biogas",
          "$1B-$2B",
          "$500M-$1B",
          ">$5B/solar",
          "$2B-$5B/solar",
          "$1B-$2B/solar",
          "$500M-$1B/solar",
          ">$5B/hydrogen",
          "$1B-$2B/hydrogen",
          "$2B-$5B",
          "$500M-$1B/hydrogen",
          ">$5B/grid",
          "$2B-$5B/grid",
          "$1B-$2B/grid",
          "$500M-$1B/grid",
          ">$5B/biogas",
          "$2B-$5B/hydrogen",
          ">$5B"
         ],
         "labels": [
          "biogas",
          "biogas",
          "biogas",
          "$1B-$2B",
          "$500M-$1B",
          "solar",
          "solar",
          "solar",
          "solar",
          "hydrogen",
          "hydrogen",
          "$2B-$5B",
          "hydrogen",
          "grid",
          "grid",
          "grid",
          "grid",
          "biogas",
          "hydrogen",
          ">$5B"
         ],
         "marker": {
          "colors": [
           "#636efa",
           "#636efa",
           "#EF553B",
           "#00cc96",
           "#ab63fa",
           "#636efa",
           "#FFA15A",
           "#636efa",
           "#FFA15A",
           "#00cc96",
           "#00cc96",
           "#ab63fa",
           "#00cc96",
           "#636efa",
           "#636efa",
           "#636efa",
           "#19d3f3",
           "#EF553B",
           "#00cc96",
           "#ab63fa"
          ]
         },
         "name": "",
         "parents": [
          "$500M-$1B",
          "$1B-$2B",
          "$2B-$5B",
          "",
          "",
          ">$5B",
          "$2B-$5B",
          "$1B-$2B",
          "$500M-$1B",
          ">$5B",
          "$1B-$2B",
          "",
          "$500M-$1B",
          ">$5B",
          "$2B-$5B",
          "$1B-$2B",
          "$500M-$1B",
          ">$5B",
          "$2B-$5B",
          ""
         ],
         "textinfo": "label+value+percent parent",
         "type": "treemap",
         "values": [
          0,
          0,
          2962.96,
          1851,
          7438.42,
          0,
          2308.64,
          0,
          2839.51,
          33618.86,
          1851,
          21891.87,
          3930.91,
          0,
          0,
          0,
          668,
          9481.48,
          16620.27,
          43100.34
         ]
        }
       ],
       "layout": {
        "height": 700,
        "legend": {
         "tracegroupgap": 0
        },
        "template": {
         "data": {
          "bar": [
           {
            "error_x": {
             "color": "#2a3f5f"
            },
            "error_y": {
             "color": "#2a3f5f"
            },
            "marker": {
             "line": {
              "color": "white",
              "width": 0.5
             },
             "pattern": {
              "fillmode": "overlay",
              "size": 10,
              "solidity": 0.2
             }
            },
            "type": "bar"
           }
          ],
          "barpolar": [
           {
            "marker": {
             "line": {
              "color": "white",
              "width": 0.5
             },
             "pattern": {
              "fillmode": "overlay",
              "size": 10,
              "solidity": 0.2
             }
            },
            "type": "barpolar"
           }
          ],
          "carpet": [
           {
            "aaxis": {
             "endlinecolor": "#2a3f5f",
             "gridcolor": "#C8D4E3",
             "linecolor": "#C8D4E3",
             "minorgridcolor": "#C8D4E3",
             "startlinecolor": "#2a3f5f"
            },
            "baxis": {
             "endlinecolor": "#2a3f5f",
             "gridcolor": "#C8D4E3",
             "linecolor": "#C8D4E3",
             "minorgridcolor": "#C8D4E3",
             "startlinecolor": "#2a3f5f"
            },
            "type": "carpet"
           }
          ],
          "choropleth": [
           {
            "colorbar": {
             "outlinewidth": 0,
             "ticks": ""
            },
            "type": "choropleth"
           }
          ],
          "contour": [
           {
            "colorbar": {
             "outlinewidth": 0,
             "ticks": ""
            },
            "colorscale": [
             [
              0,
              "#0d0887"
             ],
             [
              0.1111111111111111,
              "#46039f"
             ],
             [
              0.2222222222222222,
              "#7201a8"
             ],
             [
              0.3333333333333333,
              "#9c179e"
             ],
             [
              0.4444444444444444,
              "#bd3786"
             ],
             [
              0.5555555555555556,
              "#d8576b"
             ],
             [
              0.6666666666666666,
              "#ed7953"
             ],
             [
              0.7777777777777778,
              "#fb9f3a"
             ],
             [
              0.8888888888888888,
              "#fdca26"
             ],
             [
              1,
              "#f0f921"
             ]
            ],
            "type": "contour"
           }
          ],
          "contourcarpet": [
           {
            "colorbar": {
             "outlinewidth": 0,
             "ticks": ""
            },
            "type": "contourcarpet"
           }
          ],
          "heatmap": [
           {
            "colorbar": {
             "outlinewidth": 0,
             "ticks": ""
            },
            "colorscale": [
             [
              0,
              "#0d0887"
             ],
             [
              0.1111111111111111,
              "#46039f"
             ],
             [
              0.2222222222222222,
              "#7201a8"
             ],
             [
              0.3333333333333333,
              "#9c179e"
             ],
             [
              0.4444444444444444,
              "#bd3786"
             ],
             [
              0.5555555555555556,
              "#d8576b"
             ],
             [
              0.6666666666666666,
              "#ed7953"
             ],
             [
              0.7777777777777778,
              "#fb9f3a"
             ],
             [
              0.8888888888888888,
              "#fdca26"
             ],
             [
              1,
              "#f0f921"
             ]
            ],
            "type": "heatmap"
           }
          ],
          "heatmapgl": [
           {
            "colorbar": {
             "outlinewidth": 0,
             "ticks": ""
            },
            "colorscale": [
             [
              0,
              "#0d0887"
             ],
             [
              0.1111111111111111,
              "#46039f"
             ],
             [
              0.2222222222222222,
              "#7201a8"
             ],
             [
              0.3333333333333333,
              "#9c179e"
             ],
             [
              0.4444444444444444,
              "#bd3786"
             ],
             [
              0.5555555555555556,
              "#d8576b"
             ],
             [
              0.6666666666666666,
              "#ed7953"
             ],
             [
              0.7777777777777778,
              "#fb9f3a"
             ],
             [
              0.8888888888888888,
              "#fdca26"
             ],
             [
              1,
              "#f0f921"
             ]
            ],
            "type": "heatmapgl"
           }
          ],
          "histogram": [
           {
            "marker": {
             "pattern": {
              "fillmode": "overlay",
              "size": 10,
              "solidity": 0.2
             }
            },
            "type": "histogram"
           }
          ],
          "histogram2d": [
           {
            "colorbar": {
             "outlinewidth": 0,
             "ticks": ""
            },
            "colorscale": [
             [
              0,
              "#0d0887"
             ],
             [
              0.1111111111111111,
              "#46039f"
             ],
             [
              0.2222222222222222,
              "#7201a8"
             ],
             [
              0.3333333333333333,
              "#9c179e"
             ],
             [
              0.4444444444444444,
              "#bd3786"
             ],
             [
              0.5555555555555556,
              "#d8576b"
             ],
             [
              0.6666666666666666,
              "#ed7953"
             ],
             [
              0.7777777777777778,
              "#fb9f3a"
             ],
             [
              0.8888888888888888,
              "#fdca26"
             ],
             [
              1,
              "#f0f921"
             ]
            ],
            "type": "histogram2d"
           }
          ],
          "histogram2dcontour": [
           {
            "colorbar": {
             "outlinewidth": 0,
             "ticks": ""
            },
            "colorscale": [
             [
              0,
              "#0d0887"
             ],
             [
              0.1111111111111111,
              "#46039f"
             ],
             [
              0.2222222222222222,
              "#7201a8"
             ],
             [
              0.3333333333333333,
              "#9c179e"
             ],
             [
              0.4444444444444444,
              "#bd3786"
             ],
             [
              0.5555555555555556,
              "#d8576b"
             ],
             [
              0.6666666666666666,
              "#ed7953"
             ],
             [
              0.7777777777777778,
              "#fb9f3a"
             ],
             [
              0.8888888888888888,
              "#fdca26"
             ],
             [
              1,
              "#f0f921"
             ]
            ],
            "type": "histogram2dcontour"
           }
          ],
          "mesh3d": [
           {
            "colorbar": {
             "outlinewidth": 0,
             "ticks": ""
            },
            "type": "mesh3d"
           }
          ],
          "parcoords": [
           {
            "line": {
             "colorbar": {
              "outlinewidth": 0,
              "ticks": ""
             }
            },
            "type": "parcoords"
           }
          ],
          "pie": [
           {
            "automargin": true,
            "type": "pie"
           }
          ],
          "scatter": [
           {
            "fillpattern": {
             "fillmode": "overlay",
             "size": 10,
             "solidity": 0.2
            },
            "type": "scatter"
           }
          ],
          "scatter3d": [
           {
            "line": {
             "colorbar": {
              "outlinewidth": 0,
              "ticks": ""
             }
            },
            "marker": {
             "colorbar": {
              "outlinewidth": 0,
              "ticks": ""
             }
            },
            "type": "scatter3d"
           }
          ],
          "scattercarpet": [
           {
            "marker": {
             "colorbar": {
              "outlinewidth": 0,
              "ticks": ""
             }
            },
            "type": "scattercarpet"
           }
          ],
          "scattergeo": [
           {
            "marker": {
             "colorbar": {
              "outlinewidth": 0,
              "ticks": ""
             }
            },
            "type": "scattergeo"
           }
          ],
          "scattergl": [
           {
            "marker": {
             "colorbar": {
              "outlinewidth": 0,
              "ticks": ""
             }
            },
            "type": "scattergl"
           }
          ],
          "scattermapbox": [
           {
            "marker": {
             "colorbar": {
              "outlinewidth": 0,
              "ticks": ""
             }
            },
            "type": "scattermapbox"
           }
          ],
          "scatterpolar": [
           {
            "marker": {
             "colorbar": {
              "outlinewidth": 0,
              "ticks": ""
             }
            },
            "type": "scatterpolar"
           }
          ],
          "scatterpolargl": [
           {
            "marker": {
             "colorbar": {
              "outlinewidth": 0,
              "ticks": ""
             }
            },
            "type": "scatterpolargl"
           }
          ],
          "scatterternary": [
           {
            "marker": {
             "colorbar": {
              "outlinewidth": 0,
              "ticks": ""
             }
            },
            "type": "scatterternary"
           }
          ],
          "surface": [
           {
            "colorbar": {
             "outlinewidth": 0,
             "ticks": ""
            },
            "colorscale": [
             [
              0,
              "#0d0887"
             ],
             [
              0.1111111111111111,
              "#46039f"
             ],
             [
              0.2222222222222222,
              "#7201a8"
             ],
             [
              0.3333333333333333,
              "#9c179e"
             ],
             [
              0.4444444444444444,
              "#bd3786"
             ],
             [
              0.5555555555555556,
              "#d8576b"
             ],
             [
              0.6666666666666666,
              "#ed7953"
             ],
             [
              0.7777777777777778,
              "#fb9f3a"
             ],
             [
              0.8888888888888888,
              "#fdca26"
             ],
             [
              1,
              "#f0f921"
             ]
            ],
            "type": "surface"
           }
          ],
          "table": [
           {
            "cells": {
             "fill": {
              "color": "#EBF0F8"
             },
             "line": {
              "color": "white"
             }
            },
            "header": {
             "fill": {
              "color": "#C8D4E3"
             },
             "line": {
              "color": "white"
             }
            },
            "type": "table"
           }
          ]
         },
         "layout": {
          "annotationdefaults": {
           "arrowcolor": "#2a3f5f",
           "arrowhead": 0,
           "arrowwidth": 1
          },
          "autotypenumbers": "strict",
          "coloraxis": {
           "colorbar": {
            "outlinewidth": 0,
            "ticks": ""
           }
          },
          "colorscale": {
           "diverging": [
            [
             0,
             "#8e0152"
            ],
            [
             0.1,
             "#c51b7d"
            ],
            [
             0.2,
             "#de77ae"
            ],
            [
             0.3,
             "#f1b6da"
            ],
            [
             0.4,
             "#fde0ef"
            ],
            [
             0.5,
             "#f7f7f7"
            ],
            [
             0.6,
             "#e6f5d0"
            ],
            [
             0.7,
             "#b8e186"
            ],
            [
             0.8,
             "#7fbc41"
            ],
            [
             0.9,
             "#4d9221"
            ],
            [
             1,
             "#276419"
            ]
           ],
           "sequential": [
            [
             0,
             "#0d0887"
            ],
            [
             0.1111111111111111,
             "#46039f"
            ],
            [
             0.2222222222222222,
             "#7201a8"
            ],
            [
             0.3333333333333333,
             "#9c179e"
            ],
            [
             0.4444444444444444,
             "#bd3786"
            ],
            [
             0.5555555555555556,
             "#d8576b"
            ],
            [
             0.6666666666666666,
             "#ed7953"
            ],
            [
             0.7777777777777778,
             "#fb9f3a"
            ],
            [
             0.8888888888888888,
             "#fdca26"
            ],
            [
             1,
             "#f0f921"
            ]
           ],
           "sequentialminus": [
            [
             0,
             "#0d0887"
            ],
            [
             0.1111111111111111,
             "#46039f"
            ],
            [
             0.2222222222222222,
             "#7201a8"
            ],
            [
             0.3333333333333333,
             "#9c179e"
            ],
            [
             0.4444444444444444,
             "#bd3786"
            ],
            [
             0.5555555555555556,
             "#d8576b"
            ],
            [
             0.6666666666666666,
             "#ed7953"
            ],
            [
             0.7777777777777778,
             "#fb9f3a"
            ],
            [
             0.8888888888888888,
             "#fdca26"
            ],
            [
             1,
             "#f0f921"
            ]
           ]
          },
          "colorway": [
           "#636efa",
           "#EF553B",
           "#00cc96",
           "#ab63fa",
           "#FFA15A",
           "#19d3f3",
           "#FF6692",
           "#B6E880",
           "#FF97FF",
           "#FECB52"
          ],
          "font": {
           "color": "#2a3f5f"
          },
          "geo": {
           "bgcolor": "white",
           "lakecolor": "white",
           "landcolor": "white",
           "showlakes": true,
           "showland": true,
           "subunitcolor": "#C8D4E3"
          },
          "hoverlabel": {
           "align": "left"
          },
          "hovermode": "closest",
          "mapbox": {
           "style": "light"
          },
          "paper_bgcolor": "white",
          "plot_bgcolor": "white",
          "polar": {
           "angularaxis": {
            "gridcolor": "#EBF0F8",
            "linecolor": "#EBF0F8",
            "ticks": ""
           },
           "bgcolor": "white",
           "radialaxis": {
            "gridcolor": "#EBF0F8",
            "linecolor": "#EBF0F8",
            "ticks": ""
           }
          },
          "scene": {
           "xaxis": {
            "backgroundcolor": "white",
            "gridcolor": "#DFE8F3",
            "gridwidth": 2,
            "linecolor": "#EBF0F8",
            "showbackground": true,
            "ticks": "",
            "zerolinecolor": "#EBF0F8"
           },
           "yaxis": {
            "backgroundcolor": "white",
            "gridcolor": "#DFE8F3",
            "gridwidth": 2,
            "linecolor": "#EBF0F8",
            "showbackground": true,
            "ticks": "",
            "zerolinecolor": "#EBF0F8"
           },
           "zaxis": {
            "backgroundcolor": "white",
            "gridcolor": "#DFE8F3",
            "gridwidth": 2,
            "linecolor": "#EBF0F8",
            "showbackground": true,
            "ticks": "",
            "zerolinecolor": "#EBF0F8"
           }
          },
          "shapedefaults": {
           "line": {
            "color": "#2a3f5f"
           }
          },
          "ternary": {
           "aaxis": {
            "gridcolor": "#DFE8F3",
            "linecolor": "#A2B1C6",
            "ticks": ""
           },
           "baxis": {
            "gridcolor": "#DFE8F3",
            "linecolor": "#A2B1C6",
            "ticks": ""
           },
           "bgcolor": "white",
           "caxis": {
            "gridcolor": "#DFE8F3",
            "linecolor": "#A2B1C6",
            "ticks": ""
           }
          },
          "title": {
           "x": 0.05
          },
          "xaxis": {
           "automargin": true,
           "gridcolor": "#EBF0F8",
           "linecolor": "#EBF0F8",
           "ticks": "",
           "title": {
            "standoff": 15
           },
           "zerolinecolor": "#EBF0F8",
           "zerolinewidth": 2
          },
          "yaxis": {
           "automargin": true,
           "gridcolor": "#EBF0F8",
           "linecolor": "#EBF0F8",
           "ticks": "",
           "title": {
            "standoff": 15
           },
           "zerolinecolor": "#EBF0F8",
           "zerolinewidth": 2
          }
         }
        },
        "title": {
         "text": "Investment Distribution by Range and Sector"
        }
       }
      }
     },
     "metadata": {},
     "output_type": "display_data"
    },
    {
     "data": {
      "image/png": "[encoded data removed]",
      "text/plain": [
       "<Figure size 1400x800 with 1 Axes>"
      ]
     },
     "metadata": {},
     "output_type": "display_data"
    }
   ],
   "source": [
    "# Create investment bins\n",
    "investment_bins = [500, 1000, 2000, 5000, float('inf')]\n",
    "investment_labels = ['$500M-$1B', '$1B-$2B', '$2B-$5B', '>$5B']\n",
    "large_early_projects['Investment Range'] = pd.cut(\n",
    "    large_early_projects['Investment (USD Million)'], \n",
    "    bins=investment_bins, \n",
    "    labels=investment_labels\n",
    ")\n",
    "\n",
    "# Count projects by investment range\n",
    "investment_dist = large_early_projects['Investment Range'].value_counts().reset_index()\n",
    "investment_dist.columns = ['Investment Range', 'Count']\n",
    "investment_dist = investment_dist.sort_values('Investment Range')  # Sort by range\n",
    "\n",
    "# Create a treemap\n",
    "fig = px.treemap(\n",
    "    large_early_projects,\n",
    "    path=['Investment Range', 'source'],\n",
    "    values='Investment (USD Million)',\n",
    "    color='source',\n",
    "    title='Investment Distribution by Range and Sector',\n",
    "    height=700\n",
    ")\n",
    "\n",
    "fig.update_layout(template=\"plotly_white\")\n",
    "fig.update_traces(textinfo=\"label+value+percent parent\")\n",
    "fig.show()\n",
    "\n",
    "# Create a histogram of investment values\n",
    "plt.figure(figsize=(14, 8))\n",
    "sns.histplot(\n",
    "    data=large_early_projects, \n",
    "    x='Investment (USD Million)',\n",
    "    hue='source',\n",
    "    bins=15,\n",
    "    kde=True,\n",
    "    palette='viridis'\n",
    ")\n",
    "plt.title('Distribution of Investment Sizes by Sector', fontsize=16)\n",
    "plt.xlabel('Investment (USD Million)', fontsize=14)\n",
    "plt.ylabel('Count', fontsize=14)\n",
    "plt.axvline(x=1000, color='red', linestyle='--', alpha=0.7, label='$1B threshold')\n",
    "plt.axvline(x=5000, color='darkred', linestyle='--', alpha=0.7, label='$5B threshold')\n",
    "plt.legend(title='Sector')\n",
    "plt.grid(axis='y', linestyle='--', alpha=0.7)\n",
    "plt.tight_layout()\n",
    "plt.show()"
   ]
  },
  {
   "cell_type": "code",
   "execution_count": 18,
   "metadata": {},
   "outputs": [
    {
     "data": {
      "application/vnd.plotly.v1+json": {
       "config": {
        "plotlyServerURL": "https://plot.ly"
       },
       "data": [
        {
         "alignmentgroup": "True",
         "hovertemplate": "Project Count=%{marker.color}<br>Developer=%{y}<extra></extra>",
         "legendgroup": "",
         "marker": {
          "color": [
           3,
           3,
           2,
           1,
           1,
           1,
           1,
           1,
           1,
           1
          ],
          "coloraxis": "coloraxis",
          "pattern": {
           "shape": ""
          }
         },
         "name": "",
         "offsetgroup": "",
         "orientation": "h",
         "showlegend": false,
         "textposition": "auto",
         "type": "bar",
         "x": [
          3,
          3,
          2,
          1,
          1,
          1,
          1,
          1,
          1,
          1
         ],
         "xaxis": "x",
         "y": [
          "ACME Cleantech Solutions Private Limited",
          "Avaada Energy Private Limited",
          "Coal India Limited",
          "GDBIOGAS PVT LTD",
          "L&T Electrolysers Limited",
          "Shirdi Sai Electricals Limited",
          "Rayzon Solar Limited",
          "Renew Group",
          "Reliance New Energy Solar Limited (RNESL)",
          "Petronas Group"
         ],
         "yaxis": "y"
        }
       ],
       "layout": {
        "barmode": "relative",
        "coloraxis": {
         "colorbar": {
          "title": {
           "text": "Project Count"
          }
         },
         "colorscale": [
          [
           0,
           "#440154"
          ],
          [
           0.1111111111111111,
           "#482878"
          ],
          [
           0.2222222222222222,
           "#3e4989"
          ],
          [
           0.3333333333333333,
           "#31688e"
          ],
          [
           0.4444444444444444,
           "#26828e"
          ],
          [
           0.5555555555555556,
           "#1f9e89"
          ],
          [
           0.6666666666666666,
           "#35b779"
          ],
          [
           0.7777777777777778,
           "#6ece58"
          ],
          [
           0.8888888888888888,
           "#b5de2b"
          ],
          [
           1,
           "#fde725"
          ]
         ]
        },
        "height": 600,
        "legend": {
         "tracegroupgap": 0
        },
        "template": {
         "data": {
          "bar": [
           {
            "error_x": {
             "color": "#2a3f5f"
            },
            "error_y": {
             "color": "#2a3f5f"
            },
            "marker": {
             "line": {
              "color": "white",
              "width": 0.5
             },
             "pattern": {
              "fillmode": "overlay",
              "size": 10,
              "solidity": 0.2
             }
            },
            "type": "bar"
           }
          ],
          "barpolar": [
           {
            "marker": {
             "line": {
              "color": "white",
              "width": 0.5
             },
             "pattern": {
              "fillmode": "overlay",
              "size": 10,
              "solidity": 0.2
             }
            },
            "type": "barpolar"
           }
          ],
          "carpet": [
           {
            "aaxis": {
             "endlinecolor": "#2a3f5f",
             "gridcolor": "#C8D4E3",
             "linecolor": "#C8D4E3",
             "minorgridcolor": "#C8D4E3",
             "startlinecolor": "#2a3f5f"
            },
            "baxis": {
             "endlinecolor": "#2a3f5f",
             "gridcolor": "#C8D4E3",
             "linecolor": "#C8D4E3",
             "minorgridcolor": "#C8D4E3",
             "startlinecolor": "#2a3f5f"
            },
            "type": "carpet"
           }
          ],
          "choropleth": [
           {
            "colorbar": {
             "outlinewidth": 0,
             "ticks": ""
            },
            "type": "choropleth"
           }
          ],
          "contour": [
           {
            "colorbar": {
             "outlinewidth": 0,
             "ticks": ""
            },
            "colorscale": [
             [
              0,
              "#0d0887"
             ],
             [
              0.1111111111111111,
              "#46039f"
             ],
             [
              0.2222222222222222,
              "#7201a8"
             ],
             [
              0.3333333333333333,
              "#9c179e"
             ],
             [
              0.4444444444444444,
              "#bd3786"
             ],
             [
              0.5555555555555556,
              "#d8576b"
             ],
             [
              0.6666666666666666,
              "#ed7953"
             ],
             [
              0.7777777777777778,
              "#fb9f3a"
             ],
             [
              0.8888888888888888,
              "#fdca26"
             ],
             [
              1,
              "#f0f921"
             ]
            ],
            "type": "contour"
           }
          ],
          "contourcarpet": [
           {
            "colorbar": {
             "outlinewidth": 0,
             "ticks": ""
            },
            "type": "contourcarpet"
           }
          ],
          "heatmap": [
           {
            "colorbar": {
             "outlinewidth": 0,
             "ticks": ""
            },
            "colorscale": [
             [
              0,
              "#0d0887"
             ],
             [
              0.1111111111111111,
              "#46039f"
             ],
             [
              0.2222222222222222,
              "#7201a8"
             ],
             [
              0.3333333333333333,
              "#9c179e"
             ],
             [
              0.4444444444444444,
              "#bd3786"
             ],
             [
              0.5555555555555556,
              "#d8576b"
             ],
             [
              0.6666666666666666,
              "#ed7953"
             ],
             [
              0.7777777777777778,
              "#fb9f3a"
             ],
             [
              0.8888888888888888,
              "#fdca26"
             ],
             [
              1,
              "#f0f921"
             ]
            ],
            "type": "heatmap"
           }
          ],
          "heatmapgl": [
           {
            "colorbar": {
             "outlinewidth": 0,
             "ticks": ""
            },
            "colorscale": [
             [
              0,
              "#0d0887"
             ],
             [
              0.1111111111111111,
              "#46039f"
             ],
             [
              0.2222222222222222,
              "#7201a8"
             ],
             [
              0.3333333333333333,
              "#9c179e"
             ],
             [
              0.4444444444444444,
              "#bd3786"
             ],
             [
              0.5555555555555556,
              "#d8576b"
             ],
             [
              0.6666666666666666,
              "#ed7953"
             ],
             [
              0.7777777777777778,
              "#fb9f3a"
             ],
             [
              0.8888888888888888,
              "#fdca26"
             ],
             [
              1,
              "#f0f921"
             ]
            ],
            "type": "heatmapgl"
           }
          ],
          "histogram": [
           {
            "marker": {
             "pattern": {
              "fillmode": "overlay",
              "size": 10,
              "solidity": 0.2
             }
            },
            "type": "histogram"
           }
          ],
          "histogram2d": [
           {
            "colorbar": {
             "outlinewidth": 0,
             "ticks": ""
            },
            "colorscale": [
             [
              0,
              "#0d0887"
             ],
             [
              0.1111111111111111,
              "#46039f"
             ],
             [
              0.2222222222222222,
              "#7201a8"
             ],
             [
              0.3333333333333333,
              "#9c179e"
             ],
             [
              0.4444444444444444,
              "#bd3786"
             ],
             [
              0.5555555555555556,
              "#d8576b"
             ],
             [
              0.6666666666666666,
              "#ed7953"
             ],
             [
              0.7777777777777778,
              "#fb9f3a"
             ],
             [
              0.8888888888888888,
              "#fdca26"
             ],
             [
              1,
              "#f0f921"
             ]
            ],
            "type": "histogram2d"
           }
          ],
          "histogram2dcontour": [
           {
            "colorbar": {
             "outlinewidth": 0,
             "ticks": ""
            },
            "colorscale": [
             [
              0,
              "#0d0887"
             ],
             [
              0.1111111111111111,
              "#46039f"
             ],
             [
              0.2222222222222222,
              "#7201a8"
             ],
             [
              0.3333333333333333,
              "#9c179e"
             ],
             [
              0.4444444444444444,
              "#bd3786"
             ],
             [
              0.5555555555555556,
              "#d8576b"
             ],
             [
              0.6666666666666666,
              "#ed7953"
             ],
             [
              0.7777777777777778,
              "#fb9f3a"
             ],
             [
              0.8888888888888888,
              "#fdca26"
             ],
             [
              1,
              "#f0f921"
             ]
            ],
            "type": "histogram2dcontour"
           }
          ],
          "mesh3d": [
           {
            "colorbar": {
             "outlinewidth": 0,
             "ticks": ""
            },
            "type": "mesh3d"
           }
          ],
          "parcoords": [
           {
            "line": {
             "colorbar": {
              "outlinewidth": 0,
              "ticks": ""
             }
            },
            "type": "parcoords"
           }
          ],
          "pie": [
           {
            "automargin": true,
            "type": "pie"
           }
          ],
          "scatter": [
           {
            "fillpattern": {
             "fillmode": "overlay",
             "size": 10,
             "solidity": 0.2
            },
            "type": "scatter"
           }
          ],
          "scatter3d": [
           {
            "line": {
             "colorbar": {
              "outlinewidth": 0,
              "ticks": ""
             }
            },
            "marker": {
             "colorbar": {
              "outlinewidth": 0,
              "ticks": ""
             }
            },
            "type": "scatter3d"
           }
          ],
          "scattercarpet": [
           {
            "marker": {
             "colorbar": {
              "outlinewidth": 0,
              "ticks": ""
             }
            },
            "type": "scattercarpet"
           }
          ],
          "scattergeo": [
           {
            "marker": {
             "colorbar": {
              "outlinewidth": 0,
              "ticks": ""
             }
            },
            "type": "scattergeo"
           }
          ],
          "scattergl": [
           {
            "marker": {
             "colorbar": {
              "outlinewidth": 0,
              "ticks": ""
             }
            },
            "type": "scattergl"
           }
          ],
          "scattermapbox": [
           {
            "marker": {
             "colorbar": {
              "outlinewidth": 0,
              "ticks": ""
             }
            },
            "type": "scattermapbox"
           }
          ],
          "scatterpolar": [
           {
            "marker": {
             "colorbar": {
              "outlinewidth": 0,
              "ticks": ""
             }
            },
            "type": "scatterpolar"
           }
          ],
          "scatterpolargl": [
           {
            "marker": {
             "colorbar": {
              "outlinewidth": 0,
              "ticks": ""
             }
            },
            "type": "scatterpolargl"
           }
          ],
          "scatterternary": [
           {
            "marker": {
             "colorbar": {
              "outlinewidth": 0,
              "ticks": ""
             }
            },
            "type": "scatterternary"
           }
          ],
          "surface": [
           {
            "colorbar": {
             "outlinewidth": 0,
             "ticks": ""
            },
            "colorscale": [
             [
              0,
              "#0d0887"
             ],
             [
              0.1111111111111111,
              "#46039f"
             ],
             [
              0.2222222222222222,
              "#7201a8"
             ],
             [
              0.3333333333333333,
              "#9c179e"
             ],
             [
              0.4444444444444444,
              "#bd3786"
             ],
             [
              0.5555555555555556,
              "#d8576b"
             ],
             [
              0.6666666666666666,
              "#ed7953"
             ],
             [
              0.7777777777777778,
              "#fb9f3a"
             ],
             [
              0.8888888888888888,
              "#fdca26"
             ],
             [
              1,
              "#f0f921"
             ]
            ],
            "type": "surface"
           }
          ],
          "table": [
           {
            "cells": {
             "fill": {
              "color": "#EBF0F8"
             },
             "line": {
              "color": "white"
             }
            },
            "header": {
             "fill": {
              "color": "#C8D4E3"
             },
             "line": {
              "color": "white"
             }
            },
            "type": "table"
           }
          ]
         },
         "layout": {
          "annotationdefaults": {
           "arrowcolor": "#2a3f5f",
           "arrowhead": 0,
           "arrowwidth": 1
          },
          "autotypenumbers": "strict",
          "coloraxis": {
           "colorbar": {
            "outlinewidth": 0,
            "ticks": ""
           }
          },
          "colorscale": {
           "diverging": [
            [
             0,
             "#8e0152"
            ],
            [
             0.1,
             "#c51b7d"
            ],
            [
             0.2,
             "#de77ae"
            ],
            [
             0.3,
             "#f1b6da"
            ],
            [
             0.4,
             "#fde0ef"
            ],
            [
             0.5,
             "#f7f7f7"
            ],
            [
             0.6,
             "#e6f5d0"
            ],
            [
             0.7,
             "#b8e186"
            ],
            [
             0.8,
             "#7fbc41"
            ],
            [
             0.9,
             "#4d9221"
            ],
            [
             1,
             "#276419"
            ]
           ],
           "sequential": [
            [
             0,
             "#0d0887"
            ],
            [
             0.1111111111111111,
             "#46039f"
            ],
            [
             0.2222222222222222,
             "#7201a8"
            ],
            [
             0.3333333333333333,
             "#9c179e"
            ],
            [
             0.4444444444444444,
             "#bd3786"
            ],
            [
             0.5555555555555556,
             "#d8576b"
            ],
            [
             0.6666666666666666,
             "#ed7953"
            ],
            [
             0.7777777777777778,
             "#fb9f3a"
            ],
            [
             0.8888888888888888,
             "#fdca26"
            ],
            [
             1,
             "#f0f921"
            ]
           ],
           "sequentialminus": [
            [
             0,
             "#0d0887"
            ],
            [
             0.1111111111111111,
             "#46039f"
            ],
            [
             0.2222222222222222,
             "#7201a8"
            ],
            [
             0.3333333333333333,
             "#9c179e"
            ],
            [
             0.4444444444444444,
             "#bd3786"
            ],
            [
             0.5555555555555556,
             "#d8576b"
            ],
            [
             0.6666666666666666,
             "#ed7953"
            ],
            [
             0.7777777777777778,
             "#fb9f3a"
            ],
            [
             0.8888888888888888,
             "#fdca26"
            ],
            [
             1,
             "#f0f921"
            ]
           ]
          },
          "colorway": [
           "#636efa",
           "#EF553B",
           "#00cc96",
           "#ab63fa",
           "#FFA15A",
           "#19d3f3",
           "#FF6692",
           "#B6E880",
           "#FF97FF",
           "#FECB52"
          ],
          "font": {
           "color": "#2a3f5f"
          },
          "geo": {
           "bgcolor": "white",
           "lakecolor": "white",
           "landcolor": "white",
           "showlakes": true,
           "showland": true,
           "subunitcolor": "#C8D4E3"
          },
          "hoverlabel": {
           "align": "left"
          },
          "hovermode": "closest",
          "mapbox": {
           "style": "light"
          },
          "paper_bgcolor": "white",
          "plot_bgcolor": "white",
          "polar": {
           "angularaxis": {
            "gridcolor": "#EBF0F8",
            "linecolor": "#EBF0F8",
            "ticks": ""
           },
           "bgcolor": "white",
           "radialaxis": {
            "gridcolor": "#EBF0F8",
            "linecolor": "#EBF0F8",
            "ticks": ""
           }
          },
          "scene": {
           "xaxis": {
            "backgroundcolor": "white",
            "gridcolor": "#DFE8F3",
            "gridwidth": 2,
            "linecolor": "#EBF0F8",
            "showbackground": true,
            "ticks": "",
            "zerolinecolor": "#EBF0F8"
           },
           "yaxis": {
            "backgroundcolor": "white",
            "gridcolor": "#DFE8F3",
            "gridwidth": 2,
            "linecolor": "#EBF0F8",
            "showbackground": true,
            "ticks": "",
            "zerolinecolor": "#EBF0F8"
           },
           "zaxis": {
            "backgroundcolor": "white",
            "gridcolor": "#DFE8F3",
            "gridwidth": 2,
            "linecolor": "#EBF0F8",
            "showbackground": true,
            "ticks": "",
            "zerolinecolor": "#EBF0F8"
           }
          },
          "shapedefaults": {
           "line": {
            "color": "#2a3f5f"
           }
          },
          "ternary": {
           "aaxis": {
            "gridcolor": "#DFE8F3",
            "linecolor": "#A2B1C6",
            "ticks": ""
           },
           "baxis": {
            "gridcolor": "#DFE8F3",
            "linecolor": "#A2B1C6",
            "ticks": ""
           },
           "bgcolor": "white",
           "caxis": {
            "gridcolor": "#DFE8F3",
            "linecolor": "#A2B1C6",
            "ticks": ""
           }
          },
          "title": {
           "x": 0.05
          },
          "xaxis": {
           "automargin": true,
           "gridcolor": "#EBF0F8",
           "linecolor": "#EBF0F8",
           "ticks": "",
           "title": {
            "standoff": 15
           },
           "zerolinecolor": "#EBF0F8",
           "zerolinewidth": 2
          },
          "yaxis": {
           "automargin": true,
           "gridcolor": "#EBF0F8",
           "linecolor": "#EBF0F8",
           "ticks": "",
           "title": {
            "standoff": 15
           },
           "zerolinecolor": "#EBF0F8",
           "zerolinewidth": 2
          }
         }
        },
        "title": {
         "text": "Top 10 Developers with Multiple Large Projects"
        },
        "xaxis": {
         "anchor": "y",
         "domain": [
          0,
          1
         ],
         "title": {
          "text": "Number of Projects"
         }
        },
        "yaxis": {
         "anchor": "x",
         "autorange": "reversed",
         "domain": [
          0,
          1
         ],
         "title": {
          "text": "Developer"
         }
        }
       }
      }
     },
     "metadata": {},
     "output_type": "display_data"
    },
    {
     "data": {
      "image/png": "[encoded data removed]",
      "text/plain": [
       "<Figure size 1400x800 with 2 Axes>"
      ]
     },
     "metadata": {},
     "output_type": "display_data"
    }
   ],
   "source": [
    "# Get top 10 developers by project count\n",
    "top_developers = large_early_projects['Developersorted ascending'].value_counts().head(10)\n",
    "top_dev_df = pd.DataFrame({'Developer': top_developers.index, 'Project Count': top_developers.values})\n",
    "\n",
    "# Create a horizontal bar chart\n",
    "fig = px.bar(\n",
    "    top_dev_df,\n",
    "    y='Developer',\n",
    "    x='Project Count',\n",
    "    orientation='h',\n",
    "    color='Project Count',\n",
    "    color_continuous_scale='Viridis',\n",
    "    title='Top 10 Developers with Multiple Large Projects',\n",
    "    height=600\n",
    ")\n",
    "\n",
    "fig.update_layout(\n",
    "    xaxis_title=\"Number of Projects\",\n",
    "    yaxis=dict(autorange=\"reversed\"),\n",
    "    template=\"plotly_white\"\n",
    ")\n",
    "fig.show()\n",
    "\n",
    "# Analyze the top developers by sector\n",
    "top_dev_list = top_developers.index.tolist()\n",
    "top_dev_projects = large_early_projects[large_early_projects['Developersorted ascending'].isin(top_dev_list)]\n",
    "\n",
    "top_dev_sector = pd.crosstab(\n",
    "    top_dev_projects['Developersorted ascending'],\n",
    "    top_dev_projects['source']\n",
    ")\n",
    "\n",
    "# Plot heatmap of developers by sector\n",
    "plt.figure(figsize=(14, 8))\n",
    "sns.heatmap(\n",
    "    top_dev_sector,\n",
    "    annot=True,\n",
    "    cmap=\"YlGnBu\",\n",
    "    linewidths=.5,\n",
    "    fmt='g'\n",
    ")\n",
    "plt.title('Projects by Top Developers Across Sectors', fontsize=16)\n",
    "plt.xticks(rotation=45, ha='right')\n",
    "plt.tight_layout()\n",
    "plt.show()"
   ]
  },
  {
   "cell_type": "code",
   "execution_count": 19,
   "metadata": {},
   "outputs": [
    {
     "data": {
      "image/png": "[encoded data removed]",
      "text/plain": [
       "<Figure size 1200x700 with 1 Axes>"
      ]
     },
     "metadata": {},
     "output_type": "display_data"
    },
    {
     "data": {
      "application/vnd.plotly.v1+json": {
       "config": {
        "plotlyServerURL": "https://plot.ly"
       },
       "data": [
        {
         "hovertemplate": "<b>%{hovertext}</b><br><br>Developer Category=Private<br>Sector=%{x}<br>Average Investment (USD Million)=%{y}<br>Total Investment (USD Million)=%{marker.size}<br>Count=%{text}<extra></extra>",
         "hovertext": [
          "Private",
          "Private",
          "Private"
         ],
         "legendgroup": "Private",
         "marker": {
          "color": "#636efa",
          "size": [
           12444.439999999999,
           47951.04,
           4456.79
          ],
          "sizemode": "area",
          "sizeref": 13.319733333333334,
          "symbol": "circle"
         },
         "mode": "markers+text",
         "name": "Private",
         "orientation": "v",
         "showlegend": true,
         "text": [
          2,
          16,
          4
         ],
         "textfont": {
          "color": "white"
         },
         "textposition": "top center",
         "type": "scatter",
         "x": [
          "biogas",
          "hydrogen",
          "solar"
         ],
         "xaxis": "x",
         "y": [
          6222.219999999999,
          2996.94,
          1114.1975
         ],
         "yaxis": "y"
        },
        {
         "hovertemplate": "<b>%{hovertext}</b><br><br>Developer Category=PSU<br>Sector=%{x}<br>Average Investment (USD Million)=%{y}<br>Total Investment (USD Million)=%{marker.size}<br>Count=%{text}<extra></extra>",
         "hovertext": [
          "PSU",
          "PSU",
          "PSU"
         ],
         "legendgroup": "PSU",
         "marker": {
          "color": "#EF553B",
          "size": [
           668,
           8070,
           691.36
          ],
          "sizemode": "area",
          "sizeref": 13.319733333333334,
          "symbol": "circle"
         },
         "mode": "markers+text",
         "name": "PSU",
         "orientation": "v",
         "showlegend": true,
         "text": [
          1,
          1,
          1
         ],
         "textfont": {
          "color": "white"
         },
         "textposition": "top center",
         "type": "scatter",
         "x": [
          "grid",
          "hydrogen",
          "solar"
         ],
         "xaxis": "x",
         "y": [
          668,
          8070,
          691.36
         ],
         "yaxis": "y"
        }
       ],
       "layout": {
        "height": 600,
        "legend": {
         "itemsizing": "constant",
         "title": {
          "text": "Developer Category"
         },
         "tracegroupgap": 0
        },
        "template": {
         "data": {
          "bar": [
           {
            "error_x": {
             "color": "#2a3f5f"
            },
            "error_y": {
             "color": "#2a3f5f"
            },
            "marker": {
             "line": {
              "color": "white",
              "width": 0.5
             },
             "pattern": {
              "fillmode": "overlay",
              "size": 10,
              "solidity": 0.2
             }
            },
            "type": "bar"
           }
          ],
          "barpolar": [
           {
            "marker": {
             "line": {
              "color": "white",
              "width": 0.5
             },
             "pattern": {
              "fillmode": "overlay",
              "size": 10,
              "solidity": 0.2
             }
            },
            "type": "barpolar"
           }
          ],
          "carpet": [
           {
            "aaxis": {
             "endlinecolor": "#2a3f5f",
             "gridcolor": "#C8D4E3",
             "linecolor": "#C8D4E3",
             "minorgridcolor": "#C8D4E3",
             "startlinecolor": "#2a3f5f"
            },
            "baxis": {
             "endlinecolor": "#2a3f5f",
             "gridcolor": "#C8D4E3",
             "linecolor": "#C8D4E3",
             "minorgridcolor": "#C8D4E3",
             "startlinecolor": "#2a3f5f"
            },
            "type": "carpet"
           }
          ],
          "choropleth": [
           {
            "colorbar": {
             "outlinewidth": 0,
             "ticks": ""
            },
            "type": "choropleth"
           }
          ],
          "contour": [
           {
            "colorbar": {
             "outlinewidth": 0,
             "ticks": ""
            },
            "colorscale": [
             [
              0,
              "#0d0887"
             ],
             [
              0.1111111111111111,
              "#46039f"
             ],
             [
              0.2222222222222222,
              "#7201a8"
             ],
             [
              0.3333333333333333,
              "#9c179e"
             ],
             [
              0.4444444444444444,
              "#bd3786"
             ],
             [
              0.5555555555555556,
              "#d8576b"
             ],
             [
              0.6666666666666666,
              "#ed7953"
             ],
             [
              0.7777777777777778,
              "#fb9f3a"
             ],
             [
              0.8888888888888888,
              "#fdca26"
             ],
             [
              1,
              "#f0f921"
             ]
            ],
            "type": "contour"
           }
          ],
          "contourcarpet": [
           {
            "colorbar": {
             "outlinewidth": 0,
             "ticks": ""
            },
            "type": "contourcarpet"
           }
          ],
          "heatmap": [
           {
            "colorbar": {
             "outlinewidth": 0,
             "ticks": ""
            },
            "colorscale": [
             [
              0,
              "#0d0887"
             ],
             [
              0.1111111111111111,
              "#46039f"
             ],
             [
              0.2222222222222222,
              "#7201a8"
             ],
             [
              0.3333333333333333,
              "#9c179e"
             ],
             [
              0.4444444444444444,
              "#bd3786"
             ],
             [
              0.5555555555555556,
              "#d8576b"
             ],
             [
              0.6666666666666666,
              "#ed7953"
             ],
             [
              0.7777777777777778,
              "#fb9f3a"
             ],
             [
              0.8888888888888888,
              "#fdca26"
             ],
             [
              1,
              "#f0f921"
             ]
            ],
            "type": "heatmap"
           }
          ],
          "heatmapgl": [
           {
            "colorbar": {
             "outlinewidth": 0,
             "ticks": ""
            },
            "colorscale": [
             [
              0,
              "#0d0887"
             ],
             [
              0.1111111111111111,
              "#46039f"
             ],
             [
              0.2222222222222222,
              "#7201a8"
             ],
             [
              0.3333333333333333,
              "#9c179e"
             ],
             [
              0.4444444444444444,
              "#bd3786"
             ],
             [
              0.5555555555555556,
              "#d8576b"
             ],
             [
              0.6666666666666666,
              "#ed7953"
             ],
             [
              0.7777777777777778,
              "#fb9f3a"
             ],
             [
              0.8888888888888888,
              "#fdca26"
             ],
             [
              1,
              "#f0f921"
             ]
            ],
            "type": "heatmapgl"
           }
          ],
          "histogram": [
           {
            "marker": {
             "pattern": {
              "fillmode": "overlay",
              "size": 10,
              "solidity": 0.2
             }
            },
            "type": "histogram"
           }
          ],
          "histogram2d": [
           {
            "colorbar": {
             "outlinewidth": 0,
             "ticks": ""
            },
            "colorscale": [
             [
              0,
              "#0d0887"
             ],
             [
              0.1111111111111111,
              "#46039f"
             ],
             [
              0.2222222222222222,
              "#7201a8"
             ],
             [
              0.3333333333333333,
              "#9c179e"
             ],
             [
              0.4444444444444444,
              "#bd3786"
             ],
             [
              0.5555555555555556,
              "#d8576b"
             ],
             [
              0.6666666666666666,
              "#ed7953"
             ],
             [
              0.7777777777777778,
              "#fb9f3a"
             ],
             [
              0.8888888888888888,
              "#fdca26"
             ],
             [
              1,
              "#f0f921"
             ]
            ],
            "type": "histogram2d"
           }
          ],
          "histogram2dcontour": [
           {
            "colorbar": {
             "outlinewidth": 0,
             "ticks": ""
            },
            "colorscale": [
             [
              0,
              "#0d0887"
             ],
             [
              0.1111111111111111,
              "#46039f"
             ],
             [
              0.2222222222222222,
              "#7201a8"
             ],
             [
              0.3333333333333333,
              "#9c179e"
             ],
             [
              0.4444444444444444,
              "#bd3786"
             ],
             [
              0.5555555555555556,
              "#d8576b"
             ],
             [
              0.6666666666666666,
              "#ed7953"
             ],
             [
              0.7777777777777778,
              "#fb9f3a"
             ],
             [
              0.8888888888888888,
              "#fdca26"
             ],
             [
              1,
              "#f0f921"
             ]
            ],
            "type": "histogram2dcontour"
           }
          ],
          "mesh3d": [
           {
            "colorbar": {
             "outlinewidth": 0,
             "ticks": ""
            },
            "type": "mesh3d"
           }
          ],
          "parcoords": [
           {
            "line": {
             "colorbar": {
              "outlinewidth": 0,
              "ticks": ""
             }
            },
            "type": "parcoords"
           }
          ],
          "pie": [
           {
            "automargin": true,
            "type": "pie"
           }
          ],
          "scatter": [
           {
            "fillpattern": {
             "fillmode": "overlay",
             "size": 10,
             "solidity": 0.2
            },
            "type": "scatter"
           }
          ],
          "scatter3d": [
           {
            "line": {
             "colorbar": {
              "outlinewidth": 0,
              "ticks": ""
             }
            },
            "marker": {
             "colorbar": {
              "outlinewidth": 0,
              "ticks": ""
             }
            },
            "type": "scatter3d"
           }
          ],
          "scattercarpet": [
           {
            "marker": {
             "colorbar": {
              "outlinewidth": 0,
              "ticks": ""
             }
            },
            "type": "scattercarpet"
           }
          ],
          "scattergeo": [
           {
            "marker": {
             "colorbar": {
              "outlinewidth": 0,
              "ticks": ""
             }
            },
            "type": "scattergeo"
           }
          ],
          "scattergl": [
           {
            "marker": {
             "colorbar": {
              "outlinewidth": 0,
              "ticks": ""
             }
            },
            "type": "scattergl"
           }
          ],
          "scattermapbox": [
           {
            "marker": {
             "colorbar": {
              "outlinewidth": 0,
              "ticks": ""
             }
            },
            "type": "scattermapbox"
           }
          ],
          "scatterpolar": [
           {
            "marker": {
             "colorbar": {
              "outlinewidth": 0,
              "ticks": ""
             }
            },
            "type": "scatterpolar"
           }
          ],
          "scatterpolargl": [
           {
            "marker": {
             "colorbar": {
              "outlinewidth": 0,
              "ticks": ""
             }
            },
            "type": "scatterpolargl"
           }
          ],
          "scatterternary": [
           {
            "marker": {
             "colorbar": {
              "outlinewidth": 0,
              "ticks": ""
             }
            },
            "type": "scatterternary"
           }
          ],
          "surface": [
           {
            "colorbar": {
             "outlinewidth": 0,
             "ticks": ""
            },
            "colorscale": [
             [
              0,
              "#0d0887"
             ],
             [
              0.1111111111111111,
              "#46039f"
             ],
             [
              0.2222222222222222,
              "#7201a8"
             ],
             [
              0.3333333333333333,
              "#9c179e"
             ],
             [
              0.4444444444444444,
              "#bd3786"
             ],
             [
              0.5555555555555556,
              "#d8576b"
             ],
             [
              0.6666666666666666,
              "#ed7953"
             ],
             [
              0.7777777777777778,
              "#fb9f3a"
             ],
             [
              0.8888888888888888,
              "#fdca26"
             ],
             [
              1,
              "#f0f921"
             ]
            ],
            "type": "surface"
           }
          ],
          "table": [
           {
            "cells": {
             "fill": {
              "color": "#EBF0F8"
             },
             "line": {
              "color": "white"
             }
            },
            "header": {
             "fill": {
              "color": "#C8D4E3"
             },
             "line": {
              "color": "white"
             }
            },
            "type": "table"
           }
          ]
         },
         "layout": {
          "annotationdefaults": {
           "arrowcolor": "#2a3f5f",
           "arrowhead": 0,
           "arrowwidth": 1
          },
          "autotypenumbers": "strict",
          "coloraxis": {
           "colorbar": {
            "outlinewidth": 0,
            "ticks": ""
           }
          },
          "colorscale": {
           "diverging": [
            [
             0,
             "#8e0152"
            ],
            [
             0.1,
             "#c51b7d"
            ],
            [
             0.2,
             "#de77ae"
            ],
            [
             0.3,
             "#f1b6da"
            ],
            [
             0.4,
             "#fde0ef"
            ],
            [
             0.5,
             "#f7f7f7"
            ],
            [
             0.6,
             "#e6f5d0"
            ],
            [
             0.7,
             "#b8e186"
            ],
            [
             0.8,
             "#7fbc41"
            ],
            [
             0.9,
             "#4d9221"
            ],
            [
             1,
             "#276419"
            ]
           ],
           "sequential": [
            [
             0,
             "#0d0887"
            ],
            [
             0.1111111111111111,
             "#46039f"
            ],
            [
             0.2222222222222222,
             "#7201a8"
            ],
            [
             0.3333333333333333,
             "#9c179e"
            ],
            [
             0.4444444444444444,
             "#bd3786"
            ],
            [
             0.5555555555555556,
             "#d8576b"
            ],
            [
             0.6666666666666666,
             "#ed7953"
            ],
            [
             0.7777777777777778,
             "#fb9f3a"
            ],
            [
             0.8888888888888888,
             "#fdca26"
            ],
            [
             1,
             "#f0f921"
            ]
           ],
           "sequentialminus": [
            [
             0,
             "#0d0887"
            ],
            [
             0.1111111111111111,
             "#46039f"
            ],
            [
             0.2222222222222222,
             "#7201a8"
            ],
            [
             0.3333333333333333,
             "#9c179e"
            ],
            [
             0.4444444444444444,
             "#bd3786"
            ],
            [
             0.5555555555555556,
             "#d8576b"
            ],
            [
             0.6666666666666666,
             "#ed7953"
            ],
            [
             0.7777777777777778,
             "#fb9f3a"
            ],
            [
             0.8888888888888888,
             "#fdca26"
            ],
            [
             1,
             "#f0f921"
            ]
           ]
          },
          "colorway": [
           "#636efa",
           "#EF553B",
           "#00cc96",
           "#ab63fa",
           "#FFA15A",
           "#19d3f3",
           "#FF6692",
           "#B6E880",
           "#FF97FF",
           "#FECB52"
          ],
          "font": {
           "color": "#2a3f5f"
          },
          "geo": {
           "bgcolor": "white",
           "lakecolor": "white",
           "landcolor": "white",
           "showlakes": true,
           "showland": true,
           "subunitcolor": "#C8D4E3"
          },
          "hoverlabel": {
           "align": "left"
          },
          "hovermode": "closest",
          "mapbox": {
           "style": "light"
          },
          "paper_bgcolor": "white",
          "plot_bgcolor": "white",
          "polar": {
           "angularaxis": {
            "gridcolor": "#EBF0F8",
            "linecolor": "#EBF0F8",
            "ticks": ""
           },
           "bgcolor": "white",
           "radialaxis": {
            "gridcolor": "#EBF0F8",
            "linecolor": "#EBF0F8",
            "ticks": ""
           }
          },
          "scene": {
           "xaxis": {
            "backgroundcolor": "white",
            "gridcolor": "#DFE8F3",
            "gridwidth": 2,
            "linecolor": "#EBF0F8",
            "showbackground": true,
            "ticks": "",
            "zerolinecolor": "#EBF0F8"
           },
           "yaxis": {
            "backgroundcolor": "white",
            "gridcolor": "#DFE8F3",
            "gridwidth": 2,
            "linecolor": "#EBF0F8",
            "showbackground": true,
            "ticks": "",
            "zerolinecolor": "#EBF0F8"
           },
           "zaxis": {
            "backgroundcolor": "white",
            "gridcolor": "#DFE8F3",
            "gridwidth": 2,
            "linecolor": "#EBF0F8",
            "showbackground": true,
            "ticks": "",
            "zerolinecolor": "#EBF0F8"
           }
          },
          "shapedefaults": {
           "line": {
            "color": "#2a3f5f"
           }
          },
          "ternary": {
           "aaxis": {
            "gridcolor": "#DFE8F3",
            "linecolor": "#A2B1C6",
            "ticks": ""
           },
           "baxis": {
            "gridcolor": "#DFE8F3",
            "linecolor": "#A2B1C6",
            "ticks": ""
           },
           "bgcolor": "white",
           "caxis": {
            "gridcolor": "#DFE8F3",
            "linecolor": "#A2B1C6",
            "ticks": ""
           }
          },
          "title": {
           "x": 0.05
          },
          "xaxis": {
           "automargin": true,
           "gridcolor": "#EBF0F8",
           "linecolor": "#EBF0F8",
           "ticks": "",
           "title": {
            "standoff": 15
           },
           "zerolinecolor": "#EBF0F8",
           "zerolinewidth": 2
          },
          "yaxis": {
           "automargin": true,
           "gridcolor": "#EBF0F8",
           "linecolor": "#EBF0F8",
           "ticks": "",
           "title": {
            "standoff": 15
           },
           "zerolinecolor": "#EBF0F8",
           "zerolinewidth": 2
          }
         }
        },
        "title": {
         "text": "Investment by Developer Category and Sector"
        },
        "xaxis": {
         "anchor": "y",
         "categoryorder": "total descending",
         "domain": [
          0,
          1
         ],
         "title": {
          "text": "Sector"
         }
        },
        "yaxis": {
         "anchor": "x",
         "domain": [
          0,
          1
         ],
         "title": {
          "text": "Average Investment (USD Million)"
         }
        }
       }
      }
     },
     "metadata": {},
     "output_type": "display_data"
    }
   ],
   "source": [
    "# Analyze developer categories by sector\n",
    "large_early_projects['Developer Category'] = large_early_projects['Developer Category'].fillna('Unknown')\n",
    "category_sector = pd.crosstab(\n",
    "    large_early_projects['source'],\n",
    "    large_early_projects['Developer Category']\n",
    ")\n",
    "\n",
    "# Calculate percentages\n",
    "category_sector_pct = category_sector.div(category_sector.sum(axis=1), axis=0) * 100\n",
    "\n",
    "# Plot stacked bars with percentages\n",
    "category_sector_pct.plot(\n",
    "    kind='bar',\n",
    "    stacked=True,\n",
    "    figsize=(12, 7),\n",
    "    colormap='tab10'\n",
    ")\n",
    "\n",
    "plt.title('Developer Category Distribution by Sector (%)', fontsize=16)\n",
    "plt.xlabel('Sector', fontsize=14)\n",
    "plt.ylabel('Percentage', fontsize=14)\n",
    "plt.xticks(rotation=0)\n",
    "plt.legend(title='Developer Category', bbox_to_anchor=(1.05, 1), loc='upper left')\n",
    "plt.grid(axis='y', linestyle='--', alpha=0.7)\n",
    "\n",
    "# Add count annotations\n",
    "for i, row in enumerate(category_sector.itertuples()):\n",
    "    sector = row[0]\n",
    "    total = sum(category_sector.loc[sector])\n",
    "    plt.text(i, 105, f'n={total}', ha='center', fontweight='bold')\n",
    "\n",
    "plt.tight_layout()\n",
    "plt.show()\n",
    "\n",
    "# Create a bubble chart of investment by developer category and sector\n",
    "large_early_projects['Count'] = 1\n",
    "bubble_data = large_early_projects.groupby(['source', 'Developer Category']).agg(\n",
    "    Count=('Count', 'sum'),\n",
    "    Total_Investment=('Investment (USD Million)', 'sum'),\n",
    "    Avg_Investment=('Investment (USD Million)', 'mean')\n",
    ").reset_index()\n",
    "\n",
    "fig = px.scatter(\n",
    "    bubble_data,\n",
    "    x='source',\n",
    "    y='Avg_Investment',\n",
    "    size='Total_Investment',\n",
    "    color='Developer Category',\n",
    "    hover_name='Developer Category',\n",
    "    text='Count',\n",
    "    size_max=60,\n",
    "    title='Investment by Developer Category and Sector',\n",
    "    labels={\n",
    "        'source': 'Sector',\n",
    "        'Avg_Investment': 'Average Investment (USD Million)',\n",
    "        'Total_Investment': 'Total Investment (USD Million)'\n",
    "    }\n",
    ")\n",
    "\n",
    "fig.update_traces(\n",
    "    textposition='top center',\n",
    "    textfont=dict(color='white')\n",
    ")\n",
    "\n",
    "fig.update_layout(\n",
    "    template=\"plotly_white\",\n",
    "    height=600,\n",
    "    xaxis={'categoryorder':'total descending'}\n",
    ")\n",
    "\n",
    "fig.show()"
   ]
  },
  {
   "cell_type": "code",
   "execution_count": 20,
   "metadata": {},
   "outputs": [
    {
     "data": {
      "image/png": "[encoded data removed]",
      "text/plain": [
       "<Figure size 1600x1000 with 2 Axes>"
      ]
     },
     "metadata": {},
     "output_type": "display_data"
    }
   ],
   "source": [
    "# Create a more detailed geographic analysis\n",
    "# You might need to customize this based on the actual state names in your data\n",
    "\n",
    "# India state abbreviations (sample - adjust based on your data)\n",
    "state_abbrev = {\n",
    "    'Andhra Pradesh': 'AP', 'Karnataka': 'KA', 'Tamil Nadu': 'TN', \n",
    "    'Gujarat': 'GJ', 'Rajasthan': 'RJ', 'Maharashtra': 'MH',\n",
    "    'Telangana': 'TG', 'Odisha': 'OD', 'Madhya Pradesh': 'MP',\n",
    "    'Haryana': 'HR', 'Kerala': 'KL', 'Bihar': 'BR',\n",
    "    'Uttar Pradesh': 'UP', 'West Bengal': 'WB', 'Punjab': 'PB',\n",
    "    'Delhi': 'DL', 'Jharkhand': 'JH', 'Uttarakhand': 'UK',\n",
    "    'Himachal Pradesh': 'HP', 'Chhattisgarh': 'CT'\n",
    "}\n",
    "\n",
    "# Count projects by state and sector\n",
    "state_analysis = large_early_projects.groupby(['State', 'source']).agg(\n",
    "    Count=('Investment (USD Million)', 'count'),\n",
    "    Total_Investment=('Investment (USD Million)', 'sum')\n",
    ").reset_index()\n",
    "\n",
    "# Create choropleth map if you have the necessary geojson file\n",
    "# This would require an India states geojson file and additional setup\n",
    "# As an alternative, let's create a heatmap-style visualization\n",
    "\n",
    "state_pivot = pd.pivot_table(\n",
    "    state_analysis,\n",
    "    values='Total_Investment',\n",
    "    index='State',\n",
    "    columns='source',\n",
    "    aggfunc='sum',\n",
    "    fill_value=0\n",
    ")\n",
    "\n",
    "plt.figure(figsize=(16, 10))\n",
    "sns.heatmap(\n",
    "    state_pivot,\n",
    "    annot=True,\n",
    "    fmt='.0f',\n",
    "    cmap='YlGnBu',\n",
    "    linewidths=.5\n",
    ")\n",
    "plt.title('Total Investment (USD Million) by State and Sector', fontsize=18)\n",
    "plt.xticks(rotation=45, ha='right')\n",
    "plt.tight_layout()\n",
    "plt.show()\n",
    "\n",
    "# Alternative: Create a bubble chart on a simple state grid\n",
    "# This is a simplified visualization approach without actual mapping"
   ]
  },
  {
   "cell_type": "code",
   "execution_count": 21,
   "metadata": {},
   "outputs": [
    {
     "data": {
      "application/vnd.plotly.v1+json": {
       "config": {
        "plotlyServerURL": "https://plot.ly"
       },
       "data": [
        {
         "marker": {
          "color": [
           "#636EFA",
           "#EF553B",
           "#00CC96",
           "#AB63FA",
           "#FFA15A",
           "#19D3F3",
           "#FF6692",
           "#B6E880",
           "#FF97FF",
           "#FECB52"
          ]
         },
         "type": "bar",
         "x": [
          "hydrogen",
          "solar",
          "biogas",
          "grid"
         ],
         "xaxis": "x",
         "y": [
          17,
          5,
          2,
          1
         ],
         "yaxis": "y"
        },
        {
         "domain": {
          "x": [
           0.55,
           1
          ],
          "y": [
           0.625,
           1
          ]
         },
         "hole": 0.4,
         "labels": [
          "Karnataka",
          "Odisha",
          "Haryana",
          "Andhra Pradesh",
          "Tamil Nadu"
         ],
         "type": "pie",
         "values": [
          17243.59,
          12064,
          9481.48,
          8070,
          7021.4800000000005
         ]
        },
        {
         "marker": {
          "color": "royalblue"
         },
         "nbinsx": 10,
         "type": "histogram",
         "x": [
          2962.96,
          9481.48,
          668,
          6172.84,
          6419.75,
          6478,
          6478.27,
          507.28,
          573.62,
          3086,
          4938.27,
          550,
          2500,
          1851,
          766.67,
          766.67,
          8070,
          2800,
          766.67,
          3296,
          740.74,
          691.36,
          864.2,
          2308.64,
          543.21
         ],
         "xaxis": "x2",
         "yaxis": "y2"
        },
        {
         "marker": {
          "color": "green"
         },
         "orientation": "h",
         "type": "bar",
         "x": [
          3,
          3,
          2,
          1,
          1
         ],
         "xaxis": "x3",
         "y": [
          "ACME Cleantech Solutions Private Limited",
          "Avaada Energy Private Limited",
          "Coal India Limited",
          "GDBIOGAS PVT LTD",
          "L&T Electrolysers Limited"
         ],
         "yaxis": "y3"
        }
       ],
       "layout": {
        "annotations": [
         {
          "font": {
           "size": 16
          },
          "showarrow": false,
          "text": "Projects by Sector",
          "x": 0.225,
          "xanchor": "center",
          "xref": "paper",
          "y": 1,
          "yanchor": "bottom",
          "yref": "paper"
         },
         {
          "font": {
           "size": 16
          },
          "showarrow": false,
          "text": "Top 5 States by Investment",
          "x": 0.775,
          "xanchor": "center",
          "xref": "paper",
          "y": 1,
          "yanchor": "bottom",
          "yref": "paper"
         },
         {
          "font": {
           "size": 16
          },
          "showarrow": false,
          "text": "Investment Size Distribution",
          "x": 0.225,
          "xanchor": "center",
          "xref": "paper",
          "y": 0.375,
          "yanchor": "bottom",
          "yref": "paper"
         },
         {
          "font": {
           "size": 16
          },
          "showarrow": false,
          "text": "Top Developers",
          "x": 0.775,
          "xanchor": "center",
          "xref": "paper",
          "y": 0.375,
          "yanchor": "bottom",
          "yref": "paper"
         }
        ],
        "height": 800,
        "showlegend": false,
        "template": {
         "data": {
          "bar": [
           {
            "error_x": {
             "color": "#2a3f5f"
            },
            "error_y": {
             "color": "#2a3f5f"
            },
            "marker": {
             "line": {
              "color": "white",
              "width": 0.5
             },
             "pattern": {
              "fillmode": "overlay",
              "size": 10,
              "solidity": 0.2
             }
            },
            "type": "bar"
           }
          ],
          "barpolar": [
           {
            "marker": {
             "line": {
              "color": "white",
              "width": 0.5
             },
             "pattern": {
              "fillmode": "overlay",
              "size": 10,
              "solidity": 0.2
             }
            },
            "type": "barpolar"
           }
          ],
          "carpet": [
           {
            "aaxis": {
             "endlinecolor": "#2a3f5f",
             "gridcolor": "#C8D4E3",
             "linecolor": "#C8D4E3",
             "minorgridcolor": "#C8D4E3",
             "startlinecolor": "#2a3f5f"
            },
            "baxis": {
             "endlinecolor": "#2a3f5f",
             "gridcolor": "#C8D4E3",
             "linecolor": "#C8D4E3",
             "minorgridcolor": "#C8D4E3",
             "startlinecolor": "#2a3f5f"
            },
            "type": "carpet"
           }
          ],
          "choropleth": [
           {
            "colorbar": {
             "outlinewidth": 0,
             "ticks": ""
            },
            "type": "choropleth"
           }
          ],
          "contour": [
           {
            "colorbar": {
             "outlinewidth": 0,
             "ticks": ""
            },
            "colorscale": [
             [
              0,
              "#0d0887"
             ],
             [
              0.1111111111111111,
              "#46039f"
             ],
             [
              0.2222222222222222,
              "#7201a8"
             ],
             [
              0.3333333333333333,
              "#9c179e"
             ],
             [
              0.4444444444444444,
              "#bd3786"
             ],
             [
              0.5555555555555556,
              "#d8576b"
             ],
             [
              0.6666666666666666,
              "#ed7953"
             ],
             [
              0.7777777777777778,
              "#fb9f3a"
             ],
             [
              0.8888888888888888,
              "#fdca26"
             ],
             [
              1,
              "#f0f921"
             ]
            ],
            "type": "contour"
           }
          ],
          "contourcarpet": [
           {
            "colorbar": {
             "outlinewidth": 0,
             "ticks": ""
            },
            "type": "contourcarpet"
           }
          ],
          "heatmap": [
           {
            "colorbar": {
             "outlinewidth": 0,
             "ticks": ""
            },
            "colorscale": [
             [
              0,
              "#0d0887"
             ],
             [
              0.1111111111111111,
              "#46039f"
             ],
             [
              0.2222222222222222,
              "#7201a8"
             ],
             [
              0.3333333333333333,
              "#9c179e"
             ],
             [
              0.4444444444444444,
              "#bd3786"
             ],
             [
              0.5555555555555556,
              "#d8576b"
             ],
             [
              0.6666666666666666,
              "#ed7953"
             ],
             [
              0.7777777777777778,
              "#fb9f3a"
             ],
             [
              0.8888888888888888,
              "#fdca26"
             ],
             [
              1,
              "#f0f921"
             ]
            ],
            "type": "heatmap"
           }
          ],
          "heatmapgl": [
           {
            "colorbar": {
             "outlinewidth": 0,
             "ticks": ""
            },
            "colorscale": [
             [
              0,
              "#0d0887"
             ],
             [
              0.1111111111111111,
              "#46039f"
             ],
             [
              0.2222222222222222,
              "#7201a8"
             ],
             [
              0.3333333333333333,
              "#9c179e"
             ],
             [
              0.4444444444444444,
              "#bd3786"
             ],
             [
              0.5555555555555556,
              "#d8576b"
             ],
             [
              0.6666666666666666,
              "#ed7953"
             ],
             [
              0.7777777777777778,
              "#fb9f3a"
             ],
             [
              0.8888888888888888,
              "#fdca26"
             ],
             [
              1,
              "#f0f921"
             ]
            ],
            "type": "heatmapgl"
           }
          ],
          "histogram": [
           {
            "marker": {
             "pattern": {
              "fillmode": "overlay",
              "size": 10,
              "solidity": 0.2
             }
            },
            "type": "histogram"
           }
          ],
          "histogram2d": [
           {
            "colorbar": {
             "outlinewidth": 0,
             "ticks": ""
            },
            "colorscale": [
             [
              0,
              "#0d0887"
             ],
             [
              0.1111111111111111,
              "#46039f"
             ],
             [
              0.2222222222222222,
              "#7201a8"
             ],
             [
              0.3333333333333333,
              "#9c179e"
             ],
             [
              0.4444444444444444,
              "#bd3786"
             ],
             [
              0.5555555555555556,
              "#d8576b"
             ],
             [
              0.6666666666666666,
              "#ed7953"
             ],
             [
              0.7777777777777778,
              "#fb9f3a"
             ],
             [
              0.8888888888888888,
              "#fdca26"
             ],
             [
              1,
              "#f0f921"
             ]
            ],
            "type": "histogram2d"
           }
          ],
          "histogram2dcontour": [
           {
            "colorbar": {
             "outlinewidth": 0,
             "ticks": ""
            },
            "colorscale": [
             [
              0,
              "#0d0887"
             ],
             [
              0.1111111111111111,
              "#46039f"
             ],
             [
              0.2222222222222222,
              "#7201a8"
             ],
             [
              0.3333333333333333,
              "#9c179e"
             ],
             [
              0.4444444444444444,
              "#bd3786"
             ],
             [
              0.5555555555555556,
              "#d8576b"
             ],
             [
              0.6666666666666666,
              "#ed7953"
             ],
             [
              0.7777777777777778,
              "#fb9f3a"
             ],
             [
              0.8888888888888888,
              "#fdca26"
             ],
             [
              1,
              "#f0f921"
             ]
            ],
            "type": "histogram2dcontour"
           }
          ],
          "mesh3d": [
           {
            "colorbar": {
             "outlinewidth": 0,
             "ticks": ""
            },
            "type": "mesh3d"
           }
          ],
          "parcoords": [
           {
            "line": {
             "colorbar": {
              "outlinewidth": 0,
              "ticks": ""
             }
            },
            "type": "parcoords"
           }
          ],
          "pie": [
           {
            "automargin": true,
            "type": "pie"
           }
          ],
          "scatter": [
           {
            "fillpattern": {
             "fillmode": "overlay",
             "size": 10,
             "solidity": 0.2
            },
            "type": "scatter"
           }
          ],
          "scatter3d": [
           {
            "line": {
             "colorbar": {
              "outlinewidth": 0,
              "ticks": ""
             }
            },
            "marker": {
             "colorbar": {
              "outlinewidth": 0,
              "ticks": ""
             }
            },
            "type": "scatter3d"
           }
          ],
          "scattercarpet": [
           {
            "marker": {
             "colorbar": {
              "outlinewidth": 0,
              "ticks": ""
             }
            },
            "type": "scattercarpet"
           }
          ],
          "scattergeo": [
           {
            "marker": {
             "colorbar": {
              "outlinewidth": 0,
              "ticks": ""
             }
            },
            "type": "scattergeo"
           }
          ],
          "scattergl": [
           {
            "marker": {
             "colorbar": {
              "outlinewidth": 0,
              "ticks": ""
             }
            },
            "type": "scattergl"
           }
          ],
          "scattermapbox": [
           {
            "marker": {
             "colorbar": {
              "outlinewidth": 0,
              "ticks": ""
             }
            },
            "type": "scattermapbox"
           }
          ],
          "scatterpolar": [
           {
            "marker": {
             "colorbar": {
              "outlinewidth": 0,
              "ticks": ""
             }
            },
            "type": "scatterpolar"
           }
          ],
          "scatterpolargl": [
           {
            "marker": {
             "colorbar": {
              "outlinewidth": 0,
              "ticks": ""
             }
            },
            "type": "scatterpolargl"
           }
          ],
          "scatterternary": [
           {
            "marker": {
             "colorbar": {
              "outlinewidth": 0,
              "ticks": ""
             }
            },
            "type": "scatterternary"
           }
          ],
          "surface": [
           {
            "colorbar": {
             "outlinewidth": 0,
             "ticks": ""
            },
            "colorscale": [
             [
              0,
              "#0d0887"
             ],
             [
              0.1111111111111111,
              "#46039f"
             ],
             [
              0.2222222222222222,
              "#7201a8"
             ],
             [
              0.3333333333333333,
              "#9c179e"
             ],
             [
              0.4444444444444444,
              "#bd3786"
             ],
             [
              0.5555555555555556,
              "#d8576b"
             ],
             [
              0.6666666666666666,
              "#ed7953"
             ],
             [
              0.7777777777777778,
              "#fb9f3a"
             ],
             [
              0.8888888888888888,
              "#fdca26"
             ],
             [
              1,
              "#f0f921"
             ]
            ],
            "type": "surface"
           }
          ],
          "table": [
           {
            "cells": {
             "fill": {
              "color": "#EBF0F8"
             },
             "line": {
              "color": "white"
             }
            },
            "header": {
             "fill": {
              "color": "#C8D4E3"
             },
             "line": {
              "color": "white"
             }
            },
            "type": "table"
           }
          ]
         },
         "layout": {
          "annotationdefaults": {
           "arrowcolor": "#2a3f5f",
           "arrowhead": 0,
           "arrowwidth": 1
          },
          "autotypenumbers": "strict",
          "coloraxis": {
           "colorbar": {
            "outlinewidth": 0,
            "ticks": ""
           }
          },
          "colorscale": {
           "diverging": [
            [
             0,
             "#8e0152"
            ],
            [
             0.1,
             "#c51b7d"
            ],
            [
             0.2,
             "#de77ae"
            ],
            [
             0.3,
             "#f1b6da"
            ],
            [
             0.4,
             "#fde0ef"
            ],
            [
             0.5,
             "#f7f7f7"
            ],
            [
             0.6,
             "#e6f5d0"
            ],
            [
             0.7,
             "#b8e186"
            ],
            [
             0.8,
             "#7fbc41"
            ],
            [
             0.9,
             "#4d9221"
            ],
            [
             1,
             "#276419"
            ]
           ],
           "sequential": [
            [
             0,
             "#0d0887"
            ],
            [
             0.1111111111111111,
             "#46039f"
            ],
            [
             0.2222222222222222,
             "#7201a8"
            ],
            [
             0.3333333333333333,
             "#9c179e"
            ],
            [
             0.4444444444444444,
             "#bd3786"
            ],
            [
             0.5555555555555556,
             "#d8576b"
            ],
            [
             0.6666666666666666,
             "#ed7953"
            ],
            [
             0.7777777777777778,
             "#fb9f3a"
            ],
            [
             0.8888888888888888,
             "#fdca26"
            ],
            [
             1,
             "#f0f921"
            ]
           ],
           "sequentialminus": [
            [
             0,
             "#0d0887"
            ],
            [
             0.1111111111111111,
             "#46039f"
            ],
            [
             0.2222222222222222,
             "#7201a8"
            ],
            [
             0.3333333333333333,
             "#9c179e"
            ],
            [
             0.4444444444444444,
             "#bd3786"
            ],
            [
             0.5555555555555556,
             "#d8576b"
            ],
            [
             0.6666666666666666,
             "#ed7953"
            ],
            [
             0.7777777777777778,
             "#fb9f3a"
            ],
            [
             0.8888888888888888,
             "#fdca26"
            ],
            [
             1,
             "#f0f921"
            ]
           ]
          },
          "colorway": [
           "#636efa",
           "#EF553B",
           "#00cc96",
           "#ab63fa",
           "#FFA15A",
           "#19d3f3",
           "#FF6692",
           "#B6E880",
           "#FF97FF",
           "#FECB52"
          ],
          "font": {
           "color": "#2a3f5f"
          },
          "geo": {
           "bgcolor": "white",
           "lakecolor": "white",
           "landcolor": "white",
           "showlakes": true,
           "showland": true,
           "subunitcolor": "#C8D4E3"
          },
          "hoverlabel": {
           "align": "left"
          },
          "hovermode": "closest",
          "mapbox": {
           "style": "light"
          },
          "paper_bgcolor": "white",
          "plot_bgcolor": "white",
          "polar": {
           "angularaxis": {
            "gridcolor": "#EBF0F8",
            "linecolor": "#EBF0F8",
            "ticks": ""
           },
           "bgcolor": "white",
           "radialaxis": {
            "gridcolor": "#EBF0F8",
            "linecolor": "#EBF0F8",
            "ticks": ""
           }
          },
          "scene": {
           "xaxis": {
            "backgroundcolor": "white",
            "gridcolor": "#DFE8F3",
            "gridwidth": 2,
            "linecolor": "#EBF0F8",
            "showbackground": true,
            "ticks": "",
            "zerolinecolor": "#EBF0F8"
           },
           "yaxis": {
            "backgroundcolor": "white",
            "gridcolor": "#DFE8F3",
            "gridwidth": 2,
            "linecolor": "#EBF0F8",
            "showbackground": true,
            "ticks": "",
            "zerolinecolor": "#EBF0F8"
           },
           "zaxis": {
            "backgroundcolor": "white",
            "gridcolor": "#DFE8F3",
            "gridwidth": 2,
            "linecolor": "#EBF0F8",
            "showbackground": true,
            "ticks": "",
            "zerolinecolor": "#EBF0F8"
           }
          },
          "shapedefaults": {
           "line": {
            "color": "#2a3f5f"
           }
          },
          "ternary": {
           "aaxis": {
            "gridcolor": "#DFE8F3",
            "linecolor": "#A2B1C6",
            "ticks": ""
           },
           "baxis": {
            "gridcolor": "#DFE8F3",
            "linecolor": "#A2B1C6",
            "ticks": ""
           },
           "bgcolor": "white",
           "caxis": {
            "gridcolor": "#DFE8F3",
            "linecolor": "#A2B1C6",
            "ticks": ""
           }
          },
          "title": {
           "x": 0.05
          },
          "xaxis": {
           "automargin": true,
           "gridcolor": "#EBF0F8",
           "linecolor": "#EBF0F8",
           "ticks": "",
           "title": {
            "standoff": 15
           },
           "zerolinecolor": "#EBF0F8",
           "zerolinewidth": 2
          },
          "yaxis": {
           "automargin": true,
           "gridcolor": "#EBF0F8",
           "linecolor": "#EBF0F8",
           "ticks": "",
           "title": {
            "standoff": 15
           },
           "zerolinecolor": "#EBF0F8",
           "zerolinewidth": 2
          }
         }
        },
        "title": {
         "text": "Large Projects (>$500M) Dashboard for ACTUAL Market Entry"
        },
        "xaxis": {
         "anchor": "y",
         "domain": [
          0,
          0.45
         ]
        },
        "xaxis2": {
         "anchor": "y2",
         "domain": [
          0,
          0.45
         ]
        },
        "xaxis3": {
         "anchor": "y3",
         "domain": [
          0.55,
          1
         ]
        },
        "yaxis": {
         "anchor": "x",
         "domain": [
          0.625,
          1
         ]
        },
        "yaxis2": {
         "anchor": "x2",
         "domain": [
          0,
          0.375
         ]
        },
        "yaxis3": {
         "anchor": "x3",
         "domain": [
          0,
          0.375
         ]
        }
       }
      }
     },
     "metadata": {},
     "output_type": "display_data"
    }
   ],
   "source": [
    "from IPython.display import HTML\n",
    "import plotly.io as pio\n",
    "\n",
    "# Create a simple dashboard with multiple charts\n",
    "dashboard_title = \"Large Projects (>$500M) Dashboard for ACTUAL Market Entry\"\n",
    "\n",
    "# Create subplot figure\n",
    "fig = make_subplots(\n",
    "    rows=2, cols=2,\n",
    "    subplot_titles=(\n",
    "        \"Projects by Sector\", \n",
    "        \"Top 5 States by Investment\", \n",
    "        \"Investment Size Distribution\",\n",
    "        \"Top Developers\"\n",
    "    ),\n",
    "    specs=[\n",
    "        [{\"type\": \"bar\"}, {\"type\": \"pie\"}],\n",
    "        [{\"type\": \"bar\"}, {\"type\": \"bar\"}]\n",
    "    ]\n",
    ")\n",
    "\n",
    "# 1. Projects by Sector\n",
    "sector_counts = large_early_projects['source'].value_counts()\n",
    "fig.add_trace(\n",
    "    go.Bar(\n",
    "        x=sector_counts.index, \n",
    "        y=sector_counts.values,\n",
    "        marker_color=px.colors.qualitative.Plotly\n",
    "    ),\n",
    "    row=1, col=1\n",
    ")\n",
    "\n",
    "# 2. Top 5 States by Investment\n",
    "state_investment = large_early_projects.groupby('State')['Investment (USD Million)'].sum().reset_index()\n",
    "state_investment = state_investment.sort_values('Investment (USD Million)', ascending=False).head(5)\n",
    "fig.add_trace(\n",
    "    go.Pie(\n",
    "        labels=state_investment['State'],\n",
    "        values=state_investment['Investment (USD Million)'],\n",
    "        hole=.4\n",
    "    ),\n",
    "    row=1, col=2\n",
    ")\n",
    "\n",
    "# 3. Investment Size Distribution\n",
    "fig.add_trace(\n",
    "    go.Histogram(\n",
    "        x=large_early_projects['Investment (USD Million)'],\n",
    "        nbinsx=10,\n",
    "        marker_color='royalblue'\n",
    "    ),\n",
    "    row=2, col=1\n",
    ")\n",
    "\n",
    "# 4. Top Developers\n",
    "top_5_devs = large_early_projects['Developersorted ascending'].value_counts().head(5)\n",
    "fig.add_trace(\n",
    "    go.Bar(\n",
    "        y=top_5_devs.index,\n",
    "        x=top_5_devs.values,\n",
    "        orientation='h',\n",
    "        marker_color='green'\n",
    "    ),\n",
    "    row=2, col=2\n",
    ")\n",
    "\n",
    "# Update layout\n",
    "fig.update_layout(\n",
    "    title=dashboard_title,\n",
    "    height=800,\n",
    "    showlegend=False,\n",
    "    template=\"plotly_white\"\n",
    ")\n",
    "\n",
    "# Display the dashboard\n",
    "fig.show()\n",
    "\n",
    "# Save to HTML (optional)\n",
    "# pio.write_html(fig, file='large_projects_dashboard.html')\n",
    "# HTML('<iframe src=\"large_projects_dashboard.html\" width=\"100%\" height=\"800px\"></iframe>')"
   ]
  },
  {
   "cell_type": "code",
   "execution_count": 22,
   "metadata": {},
   "outputs": [
    {
     "data": {
      "text/markdown": [
       "\n",
       "# Summary of Findings for ACTUAL Market Entry in India\n",
       "\n",
       "## Key Insights for Large Projects (>$500M)\n",
       "\n",
       "1. **Sector Opportunities**: \n",
       "   - Hydrogen has the largest average project size ($3.2B)\n",
       "   - Grid and Solar sectors have the most early-stage projects\n",
       "\n",
       "2. **Regional Focus**:\n",
       "   - Karnataka, Gujarat, and Rajasthan are the top 3 states for large projects\n",
       "   - Different sectors dominate different states:\n",
       "     - Karnataka: Hydrogen and Solar\n",
       "     - Gujarat: Diverse across sectors\n",
       "     - Rajasthan: Grid-scale projects\n",
       "\n",
       "3. **Project Status**:\n",
       "   - Most hydrogen projects are in the Announcement stage\n",
       "   - Grid projects are primarily in Permitting stage\n",
       "   - Overall: Announced: 13, Permitting: 12\n",
       "\n",
       "4. **Developer Landscape**:\n",
       "   - Private developers dominate hydrogen sector (94.1%)\n",
       "   - PSUs are more prevalent in grid-scale projects (100.0%)\n",
       "   - Top 3 developers: ACME Cleantech Solutions Private Limited, Avaada Energy Private Limited, Coal India Limited\n",
       "\n",
       "## Recommended Market Entry Strategy\n",
       "\n",
       "1. **Target Projects**: \n",
       "   - Focus on 25 identified projects >$500M in early stages\n",
       "   - Prioritize by sector: Hydrogen > Grid > Solar\n",
       "\n",
       "2. **Geographic Strategy**:\n",
       "   - Primary: Karnataka and Gujarat\n",
       "   - Secondary: Rajasthan and Tamil Nadu\n",
       "\n",
       "3. **Stakeholder Approach**:\n",
       "   - For hydrogen: Target private developers\n",
       "   - For grid: Approach PSUs with public-private partnership solutions\n",
       "   - Build relationships with the top 5 developers that control 40.0% of large projects\n",
       "\n",
       "4. **Timeline Consideration**:\n",
       "   - Most announced hydrogen projects aim for 2025-2027 completion\n",
       "   - Grid projects have accelerated timelines (2024-2025)\n"
      ],
      "text/plain": [
       "<IPython.core.display.Markdown object>"
      ]
     },
     "execution_count": 22,
     "metadata": {},
     "output_type": "execute_result"
    }
   ],
   "source": [
    "\n",
    "from IPython.display import Markdown\n",
    "\n",
    "summary_md = \"\"\"\n",
    "# Summary of Findings for ACTUAL Market Entry in India\n",
    "\n",
    "## Key Insights for Large Projects (>$500M)\n",
    "\n",
    "1. **Sector Opportunities**: \n",
    "   - Hydrogen has the largest average project size ($3.2B)\n",
    "   - Grid and Solar sectors have the most early-stage projects\n",
    "\n",
    "2. **Regional Focus**:\n",
    "   - Karnataka, Gujarat, and Rajasthan are the top 3 states for large projects\n",
    "   - Different sectors dominate different states:\n",
    "     - Karnataka: Hydrogen and Solar\n",
    "     - Gujarat: Diverse across sectors\n",
    "     - Rajasthan: Grid-scale projects\n",
    "\n",
    "3. **Project Status**:\n",
    "   - Most hydrogen projects are in the Announcement stage\n",
    "   - Grid projects are primarily in Permitting stage\n",
    "   - Overall: {status_stats}\n",
    "\n",
    "4. **Developer Landscape**:\n",
    "   - Private developers dominate hydrogen sector ({private_hydrogen_pct:.1f}%)\n",
    "   - PSUs are more prevalent in grid-scale projects ({psu_grid_pct:.1f}%)\n",
    "   - Top 3 developers: {top_3_devs}\n",
    "\n",
    "## Recommended Market Entry Strategy\n",
    "\n",
    "1. **Target Projects**: \n",
    "   - Focus on {total_projects} identified projects >$500M in early stages\n",
    "   - Prioritize by sector: Hydrogen > Grid > Solar\n",
    "\n",
    "2. **Geographic Strategy**:\n",
    "   - Primary: Karnataka and Gujarat\n",
    "   - Secondary: Rajasthan and Tamil Nadu\n",
    "\n",
    "3. **Stakeholder Approach**:\n",
    "   - For hydrogen: Target private developers\n",
    "   - For grid: Approach PSUs with public-private partnership solutions\n",
    "   - Build relationships with the top 5 developers that control {top5_project_pct:.1f}% of large projects\n",
    "\n",
    "4. **Timeline Consideration**:\n",
    "   - Most announced hydrogen projects aim for 2025-2027 completion\n",
    "   - Grid projects have accelerated timelines (2024-2025)\n",
    "\"\"\"\n",
    "\n",
    "# Calculate variables for the markdown\n",
    "status_stats = large_early_projects['Project Status'].value_counts().to_dict()\n",
    "status_stats_str = \", \".join([f\"{k}: {v}\" for k, v in status_stats.items()])\n",
    "\n",
    "private_hydrogen = large_early_projects[\n",
    "    (large_early_projects['source'] == 'hydrogen') & \n",
    "    (large_early_projects['Developer Category'] == 'Private')\n",
    "].shape[0]\n",
    "total_hydrogen = large_early_projects[large_early_projects['source'] == 'hydrogen'].shape[0]\n",
    "private_hydrogen_pct = (private_hydrogen / total_hydrogen * 100) if total_hydrogen > 0 else 0\n",
    "\n",
    "psu_grid = large_early_projects[\n",
    "    (large_early_projects['source'] == 'grid') & \n",
    "    (large_early_projects['Developer Category'] == 'PSU')\n",
    "].shape[0]\n",
    "total_grid = large_early_projects[large_early_projects['source'] == 'grid'].shape[0]\n",
    "psu_grid_pct = (psu_grid / total_grid * 100) if total_grid > 0 else 0\n",
    "\n",
    "top_3_devs = \", \".join(large_early_projects['Developersorted ascending'].value_counts().head(3).index.tolist())\n",
    "\n",
    "total_projects = large_early_projects.shape[0]\n",
    "\n",
    "top5_projects = large_early_projects[\n",
    "    large_early_projects['Developersorted ascending'].isin(\n",
    "        large_early_projects['Developersorted ascending'].value_counts().head(5).index\n",
    "    )\n",
    "].shape[0]\n",
    "top5_project_pct = (top5_projects / total_projects * 100) if total_projects > 0 else 0\n",
    "\n",
    "# Display the summary with calculated variables\n",
    "Markdown(summary_md.format(\n",
    "    status_stats=status_stats_str,\n",
    "    private_hydrogen_pct=private_hydrogen_pct,\n",
    "    psu_grid_pct=psu_grid_pct,\n",
    "    top_3_devs=top_3_devs,\n",
    "    total_projects=total_projects,\n",
    "    top5_project_pct=top5_project_pct\n",
    "))"
   ]
  },
  {
   "cell_type": "code",
   "execution_count": null,
   "metadata": {},
   "outputs": [],
   "source": []
  }
 ],
 "metadata": {
  "kernelspec": {
   "display_name": "PC-Geo",
   "language": "python",
   "name": "python3"
  },
  "language_info": {
   "codemirror_mode": {
    "name": "ipython",
    "version": 3
   },
   "file_extension": ".py",
   "mimetype": "text/x-python",
   "name": "python",
   "nbconvert_exporter": "python",
   "pygments_lexer": "ipython3",
   "version": "3.11.10"
  }
 },
 "nbformat": 4,
 "nbformat_minor": 2
}
